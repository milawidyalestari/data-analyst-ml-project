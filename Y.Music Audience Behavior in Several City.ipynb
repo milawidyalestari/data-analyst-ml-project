{
 "cells": [
  {
   "cell_type": "markdown",
   "metadata": {
    "id": "E0vqbgi9ay0H"
   },
   "source": [
    "# Y.Music"
   ]
  },
  {
   "cell_type": "markdown",
   "metadata": {
    "id": "fhq_eyov_Zcs"
   },
   "source": [
    "# Table of Contents <a id='back'></a>\n",
    "\n",
    "* [Introduction](#intro)\n",
    "* [Stage 1. Data Overview](#data_review)\n",
    "    * [Conclusions](#data_review_conclusions)\n",
    "* [Stage 2. Data Preprocessing](#data_preprocessing)\n",
    "    * [2.1 Header Style](#header_style)\n",
    "    * [2.2 Missing Values](#missing_values)\n",
    "    * [2.3 Duplicates](#duplicates)\n",
    "    * [2.4 Conclusions](#data_preprocessing_conclusions)\n",
    "* [Stage 3. Hypothesis Testing](#hypotheses)\n",
    "    * [3.1 Hypothesis 1: User activity in both cities](#activity)\n",
    "    * [3.2 Hypothesis 2: Music preferences on Monday and Friday](#week)\n",
    "    * [3.3 Hypothesis 3: Genre preferences in Springfield and Shelbyville](#genre)\n",
    "* [Findings](#end)"
   ]
  },
  {
   "cell_type": "markdown",
   "metadata": {
    "id": "VUC88oWjTJw2"
   },
   "source": [
    "## Introduction <a id='intro'></a>\n",
    "Whenever we conduct an analysis, we need to formulate several hypotheses that we will test further. Sometimes, the tests lead us to accept these hypotheses, while other times, we need to reject them. To make informed business decisions, we must understand whether the assumptions we make are correct or not.\n",
    "\n",
    "In this project, you will compare the music preferences of listeners in the cities of Springfield and Shelbyville. You will review real data from Y.Music to test the hypotheses below and compare user behavior in both cities.\n",
    "\n",
    "### Goal:\n",
    "Test three hypotheses:\n",
    "1. User activity varies depending on the day and the city.\n",
    "2. On Monday mornings, residents of Springfield and Shelbyville listen to different genres. This is also true for Friday evenings.\n",
    "3. Listeners in Springfield and Shelbyville have different preferences. In Springfield, users prefer pop music, while in Shelbyville, rap music is more popular.\n",
    "\n",
    "### Steps\n",
    "Data related to user behavior is stored in the file [**music_project_en.csv**](https://raw.githubusercontent.com/milawidyalestari/data-analyst-ml-project/project1-y.music-behavior/music_project_en.csv). There is no information about the quality of this data, so you need to examine it first before testing the hypotheses.\n",
    "\n",
    "First, you will assess the data quality and see if the issues are significant. Then, during data preprocessing, you will try to address the most serious problems.\n",
    "\n",
    "This project consists of three stages:\n",
    "1. Data Overview\n",
    "2. Data Preprocessing\n",
    "3. Hypothesis Testing\n",
    "\n",
    "[Back to Table of Contents](#back)"
   ]
  },
  {
   "cell_type": "markdown",
   "metadata": {
    "id": "Ml1hmfXC_Zcs"
   },
   "source": [
    "## Stage 1. Data Overview <a id='data_review'></a>"
   ]
  },
  {
   "cell_type": "code",
   "execution_count": 1,
   "metadata": {
    "id": "AXN7PHPN_Zcs"
   },
   "outputs": [],
   "source": [
    "# Import Pandas\n",
    "import pandas as pd"
   ]
  },
  {
   "cell_type": "markdown",
   "metadata": {
    "id": "SG23P8tt_Zcs"
   },
   "source": [
    "Read the file `music_project_en.csv` from the folder `/datasets/` and save it to the variable `df`:"
   ]
  },
  {
   "cell_type": "code",
   "execution_count": 2,
   "metadata": {
    "id": "fFVu7vqh_Zct",
    "scrolled": false
   },
   "outputs": [
    {
     "data": {
      "text/html": [
       "<div>\n",
       "<style scoped>\n",
       "    .dataframe tbody tr th:only-of-type {\n",
       "        vertical-align: middle;\n",
       "    }\n",
       "\n",
       "    .dataframe tbody tr th {\n",
       "        vertical-align: top;\n",
       "    }\n",
       "\n",
       "    .dataframe thead th {\n",
       "        text-align: right;\n",
       "    }\n",
       "</style>\n",
       "<table border=\"1\" class=\"dataframe\">\n",
       "  <thead>\n",
       "    <tr style=\"text-align: right;\">\n",
       "      <th></th>\n",
       "      <th>userID</th>\n",
       "      <th>Track</th>\n",
       "      <th>artist</th>\n",
       "      <th>genre</th>\n",
       "      <th>City</th>\n",
       "      <th>time</th>\n",
       "      <th>Day</th>\n",
       "    </tr>\n",
       "  </thead>\n",
       "  <tbody>\n",
       "    <tr>\n",
       "      <th>count</th>\n",
       "      <td>65079</td>\n",
       "      <td>63736</td>\n",
       "      <td>57512</td>\n",
       "      <td>63881</td>\n",
       "      <td>65079</td>\n",
       "      <td>65079</td>\n",
       "      <td>65079</td>\n",
       "    </tr>\n",
       "    <tr>\n",
       "      <th>unique</th>\n",
       "      <td>41748</td>\n",
       "      <td>39666</td>\n",
       "      <td>37806</td>\n",
       "      <td>268</td>\n",
       "      <td>2</td>\n",
       "      <td>20392</td>\n",
       "      <td>3</td>\n",
       "    </tr>\n",
       "    <tr>\n",
       "      <th>top</th>\n",
       "      <td>A8AE9169</td>\n",
       "      <td>Brand</td>\n",
       "      <td>Kartvelli</td>\n",
       "      <td>pop</td>\n",
       "      <td>Springfield</td>\n",
       "      <td>08:14:07</td>\n",
       "      <td>Friday</td>\n",
       "    </tr>\n",
       "    <tr>\n",
       "      <th>freq</th>\n",
       "      <td>76</td>\n",
       "      <td>136</td>\n",
       "      <td>136</td>\n",
       "      <td>8850</td>\n",
       "      <td>45360</td>\n",
       "      <td>14</td>\n",
       "      <td>23149</td>\n",
       "    </tr>\n",
       "  </tbody>\n",
       "</table>\n",
       "</div>"
      ],
      "text/plain": [
       "          userID  Track     artist  genre       City        time     Day\n",
       "count      65079  63736      57512  63881        65079     65079   65079\n",
       "unique     41748  39666      37806    268            2     20392       3\n",
       "top     A8AE9169  Brand  Kartvelli    pop  Springfield  08:14:07  Friday\n",
       "freq          76    136        136   8850        45360        14   23149"
      ]
     },
     "execution_count": 2,
     "metadata": {},
     "output_type": "execute_result"
    }
   ],
   "source": [
    "# Reading the file and saving it to the variable df\n",
    "path = 'https://raw.githubusercontent.com/milawidyalestari/data-analyst-ml-project/project1-y.music-behavior/music_project_en.csv'\n",
    "df = pd.read_csv(path)\n",
    "df.describe()"
   ]
  },
  {
   "cell_type": "markdown",
   "metadata": {
    "id": "rDoOMd3uTqnZ"
   },
   "source": [
    "Display the first 10 rows of the table:"
   ]
  },
  {
   "cell_type": "code",
   "execution_count": 3,
   "metadata": {
    "id": "oWTVX3gW_Zct"
   },
   "outputs": [
    {
     "data": {
      "text/html": [
       "<div>\n",
       "<style scoped>\n",
       "    .dataframe tbody tr th:only-of-type {\n",
       "        vertical-align: middle;\n",
       "    }\n",
       "\n",
       "    .dataframe tbody tr th {\n",
       "        vertical-align: top;\n",
       "    }\n",
       "\n",
       "    .dataframe thead th {\n",
       "        text-align: right;\n",
       "    }\n",
       "</style>\n",
       "<table border=\"1\" class=\"dataframe\">\n",
       "  <thead>\n",
       "    <tr style=\"text-align: right;\">\n",
       "      <th></th>\n",
       "      <th>userID</th>\n",
       "      <th>Track</th>\n",
       "      <th>artist</th>\n",
       "      <th>genre</th>\n",
       "      <th>City</th>\n",
       "      <th>time</th>\n",
       "      <th>Day</th>\n",
       "    </tr>\n",
       "  </thead>\n",
       "  <tbody>\n",
       "    <tr>\n",
       "      <th>0</th>\n",
       "      <td>FFB692EC</td>\n",
       "      <td>Kamigata To Boots</td>\n",
       "      <td>The Mass Missile</td>\n",
       "      <td>rock</td>\n",
       "      <td>Shelbyville</td>\n",
       "      <td>20:28:33</td>\n",
       "      <td>Wednesday</td>\n",
       "    </tr>\n",
       "    <tr>\n",
       "      <th>1</th>\n",
       "      <td>55204538</td>\n",
       "      <td>Delayed Because of Accident</td>\n",
       "      <td>Andreas Rönnberg</td>\n",
       "      <td>rock</td>\n",
       "      <td>Springfield</td>\n",
       "      <td>14:07:09</td>\n",
       "      <td>Friday</td>\n",
       "    </tr>\n",
       "    <tr>\n",
       "      <th>2</th>\n",
       "      <td>20EC38</td>\n",
       "      <td>Funiculì funiculà</td>\n",
       "      <td>Mario Lanza</td>\n",
       "      <td>pop</td>\n",
       "      <td>Shelbyville</td>\n",
       "      <td>20:58:07</td>\n",
       "      <td>Wednesday</td>\n",
       "    </tr>\n",
       "    <tr>\n",
       "      <th>3</th>\n",
       "      <td>A3DD03C9</td>\n",
       "      <td>Dragons in the Sunset</td>\n",
       "      <td>Fire + Ice</td>\n",
       "      <td>folk</td>\n",
       "      <td>Shelbyville</td>\n",
       "      <td>08:37:09</td>\n",
       "      <td>Monday</td>\n",
       "    </tr>\n",
       "    <tr>\n",
       "      <th>4</th>\n",
       "      <td>E2DC1FAE</td>\n",
       "      <td>Soul People</td>\n",
       "      <td>Space Echo</td>\n",
       "      <td>dance</td>\n",
       "      <td>Springfield</td>\n",
       "      <td>08:34:34</td>\n",
       "      <td>Monday</td>\n",
       "    </tr>\n",
       "    <tr>\n",
       "      <th>5</th>\n",
       "      <td>842029A1</td>\n",
       "      <td>Chains</td>\n",
       "      <td>Obladaet</td>\n",
       "      <td>rusrap</td>\n",
       "      <td>Shelbyville</td>\n",
       "      <td>13:09:41</td>\n",
       "      <td>Friday</td>\n",
       "    </tr>\n",
       "    <tr>\n",
       "      <th>6</th>\n",
       "      <td>4CB90AA5</td>\n",
       "      <td>True</td>\n",
       "      <td>Roman Messer</td>\n",
       "      <td>dance</td>\n",
       "      <td>Springfield</td>\n",
       "      <td>13:00:07</td>\n",
       "      <td>Wednesday</td>\n",
       "    </tr>\n",
       "    <tr>\n",
       "      <th>7</th>\n",
       "      <td>F03E1C1F</td>\n",
       "      <td>Feeling This Way</td>\n",
       "      <td>Polina Griffith</td>\n",
       "      <td>dance</td>\n",
       "      <td>Springfield</td>\n",
       "      <td>20:47:49</td>\n",
       "      <td>Wednesday</td>\n",
       "    </tr>\n",
       "    <tr>\n",
       "      <th>8</th>\n",
       "      <td>8FA1D3BE</td>\n",
       "      <td>L’estate</td>\n",
       "      <td>Julia Dalia</td>\n",
       "      <td>ruspop</td>\n",
       "      <td>Springfield</td>\n",
       "      <td>09:17:40</td>\n",
       "      <td>Friday</td>\n",
       "    </tr>\n",
       "    <tr>\n",
       "      <th>9</th>\n",
       "      <td>E772D5C0</td>\n",
       "      <td>Pessimist</td>\n",
       "      <td>NaN</td>\n",
       "      <td>dance</td>\n",
       "      <td>Shelbyville</td>\n",
       "      <td>21:20:49</td>\n",
       "      <td>Wednesday</td>\n",
       "    </tr>\n",
       "  </tbody>\n",
       "</table>\n",
       "</div>"
      ],
      "text/plain": [
       "     userID                        Track            artist   genre  \\\n",
       "0  FFB692EC            Kamigata To Boots  The Mass Missile    rock   \n",
       "1  55204538  Delayed Because of Accident  Andreas Rönnberg    rock   \n",
       "2    20EC38            Funiculì funiculà       Mario Lanza     pop   \n",
       "3  A3DD03C9        Dragons in the Sunset        Fire + Ice    folk   \n",
       "4  E2DC1FAE                  Soul People        Space Echo   dance   \n",
       "5  842029A1                       Chains          Obladaet  rusrap   \n",
       "6  4CB90AA5                         True      Roman Messer   dance   \n",
       "7  F03E1C1F             Feeling This Way   Polina Griffith   dance   \n",
       "8  8FA1D3BE                     L’estate       Julia Dalia  ruspop   \n",
       "9  E772D5C0                    Pessimist               NaN   dance   \n",
       "\n",
       "        City        time        Day  \n",
       "0  Shelbyville  20:28:33  Wednesday  \n",
       "1  Springfield  14:07:09     Friday  \n",
       "2  Shelbyville  20:58:07  Wednesday  \n",
       "3  Shelbyville  08:37:09     Monday  \n",
       "4  Springfield  08:34:34     Monday  \n",
       "5  Shelbyville  13:09:41     Friday  \n",
       "6  Springfield  13:00:07  Wednesday  \n",
       "7  Springfield  20:47:49  Wednesday  \n",
       "8  Springfield  09:17:40     Friday  \n",
       "9  Shelbyville  21:20:49  Wednesday  "
      ]
     },
     "execution_count": 3,
     "metadata": {},
     "output_type": "execute_result"
    }
   ],
   "source": [
    "# Obtaining the first 10 rows of the df table\n",
    "df.head(10)"
   ]
  },
  {
   "cell_type": "markdown",
   "metadata": {
    "id": "EO73Kwic_Zct"
   },
   "source": [
    "Get general information about the table with a single command:"
   ]
  },
  {
   "cell_type": "code",
   "execution_count": 4,
   "metadata": {
    "id": "DSf2kIb-_Zct"
   },
   "outputs": [
    {
     "name": "stdout",
     "output_type": "stream",
     "text": [
      "<class 'pandas.core.frame.DataFrame'>\n",
      "RangeIndex: 65079 entries, 0 to 65078\n",
      "Data columns (total 7 columns):\n",
      " #   Column    Non-Null Count  Dtype \n",
      "---  ------    --------------  ----- \n",
      " 0     userID  65079 non-null  object\n",
      " 1   Track     63736 non-null  object\n",
      " 2   artist    57512 non-null  object\n",
      " 3   genre     63881 non-null  object\n",
      " 4     City    65079 non-null  object\n",
      " 5   time      65079 non-null  object\n",
      " 6   Day       65079 non-null  object\n",
      "dtypes: object(7)\n",
      "memory usage: 3.5+ MB\n"
     ]
    }
   ],
   "source": [
    "# Obtain general information about the data available in df\n",
    "df.info()"
   ]
  },
  {
   "cell_type": "markdown",
   "metadata": {
    "id": "TaQ2Iwbr_Zct"
   },
   "source": [
    "This table contains seven columns. All columns have the same data type, which is `object`.\n",
    "\n",
    "Based on the documentation:\n",
    "- `'userID'` — user ID\n",
    "- `'Track'` — song title\n",
    "- `'artist'` — artist name\n",
    "- `'genre'`\n",
    "- `'City'` — user's city of origin\n",
    "- `'time'` — time when the song was played\n",
    "- `'Day'` — day of the week\n",
    "\n",
    "We can see three issues with the column naming style:\n",
    "1. Some names are written in uppercase, some in lowercase.\n",
    "2. Some names use spaces.\n",
    "3. For the third issue, it can be found in the first column name `'  userID'` which should use `snake_case` format for naming columns with 2 or more words.\n",
    "\n",
    "We can also see that there are different numbers of values between columns. This indicates that our data contains missing values."
   ]
  },
  {
   "cell_type": "markdown",
   "metadata": {},
   "source": [
    "### Conclusion<a id='data_review_conclusions'></a> \n",
    "\n",
    "Each row in the table stores data related to a played song track. Some columns store data that describe the track itself: song title, artist, and genre. The rest store data related to user information: their city of origin, the time they played the song track.\n",
    "\n",
    "It is clear that the data we have is sufficient to test hypotheses. Unfortunately, there are some missing values.\n",
    "\n",
    "To continue the analysis, we need to preprocess the data first."
   ]
  },
  {
   "cell_type": "markdown",
   "metadata": {
    "id": "3eL__vcwViOi"
   },
   "source": [
    "[Back to Table of Contents](#back)"
   ]
  },
  {
   "cell_type": "markdown",
   "metadata": {
    "id": "SjYF6Ub9_Zct"
   },
   "source": [
    "## Stage 2. Data Preprocessing <a id='data_preprocessing'></a>\n",
    "Fix the format in the column titles and handle missing values. Then, check if your data contains duplicates."
   ]
  },
  {
   "cell_type": "markdown",
   "metadata": {
    "id": "dIaKXr29_Zct"
   },
   "source": [
    "### Header Style <a id='header_style'></a>\n",
    "Display the column headers:"
   ]
  },
  {
   "cell_type": "code",
   "execution_count": 5,
   "metadata": {
    "id": "oKOTdF_Q_Zct"
   },
   "outputs": [
    {
     "data": {
      "text/plain": [
       "Index(['  userID', 'Track', 'artist', 'genre', '  City  ', 'time', 'Day'], dtype='object')"
      ]
     },
     "execution_count": 5,
     "metadata": {},
     "output_type": "execute_result"
    }
   ],
   "source": [
    "# A list containing the column names in the df table\n",
    "df.columns"
   ]
  },
  {
   "cell_type": "markdown",
   "metadata": {
    "id": "zj5534cv_Zct"
   },
   "source": [
    "Change the column names according to the rules of good writing style:\n",
    "* If the column name consists of multiple words, use snake_case\n",
    "* All characters should be lowercase\n",
    "* Remove spaces"
   ]
  },
  {
   "cell_type": "code",
   "execution_count": 6,
   "metadata": {
    "id": "ISlFqs5y_Zct"
   },
   "outputs": [
    {
     "data": {
      "text/plain": [
       "Index(['user_id', 'track', 'artist', 'genre', 'city', 'time', 'day'], dtype='object')"
      ]
     },
     "execution_count": 6,
     "metadata": {},
     "output_type": "execute_result"
    }
   ],
   "source": [
    "# Change column names\n",
    "# Here are 4 column names that we need to edit\n",
    "df = df.rename(\n",
    "    columns={\n",
    "    '  userID': 'user_id',\n",
    "    'Track': 'track',\n",
    "    '  City  ': 'city',\n",
    "    'Day': 'day'\n",
    "})\n",
    "# Displaying column names after renaming\n",
    "df.columns"
   ]
  },
  {
   "cell_type": "markdown",
   "metadata": {
    "id": "1dqbh00J_Zct"
   },
   "source": [
    "Check the result. Display the column names again."
   ]
  },
  {
   "cell_type": "code",
   "execution_count": 7,
   "metadata": {
    "id": "d4NOAmTW_Zct",
    "scrolled": true
   },
   "outputs": [
    {
     "data": {
      "text/plain": [
       "Index(['user_id', 'track', 'artist', 'genre', 'city', 'time', 'day'], dtype='object')"
      ]
     },
     "execution_count": 7,
     "metadata": {},
     "output_type": "execute_result"
    }
   ],
   "source": [
    "# checking your result: display the list of column names once again\n",
    "df.columns"
   ]
  },
  {
   "cell_type": "markdown",
   "metadata": {
    "id": "xYJk6ksJVpOl"
   },
   "source": [
    "[Back to Table of Contents](#back)"
   ]
  },
  {
   "cell_type": "markdown",
   "metadata": {
    "id": "5ISfbcfY_Zct"
   },
   "source": [
    "### Missing Values <a id='missing_values'></a>\n",
    "First, find the number of missing values in the table. To do this, use two `Pandas` methods:"
   ]
  },
  {
   "cell_type": "code",
   "execution_count": 8,
   "metadata": {
    "id": "RskX29qr_Zct"
   },
   "outputs": [
    {
     "data": {
      "text/plain": [
       "artist     7567\n",
       "track      1343\n",
       "genre      1198\n",
       "user_id       0\n",
       "city          0\n",
       "time          0\n",
       "day           0\n",
       "dtype: int64"
      ]
     },
     "execution_count": 8,
     "metadata": {},
     "output_type": "execute_result"
    }
   ],
   "source": [
    "# counting missing values\n",
    "df.isnull().sum().sort_values(ascending=False)"
   ]
  },
  {
   "cell_type": "markdown",
   "metadata": {},
   "source": [
    "It turns out that the `artist` column has the most missing values. However, since the data in the `artist` and `track` columns are not very influential to the hypothesis results in this project, the values in the `artist` column will be replaced with `'unknown'` as a replacement."
   ]
  },
  {
   "cell_type": "markdown",
   "metadata": {
    "id": "qubhgnlO_Zct"
   },
   "source": [
    "Not all missing values are relevant to your research. For example, missing values in the `track` and `artist` columns are not very important. You can simply replace them with clear markers.\n",
    "However, missing values in the `'genre'` column can affect the comparison of music preferences in the cities of Springfield and Shelbyville. In real life, it is very useful to study the reasons for missing data and try to fix them. Unfortunately, we don't have the opportunity to do that in this project. Therefore, you should:\n",
    "* Fill in missing values with markers\n",
    "* Evaluate the extent to which missing values affect your calculations"
   ]
  },
  {
   "cell_type": "markdown",
   "metadata": {
    "id": "fSv2laPA_Zct"
   },
   "source": [
    "Replace missing values in the `'track'`, `'artist'`, and `'genre'` columns with the string `'unknown'`. To do this, create a list named `columns_to_replace`, apply a `for` loop to that list, and replace the missing values in each column:"
   ]
  },
  {
   "cell_type": "code",
   "execution_count": 9,
   "metadata": {
    "id": "KplB5qWs_Zct"
   },
   "outputs": [],
   "source": [
    "# Applying a loop to column names and replacing missing values with 'unknown'\n",
    "columns_to_replace = ['track', 'artist', 'genre']\n",
    "\n",
    "for column in columns_to_replace:\n",
    "    df[column] = df[column].fillna('unknown')"
   ]
  },
  {
   "cell_type": "markdown",
   "metadata": {
    "id": "Ilsm-MZo_Zct"
   },
   "source": [
    "In the 'genre' column, missing values can have a significant impact on the results of the hypothesis test. This may have occurred due to data entry errors. Therefore, for now, we will replace these missing values with `'unknown'`.\n",
    "\n",
    "Make sure there are no more tables containing missing values. Recalculate the missing values."
   ]
  },
  {
   "cell_type": "code",
   "execution_count": 10,
   "metadata": {
    "id": "Tq4nYRX4_Zct"
   },
   "outputs": [
    {
     "data": {
      "text/plain": [
       "user_id    0\n",
       "track      0\n",
       "artist     0\n",
       "genre      0\n",
       "city       0\n",
       "time       0\n",
       "day        0\n",
       "dtype: int64"
      ]
     },
     "execution_count": 10,
     "metadata": {},
     "output_type": "execute_result"
    }
   ],
   "source": [
    "# Counting missing values\n",
    "df.isnull().sum()"
   ]
  },
  {
   "cell_type": "markdown",
   "metadata": {
    "id": "74ZIBmq9VrsK"
   },
   "source": [
    "The missing values have been filled with `'unknown'` in the `'track'`, `'artist'`, and `'genre'` columns, so there are no more empty values to analyze. \n",
    "\n",
    "[Back to Table of Contents](#back)"
   ]
  },
  {
   "cell_type": "markdown",
   "metadata": {
    "id": "BWKRtBJ3_Zct"
   },
   "source": [
    "### Duplicates <a id='duplicates'></a>\n",
    "Find the number of explicit duplicates in the table using a single command:"
   ]
  },
  {
   "cell_type": "code",
   "execution_count": 11,
   "metadata": {
    "id": "36eES_S0_Zct"
   },
   "outputs": [
    {
     "data": {
      "text/plain": [
       "3826"
      ]
     },
     "execution_count": 11,
     "metadata": {},
     "output_type": "execute_result"
    }
   ],
   "source": [
    "# counting explicit duplicates\n",
    "df.duplicated().sum()"
   ]
  },
  {
   "cell_type": "markdown",
   "metadata": {
    "id": "Ot25h6XR_Zct"
   },
   "source": [
    "Call one of the `Pandas` methods to remove explicit duplicates:"
   ]
  },
  {
   "cell_type": "code",
   "execution_count": 12,
   "metadata": {
    "id": "exFHq6tt_Zct"
   },
   "outputs": [],
   "source": [
    "# removing explicit duplicates\n",
    "df = df.drop_duplicates().reset_index(drop=True)"
   ]
  },
  {
   "cell_type": "markdown",
   "metadata": {
    "id": "Im2YwBEG_Zct"
   },
   "source": [
    "Count explicit duplicates again to ensure that you have successfully removed all of them:"
   ]
  },
  {
   "cell_type": "code",
   "execution_count": 13,
   "metadata": {
    "id": "-8PuNWQ0_Zct"
   },
   "outputs": [
    {
     "data": {
      "text/plain": [
       "0"
      ]
     },
     "execution_count": 13,
     "metadata": {},
     "output_type": "execute_result"
    }
   ],
   "source": [
    "# checking duplicates\n",
    "df.duplicated().sum()"
   ]
  },
  {
   "cell_type": "markdown",
   "metadata": {
    "id": "eSjWwsOh_Zct"
   },
   "source": [
    "In addition to empty values or `'missing values'`, duplicate data can also affect the results of the research. It is advisable to remove these duplicate data to make the research results more accurate.\n",
    "\n",
    "Now, remove implicit duplicates in the `genre` column. For example, writing a genre name in different ways is an example of implicit duplicates. Errors like this will also affect your analysis results.\n",
    "\n",
    "Display a list containing unique genre names, then sort the list alphabetically. To do this:\n",
    "* Take the desired DataFrame column\n",
    "* Apply a sorting method to that column\n",
    "* For the sorted column, call a method that will produce all unique values in the column"
   ]
  },
  {
   "cell_type": "code",
   "execution_count": 14,
   "metadata": {
    "id": "JIUcqzZN_Zct"
   },
   "outputs": [
    {
     "data": {
      "text/plain": [
       "array(['acid', 'acoustic', 'action', 'adult', 'africa', 'afrikaans',\n",
       "       'alternative', 'ambient', 'americana', 'animated', 'anime',\n",
       "       'arabesk', 'arabic', 'arena', 'argentinetango', 'art', 'audiobook',\n",
       "       'avantgarde', 'axé', 'baile', 'balkan', 'beats', 'bigroom',\n",
       "       'black', 'bluegrass', 'blues', 'bollywood', 'bossa', 'brazilian',\n",
       "       'breakbeat', 'breaks', 'broadway', 'cantautori', 'cantopop',\n",
       "       'canzone', 'caribbean', 'caucasian', 'celtic', 'chamber',\n",
       "       'children', 'chill', 'chinese', 'choral', 'christian', 'christmas',\n",
       "       'classical', 'classicmetal', 'club', 'colombian', 'comedy',\n",
       "       'conjazz', 'contemporary', 'country', 'cuban', 'dance',\n",
       "       'dancehall', 'dancepop', 'dark', 'death', 'deep', 'deutschrock',\n",
       "       'deutschspr', 'dirty', 'disco', 'dnb', 'documentary', 'downbeat',\n",
       "       'downtempo', 'drum', 'dub', 'dubstep', 'eastern', 'easy',\n",
       "       'electronic', 'electropop', 'emo', 'entehno', 'epicmetal',\n",
       "       'estrada', 'ethnic', 'eurofolk', 'european', 'experimental',\n",
       "       'extrememetal', 'fado', 'film', 'fitness', 'flamenco', 'folk',\n",
       "       'folklore', 'folkmetal', 'folkrock', 'folktronica', 'forró',\n",
       "       'frankreich', 'französisch', 'french', 'funk', 'future', 'gangsta',\n",
       "       'garage', 'german', 'ghazal', 'gitarre', 'glitch', 'gospel',\n",
       "       'gothic', 'grime', 'grunge', 'gypsy', 'handsup', \"hard'n'heavy\",\n",
       "       'hardcore', 'hardstyle', 'hardtechno', 'hip', 'hip-hop', 'hiphop',\n",
       "       'historisch', 'holiday', 'hop', 'horror', 'house', 'idm',\n",
       "       'independent', 'indian', 'indie', 'indipop', 'industrial',\n",
       "       'inspirational', 'instrumental', 'international', 'irish', 'jam',\n",
       "       'japanese', 'jazz', 'jewish', 'jpop', 'jungle', 'k-pop',\n",
       "       'karadeniz', 'karaoke', 'kayokyoku', 'korean', 'laiko', 'latin',\n",
       "       'latino', 'leftfield', 'local', 'lounge', 'loungeelectronic',\n",
       "       'lovers', 'malaysian', 'mandopop', 'marschmusik', 'meditative',\n",
       "       'mediterranean', 'melodic', 'metal', 'metalcore', 'mexican',\n",
       "       'middle', 'minimal', 'miscellaneous', 'modern', 'mood', 'mpb',\n",
       "       'muslim', 'native', 'neoklassik', 'neue', 'new', 'newage',\n",
       "       'newwave', 'nu', 'nujazz', 'numetal', 'oceania', 'old', 'opera',\n",
       "       'orchestral', 'other', 'piano', 'pop', 'popelectronic',\n",
       "       'popeurodance', 'post', 'posthardcore', 'postrock', 'power',\n",
       "       'progmetal', 'progressive', 'psychedelic', 'punjabi', 'punk',\n",
       "       'quebecois', 'ragga', 'ram', 'rancheras', 'rap', 'rave', 'reggae',\n",
       "       'reggaeton', 'regional', 'relax', 'religious', 'retro', 'rhythm',\n",
       "       'rnb', 'rnr', 'rock', 'rockabilly', 'romance', 'roots', 'ruspop',\n",
       "       'rusrap', 'rusrock', 'salsa', 'samba', 'schlager', 'self',\n",
       "       'sertanejo', 'shoegazing', 'showtunes', 'singer', 'ska', 'slow',\n",
       "       'smooth', 'soul', 'soulful', 'sound', 'soundtrack', 'southern',\n",
       "       'specialty', 'speech', 'spiritual', 'sport', 'stonerrock', 'surf',\n",
       "       'swing', 'synthpop', 'sängerportrait', 'tango', 'tanzorchester',\n",
       "       'taraftar', 'tech', 'techno', 'thrash', 'top', 'traditional',\n",
       "       'tradjazz', 'trance', 'tribal', 'trip', 'triphop', 'tropical',\n",
       "       'türk', 'türkçe', 'unknown', 'urban', 'uzbek', 'variété', 'vi',\n",
       "       'videogame', 'vocal', 'western', 'world', 'worldbeat', 'ïîï'],\n",
       "      dtype=object)"
      ]
     },
     "execution_count": 14,
     "metadata": {},
     "output_type": "execute_result"
    }
   ],
   "source": [
    "# displaying unique genre names\n",
    "df['genre'].sort_values(ascending=True).unique()"
   ]
  },
  {
   "cell_type": "markdown",
   "metadata": {
    "id": "qej-Qmuo_Zct"
   },
   "source": [
    "Take a close look at the list displayed to find implicit duplicates of the `hiphop` genre. These duplicates could be names written incorrectly or alternative names for the same genre.\n",
    "\n",
    "You will find the following implicit duplicates:\n",
    "- `hip`\n",
    "- `hop`\n",
    "- `hip-hop`\n",
    "\n",
    "To remove them, use the `replace_wrong_genres()` function with two parameters:\n",
    "- `wrong_genres=` - a list with duplicates to be replaced\n",
    "- `correct_genre=` - a string with the correct value\n",
    "\n",
    "The function should correct the names in the `'genre'` column of the `df` table, replacing each value from the `wrong_genres` list with the value from `correct_genre`."
   ]
  },
  {
   "cell_type": "code",
   "execution_count": 15,
   "metadata": {
    "id": "ErNDkmns_Zct"
   },
   "outputs": [],
   "source": [
    "# Enter the function that replaces implicit duplicates\n",
    "# df['genre'] = df['genre'].replace(['hip', 'hop', 'hip-hop'], 'hiphop')\n",
    "\n",
    "def replace_wrong_genres(data, column_name, wrong_genres, correct_genre):\n",
    "    data[column_name] = data[column_name].replace(wrong_genres, correct_genre)\n",
    "    return(data)"
   ]
  },
  {
   "cell_type": "markdown",
   "metadata": {
    "id": "aDoBJxbA_Zct"
   },
   "source": [
    "Call `replace_wrong_genres()` and pass arguments to the function so that it can remove implicit duplicates (`hip`, `hop`, and `hip-hop`) and replace them with `hiphop`:"
   ]
  },
  {
   "cell_type": "code",
   "execution_count": 16,
   "metadata": {
    "id": "YN5i2hpmSo09"
   },
   "outputs": [
    {
     "data": {
      "text/html": [
       "<div>\n",
       "<style scoped>\n",
       "    .dataframe tbody tr th:only-of-type {\n",
       "        vertical-align: middle;\n",
       "    }\n",
       "\n",
       "    .dataframe tbody tr th {\n",
       "        vertical-align: top;\n",
       "    }\n",
       "\n",
       "    .dataframe thead th {\n",
       "        text-align: right;\n",
       "    }\n",
       "</style>\n",
       "<table border=\"1\" class=\"dataframe\">\n",
       "  <thead>\n",
       "    <tr style=\"text-align: right;\">\n",
       "      <th></th>\n",
       "      <th>user_id</th>\n",
       "      <th>track</th>\n",
       "      <th>artist</th>\n",
       "      <th>genre</th>\n",
       "      <th>city</th>\n",
       "      <th>time</th>\n",
       "      <th>day</th>\n",
       "    </tr>\n",
       "  </thead>\n",
       "  <tbody>\n",
       "    <tr>\n",
       "      <th>0</th>\n",
       "      <td>FFB692EC</td>\n",
       "      <td>Kamigata To Boots</td>\n",
       "      <td>The Mass Missile</td>\n",
       "      <td>rock</td>\n",
       "      <td>Shelbyville</td>\n",
       "      <td>20:28:33</td>\n",
       "      <td>Wednesday</td>\n",
       "    </tr>\n",
       "    <tr>\n",
       "      <th>1</th>\n",
       "      <td>55204538</td>\n",
       "      <td>Delayed Because of Accident</td>\n",
       "      <td>Andreas Rönnberg</td>\n",
       "      <td>rock</td>\n",
       "      <td>Springfield</td>\n",
       "      <td>14:07:09</td>\n",
       "      <td>Friday</td>\n",
       "    </tr>\n",
       "    <tr>\n",
       "      <th>2</th>\n",
       "      <td>20EC38</td>\n",
       "      <td>Funiculì funiculà</td>\n",
       "      <td>Mario Lanza</td>\n",
       "      <td>pop</td>\n",
       "      <td>Shelbyville</td>\n",
       "      <td>20:58:07</td>\n",
       "      <td>Wednesday</td>\n",
       "    </tr>\n",
       "    <tr>\n",
       "      <th>3</th>\n",
       "      <td>A3DD03C9</td>\n",
       "      <td>Dragons in the Sunset</td>\n",
       "      <td>Fire + Ice</td>\n",
       "      <td>folk</td>\n",
       "      <td>Shelbyville</td>\n",
       "      <td>08:37:09</td>\n",
       "      <td>Monday</td>\n",
       "    </tr>\n",
       "    <tr>\n",
       "      <th>4</th>\n",
       "      <td>E2DC1FAE</td>\n",
       "      <td>Soul People</td>\n",
       "      <td>Space Echo</td>\n",
       "      <td>dance</td>\n",
       "      <td>Springfield</td>\n",
       "      <td>08:34:34</td>\n",
       "      <td>Monday</td>\n",
       "    </tr>\n",
       "    <tr>\n",
       "      <th>...</th>\n",
       "      <td>...</td>\n",
       "      <td>...</td>\n",
       "      <td>...</td>\n",
       "      <td>...</td>\n",
       "      <td>...</td>\n",
       "      <td>...</td>\n",
       "      <td>...</td>\n",
       "    </tr>\n",
       "    <tr>\n",
       "      <th>61248</th>\n",
       "      <td>729CBB09</td>\n",
       "      <td>My Name</td>\n",
       "      <td>McLean</td>\n",
       "      <td>rnb</td>\n",
       "      <td>Springfield</td>\n",
       "      <td>13:32:28</td>\n",
       "      <td>Wednesday</td>\n",
       "    </tr>\n",
       "    <tr>\n",
       "      <th>61249</th>\n",
       "      <td>D08D4A55</td>\n",
       "      <td>Maybe One Day (feat. Black Spade)</td>\n",
       "      <td>Blu &amp; Exile</td>\n",
       "      <td>hiphop</td>\n",
       "      <td>Shelbyville</td>\n",
       "      <td>10:00:00</td>\n",
       "      <td>Monday</td>\n",
       "    </tr>\n",
       "    <tr>\n",
       "      <th>61250</th>\n",
       "      <td>C5E3A0D5</td>\n",
       "      <td>Jalopiina</td>\n",
       "      <td>unknown</td>\n",
       "      <td>industrial</td>\n",
       "      <td>Springfield</td>\n",
       "      <td>20:09:26</td>\n",
       "      <td>Friday</td>\n",
       "    </tr>\n",
       "    <tr>\n",
       "      <th>61251</th>\n",
       "      <td>321D0506</td>\n",
       "      <td>Freight Train</td>\n",
       "      <td>Chas McDevitt</td>\n",
       "      <td>rock</td>\n",
       "      <td>Springfield</td>\n",
       "      <td>21:43:59</td>\n",
       "      <td>Friday</td>\n",
       "    </tr>\n",
       "    <tr>\n",
       "      <th>61252</th>\n",
       "      <td>3A64EF84</td>\n",
       "      <td>Tell Me Sweet Little Lies</td>\n",
       "      <td>Monica Lopez</td>\n",
       "      <td>country</td>\n",
       "      <td>Springfield</td>\n",
       "      <td>21:59:46</td>\n",
       "      <td>Friday</td>\n",
       "    </tr>\n",
       "  </tbody>\n",
       "</table>\n",
       "<p>61253 rows × 7 columns</p>\n",
       "</div>"
      ],
      "text/plain": [
       "        user_id                              track            artist  \\\n",
       "0      FFB692EC                  Kamigata To Boots  The Mass Missile   \n",
       "1      55204538        Delayed Because of Accident  Andreas Rönnberg   \n",
       "2        20EC38                  Funiculì funiculà       Mario Lanza   \n",
       "3      A3DD03C9              Dragons in the Sunset        Fire + Ice   \n",
       "4      E2DC1FAE                        Soul People        Space Echo   \n",
       "...         ...                                ...               ...   \n",
       "61248  729CBB09                            My Name            McLean   \n",
       "61249  D08D4A55  Maybe One Day (feat. Black Spade)       Blu & Exile   \n",
       "61250  C5E3A0D5                          Jalopiina           unknown   \n",
       "61251  321D0506                      Freight Train     Chas McDevitt   \n",
       "61252  3A64EF84          Tell Me Sweet Little Lies      Monica Lopez   \n",
       "\n",
       "            genre         city      time        day  \n",
       "0            rock  Shelbyville  20:28:33  Wednesday  \n",
       "1            rock  Springfield  14:07:09     Friday  \n",
       "2             pop  Shelbyville  20:58:07  Wednesday  \n",
       "3            folk  Shelbyville  08:37:09     Monday  \n",
       "4           dance  Springfield  08:34:34     Monday  \n",
       "...           ...          ...       ...        ...  \n",
       "61248         rnb  Springfield  13:32:28  Wednesday  \n",
       "61249      hiphop  Shelbyville  10:00:00     Monday  \n",
       "61250  industrial  Springfield  20:09:26     Friday  \n",
       "61251        rock  Springfield  21:43:59     Friday  \n",
       "61252     country  Springfield  21:59:46     Friday  \n",
       "\n",
       "[61253 rows x 7 columns]"
      ]
     },
     "execution_count": 16,
     "metadata": {},
     "output_type": "execute_result"
    }
   ],
   "source": [
    "# removing implicit duplicates\n",
    "wrong_genres = ['hip', 'hop', 'hip-hop']\n",
    "correct_genre = 'hiphop'\n",
    "\n",
    "replace_wrong_genres(df, 'genre', wrong_genres, correct_genre)"
   ]
  },
  {
   "cell_type": "markdown",
   "metadata": {
    "id": "zQKF16_RG15m"
   },
   "source": [
    "Make sure that the duplicated values have been removed. Display a list of unique values from the `'genre'` column:"
   ]
  },
  {
   "cell_type": "code",
   "execution_count": 17,
   "metadata": {
    "id": "wvixALnFG15m",
    "scrolled": true
   },
   "outputs": [
    {
     "data": {
      "text/plain": [
       "array(['acid', 'acoustic', 'action', 'adult', 'africa', 'afrikaans',\n",
       "       'alternative', 'ambient', 'americana', 'animated', 'anime',\n",
       "       'arabesk', 'arabic', 'arena', 'argentinetango', 'art', 'audiobook',\n",
       "       'avantgarde', 'axé', 'baile', 'balkan', 'beats', 'bigroom',\n",
       "       'black', 'bluegrass', 'blues', 'bollywood', 'bossa', 'brazilian',\n",
       "       'breakbeat', 'breaks', 'broadway', 'cantautori', 'cantopop',\n",
       "       'canzone', 'caribbean', 'caucasian', 'celtic', 'chamber',\n",
       "       'children', 'chill', 'chinese', 'choral', 'christian', 'christmas',\n",
       "       'classical', 'classicmetal', 'club', 'colombian', 'comedy',\n",
       "       'conjazz', 'contemporary', 'country', 'cuban', 'dance',\n",
       "       'dancehall', 'dancepop', 'dark', 'death', 'deep', 'deutschrock',\n",
       "       'deutschspr', 'dirty', 'disco', 'dnb', 'documentary', 'downbeat',\n",
       "       'downtempo', 'drum', 'dub', 'dubstep', 'eastern', 'easy',\n",
       "       'electronic', 'electropop', 'emo', 'entehno', 'epicmetal',\n",
       "       'estrada', 'ethnic', 'eurofolk', 'european', 'experimental',\n",
       "       'extrememetal', 'fado', 'film', 'fitness', 'flamenco', 'folk',\n",
       "       'folklore', 'folkmetal', 'folkrock', 'folktronica', 'forró',\n",
       "       'frankreich', 'französisch', 'french', 'funk', 'future', 'gangsta',\n",
       "       'garage', 'german', 'ghazal', 'gitarre', 'glitch', 'gospel',\n",
       "       'gothic', 'grime', 'grunge', 'gypsy', 'handsup', \"hard'n'heavy\",\n",
       "       'hardcore', 'hardstyle', 'hardtechno', 'hiphop', 'historisch',\n",
       "       'holiday', 'horror', 'house', 'idm', 'independent', 'indian',\n",
       "       'indie', 'indipop', 'industrial', 'inspirational', 'instrumental',\n",
       "       'international', 'irish', 'jam', 'japanese', 'jazz', 'jewish',\n",
       "       'jpop', 'jungle', 'k-pop', 'karadeniz', 'karaoke', 'kayokyoku',\n",
       "       'korean', 'laiko', 'latin', 'latino', 'leftfield', 'local',\n",
       "       'lounge', 'loungeelectronic', 'lovers', 'malaysian', 'mandopop',\n",
       "       'marschmusik', 'meditative', 'mediterranean', 'melodic', 'metal',\n",
       "       'metalcore', 'mexican', 'middle', 'minimal', 'miscellaneous',\n",
       "       'modern', 'mood', 'mpb', 'muslim', 'native', 'neoklassik', 'neue',\n",
       "       'new', 'newage', 'newwave', 'nu', 'nujazz', 'numetal', 'oceania',\n",
       "       'old', 'opera', 'orchestral', 'other', 'piano', 'pop',\n",
       "       'popelectronic', 'popeurodance', 'post', 'posthardcore',\n",
       "       'postrock', 'power', 'progmetal', 'progressive', 'psychedelic',\n",
       "       'punjabi', 'punk', 'quebecois', 'ragga', 'ram', 'rancheras', 'rap',\n",
       "       'rave', 'reggae', 'reggaeton', 'regional', 'relax', 'religious',\n",
       "       'retro', 'rhythm', 'rnb', 'rnr', 'rock', 'rockabilly', 'romance',\n",
       "       'roots', 'ruspop', 'rusrap', 'rusrock', 'salsa', 'samba',\n",
       "       'schlager', 'self', 'sertanejo', 'shoegazing', 'showtunes',\n",
       "       'singer', 'ska', 'slow', 'smooth', 'soul', 'soulful', 'sound',\n",
       "       'soundtrack', 'southern', 'specialty', 'speech', 'spiritual',\n",
       "       'sport', 'stonerrock', 'surf', 'swing', 'synthpop',\n",
       "       'sängerportrait', 'tango', 'tanzorchester', 'taraftar', 'tech',\n",
       "       'techno', 'thrash', 'top', 'traditional', 'tradjazz', 'trance',\n",
       "       'tribal', 'trip', 'triphop', 'tropical', 'türk', 'türkçe',\n",
       "       'unknown', 'urban', 'uzbek', 'variété', 'vi', 'videogame', 'vocal',\n",
       "       'western', 'world', 'worldbeat', 'ïîï'], dtype=object)"
      ]
     },
     "execution_count": 17,
     "metadata": {},
     "output_type": "execute_result"
    }
   ],
   "source": [
    "# checking implicit duplicates\n",
    "df['genre'].sort_values(ascending=True).unique()"
   ]
  },
  {
   "cell_type": "markdown",
   "metadata": {
    "id": "ALgNbvF3VtPA"
   },
   "source": [
    "Implicit duplicate data can lead us to make mistakes when grouping data. Therefore, we must be detailed in cleaning the data. For example, the data above has implicit duplicates of `'hip'`, `'hop'`, and `'hip-hop'`. These genres have the same meaning. However, due to errors in data entry, these genres should be removed to make the data grouping more relevant.\n",
    "\n",
    "[Back to Table of Contents](#back)"
   ]
  },
  {
   "cell_type": "markdown",
   "metadata": {
    "id": "eK1es74rVujj"
   },
   "source": [
    "### Conclusion <a id='data_preprocessing_conclusions'></a>\n",
    "We have detected three issues in our data:\n",
    "\n",
    "- Incorrect title writing styles\n",
    "- Missing values\n",
    "- Explicit and implicit duplicates\n",
    "\n",
    "Now, the column names have been cleaned to facilitate table processing.\n",
    "All missing values have been replaced with `'unknown'`. However, we still need to see if missing values in the `'genre'` column will affect our calculations.\n",
    "\n",
    "The absence of duplicates will make our results more accurate and easier to understand.\n",
    "\n",
    "Let's continue to the hypothesis testing phase.\n",
    "\n",
    "[Back to Table of Contents](#back)"
   ]
  },
  {
   "cell_type": "markdown",
   "metadata": {
    "id": "WttZHXH0SqKk"
   },
   "source": [
    "## Stage 3. Hypothesis Testing <a id='hypotheses'></a>"
   ]
  },
  {
   "cell_type": "markdown",
   "metadata": {
    "id": "nwt_MuaL_Zcu"
   },
   "source": [
    "### Hypothesis 1: Comparing user behavior in two cities <a id='activity'></a>\n",
    "\n",
    "According to the first hypothesis, users from Springfield and Shelbyville have different behaviors in listening to music. This test uses data taken from three days of the week: Monday, Wednesday, and Friday.\n",
    "\n",
    "* Divide users into several groups based on city.\n",
    "* Compare how many tracks are played by each group on Monday, Wednesday, and Friday."
   ]
  },
  {
   "cell_type": "code",
   "execution_count": 18,
   "metadata": {
    "id": "0_Qs96oh_Zcu",
    "scrolled": true
   },
   "outputs": [
    {
     "data": {
      "text/html": [
       "<div>\n",
       "<style scoped>\n",
       "    .dataframe tbody tr th:only-of-type {\n",
       "        vertical-align: middle;\n",
       "    }\n",
       "\n",
       "    .dataframe tbody tr th {\n",
       "        vertical-align: top;\n",
       "    }\n",
       "\n",
       "    .dataframe thead th {\n",
       "        text-align: right;\n",
       "    }\n",
       "</style>\n",
       "<table border=\"1\" class=\"dataframe\">\n",
       "  <thead>\n",
       "    <tr style=\"text-align: right;\">\n",
       "      <th></th>\n",
       "      <th>city</th>\n",
       "      <th>track</th>\n",
       "    </tr>\n",
       "  </thead>\n",
       "  <tbody>\n",
       "    <tr>\n",
       "      <th>0</th>\n",
       "      <td>Shelbyville</td>\n",
       "      <td>18512</td>\n",
       "    </tr>\n",
       "    <tr>\n",
       "      <th>1</th>\n",
       "      <td>Springfield</td>\n",
       "      <td>42741</td>\n",
       "    </tr>\n",
       "  </tbody>\n",
       "</table>\n",
       "</div>"
      ],
      "text/plain": [
       "          city  track\n",
       "0  Shelbyville  18512\n",
       "1  Springfield  42741"
      ]
     },
     "execution_count": 18,
     "metadata": {},
     "output_type": "execute_result"
    }
   ],
   "source": [
    "# Counting tracks played on each city\n",
    "df.groupby('city')['track'].count().reset_index()"
   ]
  },
  {
   "cell_type": "markdown",
   "metadata": {
    "id": "dzli3w8o_Zcu"
   },
   "source": [
    "Users from Springfield play more tracks than users from Shelbyville. However, this does not necessarily mean that residents of Springfield listen to music more often. The city is indeed larger, with more users. So, this is a reasonable finding.\n",
    "\n",
    "Now, group the data by day and find the number of tracks played on Monday, Wednesday, and Friday."
   ]
  },
  {
   "cell_type": "code",
   "execution_count": 19,
   "metadata": {
    "id": "uZMKjiJz_Zcu"
   },
   "outputs": [
    {
     "data": {
      "text/html": [
       "<div>\n",
       "<style scoped>\n",
       "    .dataframe tbody tr th:only-of-type {\n",
       "        vertical-align: middle;\n",
       "    }\n",
       "\n",
       "    .dataframe tbody tr th {\n",
       "        vertical-align: top;\n",
       "    }\n",
       "\n",
       "    .dataframe thead th {\n",
       "        text-align: right;\n",
       "    }\n",
       "</style>\n",
       "<table border=\"1\" class=\"dataframe\">\n",
       "  <thead>\n",
       "    <tr style=\"text-align: right;\">\n",
       "      <th></th>\n",
       "      <th>day</th>\n",
       "      <th>track</th>\n",
       "    </tr>\n",
       "  </thead>\n",
       "  <tbody>\n",
       "    <tr>\n",
       "      <th>0</th>\n",
       "      <td>Friday</td>\n",
       "      <td>21840</td>\n",
       "    </tr>\n",
       "    <tr>\n",
       "      <th>1</th>\n",
       "      <td>Monday</td>\n",
       "      <td>21354</td>\n",
       "    </tr>\n",
       "    <tr>\n",
       "      <th>2</th>\n",
       "      <td>Wednesday</td>\n",
       "      <td>18059</td>\n",
       "    </tr>\n",
       "  </tbody>\n",
       "</table>\n",
       "</div>"
      ],
      "text/plain": [
       "         day  track\n",
       "0     Friday  21840\n",
       "1     Monday  21354\n",
       "2  Wednesday  18059"
      ]
     },
     "execution_count": 19,
     "metadata": {},
     "output_type": "execute_result"
    }
   ],
   "source": [
    "# Counting tracks played on each day\n",
    "df.groupby('day')['track'].count().reset_index()"
   ]
  },
  {
   "cell_type": "markdown",
   "metadata": {
    "id": "POzs8bGa_Zcu"
   },
   "source": [
    "Wednesday is the overall 'calmest' day. However, if we consider the two cities separately, we might come to different conclusions.\n",
    "\n",
    "You've seen how grouping works based on cities or days. Now, write a function that will group data based on both the day and the city.\n",
    "\n",
    "Create a `number_tracks()` function to count the number of song tracks played for a specific day and city. The function will require two parameters:\n",
    "* The name of the day of the week.\n",
    "* The name of the city.\n",
    "\n",
    "In the function we create, use variables to store rows from the original table, where:\n",
    "  * The value in the `'day'` column matches the `day` parameter,\n",
    "  * The value in the `'city'` column matches the `city` parameter.\n",
    "\n",
    "Apply sequential filtering with logical indexing.\n",
    "\n",
    "Then, calculate the value in the `'user_id'` column for the resulting table. Save the result in a new variable. Return this variable from the function."
   ]
  },
  {
   "cell_type": "code",
   "execution_count": 20,
   "metadata": {
    "id": "Nz3GdQB1_Zcu"
   },
   "outputs": [],
   "source": [
    "# <creating the number_tracks() function>\n",
    "# We will declare a function with two parameters: day=, city=.\n",
    "# Make the variable track_list store the rows of df where\n",
    "# the value in the 'day' column is equal to the parameter day=, and at the same time,\n",
    "# the value in the 'city' column is equal to the parameter city= (apply sequential filtering\n",
    "# with logical indexing).\n",
    "# Make the variable track_list_count store the count of values in the 'user_id' column in track_list\n",
    "# (find it with the count() method).\n",
    "# Make the function you create return the number: the value of track_list_count.\n",
    "\n",
    "# This function counts the number of tracks played for a specific city and day.\n",
    "# First, it will take the rows with the desired day from the table,\n",
    "# then filter those rows by the desired city from the result,\n",
    "# then find the count of 'user_id' values in the filtered table,\n",
    "# and then return that count.\n",
    "# To see the output, wrap the function call in print().\n",
    "\n",
    "def number_tracks(city, day):\n",
    "    track_list = df[(df['city'] == city) & (df['day'] == day)]\n",
    "    track_list_count = track_list['user_id'].count()\n",
    "    return(track_list_count)"
   ]
  },
  {
   "cell_type": "markdown",
   "metadata": {
    "id": "ytf7xFrFJQ2r"
   },
   "source": [
    "Call `number_tracks()` six times and change the parameter values for each call, so you can get data from both cities for each day (Monday, Wednesday, and Friday)."
   ]
  },
  {
   "cell_type": "code",
   "execution_count": 21,
   "metadata": {
    "id": "rJcRATNQ_Zcu"
   },
   "outputs": [],
   "source": [
    "# number of tracks played in Springfield on Monday\n",
    "spring_mon = number_tracks(city='Springfield', day='Monday')"
   ]
  },
  {
   "cell_type": "code",
   "execution_count": 22,
   "metadata": {
    "id": "hq_ncZ5T_Zcu"
   },
   "outputs": [],
   "source": [
    "# number of tracks played in Shelbyville on Monday\n",
    "shelby_mon = number_tracks(city='Shelbyville', day='Monday')"
   ]
  },
  {
   "cell_type": "code",
   "execution_count": 23,
   "metadata": {
    "id": "_NTy2VPU_Zcu"
   },
   "outputs": [],
   "source": [
    "# number of tracks played in Springfield on Wednesday\n",
    "spring_wed = number_tracks(city='Springfield', day='Wednesday')"
   ]
  },
  {
   "cell_type": "code",
   "execution_count": 24,
   "metadata": {
    "id": "j2y3TAwo_Zcu"
   },
   "outputs": [],
   "source": [
    "# number of tracks played in Shelbyville on Wednesday\n",
    "shelby_wed = number_tracks(city='Shelbyville', day='Wednesday')"
   ]
  },
  {
   "cell_type": "code",
   "execution_count": 25,
   "metadata": {
    "id": "vYDw5u_K_Zcu"
   },
   "outputs": [],
   "source": [
    "# number of tracks played in Springfield on Friday\n",
    "spring_fri = number_tracks(city='Springfield', day='Friday')"
   ]
  },
  {
   "cell_type": "code",
   "execution_count": 26,
   "metadata": {
    "id": "8_yzFtW3_Zcu",
    "scrolled": true
   },
   "outputs": [],
   "source": [
    "# number of tracks played in Shelbyville on Friday\n",
    "shelby_fri = number_tracks(city='Shelbyville', day='Friday')"
   ]
  },
  {
   "cell_type": "markdown",
   "metadata": {
    "id": "7QXffbO-_Zcu"
   },
   "source": [
    "Use `pd.DataFrame` to create a table, where\n",
    "* The column names are: `['city', 'monday', 'wednesday', 'friday']`\n",
    "* The data is the results you obtained from `number_tracks()`"
   ]
  },
  {
   "cell_type": "code",
   "execution_count": 27,
   "metadata": {
    "id": "APAcLpOr_Zcu"
   },
   "outputs": [
    {
     "data": {
      "text/html": [
       "<div>\n",
       "<style scoped>\n",
       "    .dataframe tbody tr th:only-of-type {\n",
       "        vertical-align: middle;\n",
       "    }\n",
       "\n",
       "    .dataframe tbody tr th {\n",
       "        vertical-align: top;\n",
       "    }\n",
       "\n",
       "    .dataframe thead th {\n",
       "        text-align: right;\n",
       "    }\n",
       "</style>\n",
       "<table border=\"1\" class=\"dataframe\">\n",
       "  <thead>\n",
       "    <tr style=\"text-align: right;\">\n",
       "      <th></th>\n",
       "      <th>city</th>\n",
       "      <th>monday</th>\n",
       "      <th>wednesday</th>\n",
       "      <th>friday</th>\n",
       "    </tr>\n",
       "  </thead>\n",
       "  <tbody>\n",
       "    <tr>\n",
       "      <th>0</th>\n",
       "      <td>Springfield</td>\n",
       "      <td>15740</td>\n",
       "      <td>11056</td>\n",
       "      <td>15945</td>\n",
       "    </tr>\n",
       "    <tr>\n",
       "      <th>1</th>\n",
       "      <td>Shelbyville</td>\n",
       "      <td>5614</td>\n",
       "      <td>7003</td>\n",
       "      <td>5895</td>\n",
       "    </tr>\n",
       "  </tbody>\n",
       "</table>\n",
       "</div>"
      ],
      "text/plain": [
       "          city  monday  wednesday  friday\n",
       "0  Springfield   15740      11056   15945\n",
       "1  Shelbyville    5614       7003    5895"
      ]
     },
     "execution_count": 27,
     "metadata": {},
     "output_type": "execute_result"
    }
   ],
   "source": [
    "number_track = [\n",
    "    ['Springfield', spring_mon, spring_wed, spring_fri],\n",
    "    ['Shelbyville', shelby_mon, shelby_wed, shelby_fri]\n",
    "]\n",
    "pd.DataFrame(number_track, columns=['city', 'monday', 'wednesday', 'friday'])"
   ]
  },
  {
   "cell_type": "markdown",
   "metadata": {},
   "source": [
    "As we can see above, the playback of tracks in each city has different frequencies on certain days."
   ]
  },
  {
   "cell_type": "markdown",
   "metadata": {
    "id": "-EgPIHYu_Zcu"
   },
   "source": [
    "**Conclusion**\n",
    "\n",
    "The data you obtained successfully revealed some differences in user behavior:\n",
    "\n",
    "- In the city of Springfield, the number of tracks played peaks on Monday and Friday, while there is a decrease in activity on Wednesday.\n",
    "- In Shelbyville, on the other hand, users listen to more music on Wednesday. User activity on Monday and Friday is lower.\n",
    "\n",
    "Thus, it can be concluded that the first hypothesis appears to be correct.\n",
    "\n",
    "[Back to Table of Contents](#back)"
   ]
  },
  {
   "cell_type": "markdown",
   "metadata": {
    "id": "atZAxtq4_Zcu"
   },
   "source": [
    "### Hypothesis 2: Music at the Beginning and End of the Week <a id='week'></a>"
   ]
  },
  {
   "cell_type": "markdown",
   "metadata": {
    "id": "S8UcW6Hw_Zcu"
   },
   "source": [
    "According to the second hypothesis, on Monday mornings and Friday nights, residents of Springfield listen to different genres of music than those enjoyed by the residents of Shelbyville.\n",
    "\n",
    "Get the table (make sure the combined table names match the DataFrame provided in the two code blocks below):\n",
    "* For Springfield — `spr_general`\n",
    "* For Shelbyville — `shel_general`"
   ]
  },
  {
   "cell_type": "code",
   "execution_count": 28,
   "metadata": {
    "id": "qeaFfM_P_Zcu"
   },
   "outputs": [
    {
     "data": {
      "text/html": [
       "<div>\n",
       "<style scoped>\n",
       "    .dataframe tbody tr th:only-of-type {\n",
       "        vertical-align: middle;\n",
       "    }\n",
       "\n",
       "    .dataframe tbody tr th {\n",
       "        vertical-align: top;\n",
       "    }\n",
       "\n",
       "    .dataframe thead th {\n",
       "        text-align: right;\n",
       "    }\n",
       "</style>\n",
       "<table border=\"1\" class=\"dataframe\">\n",
       "  <thead>\n",
       "    <tr style=\"text-align: right;\">\n",
       "      <th></th>\n",
       "      <th>user_id</th>\n",
       "      <th>track</th>\n",
       "      <th>artist</th>\n",
       "      <th>genre</th>\n",
       "      <th>city</th>\n",
       "      <th>time</th>\n",
       "      <th>day</th>\n",
       "    </tr>\n",
       "  </thead>\n",
       "  <tbody>\n",
       "    <tr>\n",
       "      <th>1</th>\n",
       "      <td>55204538</td>\n",
       "      <td>Delayed Because of Accident</td>\n",
       "      <td>Andreas Rönnberg</td>\n",
       "      <td>rock</td>\n",
       "      <td>Springfield</td>\n",
       "      <td>14:07:09</td>\n",
       "      <td>Friday</td>\n",
       "    </tr>\n",
       "    <tr>\n",
       "      <th>4</th>\n",
       "      <td>E2DC1FAE</td>\n",
       "      <td>Soul People</td>\n",
       "      <td>Space Echo</td>\n",
       "      <td>dance</td>\n",
       "      <td>Springfield</td>\n",
       "      <td>08:34:34</td>\n",
       "      <td>Monday</td>\n",
       "    </tr>\n",
       "    <tr>\n",
       "      <th>6</th>\n",
       "      <td>4CB90AA5</td>\n",
       "      <td>True</td>\n",
       "      <td>Roman Messer</td>\n",
       "      <td>dance</td>\n",
       "      <td>Springfield</td>\n",
       "      <td>13:00:07</td>\n",
       "      <td>Wednesday</td>\n",
       "    </tr>\n",
       "    <tr>\n",
       "      <th>7</th>\n",
       "      <td>F03E1C1F</td>\n",
       "      <td>Feeling This Way</td>\n",
       "      <td>Polina Griffith</td>\n",
       "      <td>dance</td>\n",
       "      <td>Springfield</td>\n",
       "      <td>20:47:49</td>\n",
       "      <td>Wednesday</td>\n",
       "    </tr>\n",
       "    <tr>\n",
       "      <th>8</th>\n",
       "      <td>8FA1D3BE</td>\n",
       "      <td>L’estate</td>\n",
       "      <td>Julia Dalia</td>\n",
       "      <td>ruspop</td>\n",
       "      <td>Springfield</td>\n",
       "      <td>09:17:40</td>\n",
       "      <td>Friday</td>\n",
       "    </tr>\n",
       "    <tr>\n",
       "      <th>...</th>\n",
       "      <td>...</td>\n",
       "      <td>...</td>\n",
       "      <td>...</td>\n",
       "      <td>...</td>\n",
       "      <td>...</td>\n",
       "      <td>...</td>\n",
       "      <td>...</td>\n",
       "    </tr>\n",
       "    <tr>\n",
       "      <th>61247</th>\n",
       "      <td>83A474E7</td>\n",
       "      <td>I Worship Only What You Bleed</td>\n",
       "      <td>The Black Dahlia Murder</td>\n",
       "      <td>extrememetal</td>\n",
       "      <td>Springfield</td>\n",
       "      <td>21:07:12</td>\n",
       "      <td>Monday</td>\n",
       "    </tr>\n",
       "    <tr>\n",
       "      <th>61248</th>\n",
       "      <td>729CBB09</td>\n",
       "      <td>My Name</td>\n",
       "      <td>McLean</td>\n",
       "      <td>rnb</td>\n",
       "      <td>Springfield</td>\n",
       "      <td>13:32:28</td>\n",
       "      <td>Wednesday</td>\n",
       "    </tr>\n",
       "    <tr>\n",
       "      <th>61250</th>\n",
       "      <td>C5E3A0D5</td>\n",
       "      <td>Jalopiina</td>\n",
       "      <td>unknown</td>\n",
       "      <td>industrial</td>\n",
       "      <td>Springfield</td>\n",
       "      <td>20:09:26</td>\n",
       "      <td>Friday</td>\n",
       "    </tr>\n",
       "    <tr>\n",
       "      <th>61251</th>\n",
       "      <td>321D0506</td>\n",
       "      <td>Freight Train</td>\n",
       "      <td>Chas McDevitt</td>\n",
       "      <td>rock</td>\n",
       "      <td>Springfield</td>\n",
       "      <td>21:43:59</td>\n",
       "      <td>Friday</td>\n",
       "    </tr>\n",
       "    <tr>\n",
       "      <th>61252</th>\n",
       "      <td>3A64EF84</td>\n",
       "      <td>Tell Me Sweet Little Lies</td>\n",
       "      <td>Monica Lopez</td>\n",
       "      <td>country</td>\n",
       "      <td>Springfield</td>\n",
       "      <td>21:59:46</td>\n",
       "      <td>Friday</td>\n",
       "    </tr>\n",
       "  </tbody>\n",
       "</table>\n",
       "<p>42741 rows × 7 columns</p>\n",
       "</div>"
      ],
      "text/plain": [
       "        user_id                          track                   artist  \\\n",
       "1      55204538    Delayed Because of Accident         Andreas Rönnberg   \n",
       "4      E2DC1FAE                    Soul People               Space Echo   \n",
       "6      4CB90AA5                           True             Roman Messer   \n",
       "7      F03E1C1F               Feeling This Way          Polina Griffith   \n",
       "8      8FA1D3BE                       L’estate              Julia Dalia   \n",
       "...         ...                            ...                      ...   \n",
       "61247  83A474E7  I Worship Only What You Bleed  The Black Dahlia Murder   \n",
       "61248  729CBB09                        My Name                   McLean   \n",
       "61250  C5E3A0D5                      Jalopiina                  unknown   \n",
       "61251  321D0506                  Freight Train            Chas McDevitt   \n",
       "61252  3A64EF84      Tell Me Sweet Little Lies             Monica Lopez   \n",
       "\n",
       "              genre         city      time        day  \n",
       "1              rock  Springfield  14:07:09     Friday  \n",
       "4             dance  Springfield  08:34:34     Monday  \n",
       "6             dance  Springfield  13:00:07  Wednesday  \n",
       "7             dance  Springfield  20:47:49  Wednesday  \n",
       "8            ruspop  Springfield  09:17:40     Friday  \n",
       "...             ...          ...       ...        ...  \n",
       "61247  extrememetal  Springfield  21:07:12     Monday  \n",
       "61248           rnb  Springfield  13:32:28  Wednesday  \n",
       "61250    industrial  Springfield  20:09:26     Friday  \n",
       "61251          rock  Springfield  21:43:59     Friday  \n",
       "61252       country  Springfield  21:59:46     Friday  \n",
       "\n",
       "[42741 rows x 7 columns]"
      ]
     },
     "execution_count": 28,
     "metadata": {},
     "output_type": "execute_result"
    }
   ],
   "source": [
    "# get the spr_general table from the df rows,\n",
    "# where the values of the 'city' column are 'Springfield'\n",
    "spr_general = df[df['city'] == 'Springfield']\n",
    "spr_general"
   ]
  },
  {
   "cell_type": "markdown",
   "metadata": {},
   "source": [
    "Displaying the table filtered based on the city `'Springfield'`."
   ]
  },
  {
   "cell_type": "code",
   "execution_count": 29,
   "metadata": {
    "id": "ORaVRKto_Zcu"
   },
   "outputs": [
    {
     "data": {
      "text/html": [
       "<div>\n",
       "<style scoped>\n",
       "    .dataframe tbody tr th:only-of-type {\n",
       "        vertical-align: middle;\n",
       "    }\n",
       "\n",
       "    .dataframe tbody tr th {\n",
       "        vertical-align: top;\n",
       "    }\n",
       "\n",
       "    .dataframe thead th {\n",
       "        text-align: right;\n",
       "    }\n",
       "</style>\n",
       "<table border=\"1\" class=\"dataframe\">\n",
       "  <thead>\n",
       "    <tr style=\"text-align: right;\">\n",
       "      <th></th>\n",
       "      <th>user_id</th>\n",
       "      <th>track</th>\n",
       "      <th>artist</th>\n",
       "      <th>genre</th>\n",
       "      <th>city</th>\n",
       "      <th>time</th>\n",
       "      <th>day</th>\n",
       "    </tr>\n",
       "  </thead>\n",
       "  <tbody>\n",
       "    <tr>\n",
       "      <th>0</th>\n",
       "      <td>FFB692EC</td>\n",
       "      <td>Kamigata To Boots</td>\n",
       "      <td>The Mass Missile</td>\n",
       "      <td>rock</td>\n",
       "      <td>Shelbyville</td>\n",
       "      <td>20:28:33</td>\n",
       "      <td>Wednesday</td>\n",
       "    </tr>\n",
       "    <tr>\n",
       "      <th>2</th>\n",
       "      <td>20EC38</td>\n",
       "      <td>Funiculì funiculà</td>\n",
       "      <td>Mario Lanza</td>\n",
       "      <td>pop</td>\n",
       "      <td>Shelbyville</td>\n",
       "      <td>20:58:07</td>\n",
       "      <td>Wednesday</td>\n",
       "    </tr>\n",
       "    <tr>\n",
       "      <th>3</th>\n",
       "      <td>A3DD03C9</td>\n",
       "      <td>Dragons in the Sunset</td>\n",
       "      <td>Fire + Ice</td>\n",
       "      <td>folk</td>\n",
       "      <td>Shelbyville</td>\n",
       "      <td>08:37:09</td>\n",
       "      <td>Monday</td>\n",
       "    </tr>\n",
       "    <tr>\n",
       "      <th>5</th>\n",
       "      <td>842029A1</td>\n",
       "      <td>Chains</td>\n",
       "      <td>Obladaet</td>\n",
       "      <td>rusrap</td>\n",
       "      <td>Shelbyville</td>\n",
       "      <td>13:09:41</td>\n",
       "      <td>Friday</td>\n",
       "    </tr>\n",
       "    <tr>\n",
       "      <th>9</th>\n",
       "      <td>E772D5C0</td>\n",
       "      <td>Pessimist</td>\n",
       "      <td>unknown</td>\n",
       "      <td>dance</td>\n",
       "      <td>Shelbyville</td>\n",
       "      <td>21:20:49</td>\n",
       "      <td>Wednesday</td>\n",
       "    </tr>\n",
       "    <tr>\n",
       "      <th>...</th>\n",
       "      <td>...</td>\n",
       "      <td>...</td>\n",
       "      <td>...</td>\n",
       "      <td>...</td>\n",
       "      <td>...</td>\n",
       "      <td>...</td>\n",
       "      <td>...</td>\n",
       "    </tr>\n",
       "    <tr>\n",
       "      <th>61239</th>\n",
       "      <td>D94F810B</td>\n",
       "      <td>Theme from the Walking Dead</td>\n",
       "      <td>Proyecto Halloween</td>\n",
       "      <td>film</td>\n",
       "      <td>Shelbyville</td>\n",
       "      <td>21:14:40</td>\n",
       "      <td>Monday</td>\n",
       "    </tr>\n",
       "    <tr>\n",
       "      <th>61240</th>\n",
       "      <td>BC8EC5CF</td>\n",
       "      <td>Red Lips: Gta (Rover Rework)</td>\n",
       "      <td>Rover</td>\n",
       "      <td>electronic</td>\n",
       "      <td>Shelbyville</td>\n",
       "      <td>21:06:50</td>\n",
       "      <td>Monday</td>\n",
       "    </tr>\n",
       "    <tr>\n",
       "      <th>61241</th>\n",
       "      <td>29E04611</td>\n",
       "      <td>Bre Petrunko</td>\n",
       "      <td>Perunika Trio</td>\n",
       "      <td>world</td>\n",
       "      <td>Shelbyville</td>\n",
       "      <td>13:56:00</td>\n",
       "      <td>Monday</td>\n",
       "    </tr>\n",
       "    <tr>\n",
       "      <th>61242</th>\n",
       "      <td>1B91C621</td>\n",
       "      <td>(Hello) Cloud Mountain</td>\n",
       "      <td>sleepmakeswaves</td>\n",
       "      <td>postrock</td>\n",
       "      <td>Shelbyville</td>\n",
       "      <td>09:22:13</td>\n",
       "      <td>Monday</td>\n",
       "    </tr>\n",
       "    <tr>\n",
       "      <th>61249</th>\n",
       "      <td>D08D4A55</td>\n",
       "      <td>Maybe One Day (feat. Black Spade)</td>\n",
       "      <td>Blu &amp; Exile</td>\n",
       "      <td>hiphop</td>\n",
       "      <td>Shelbyville</td>\n",
       "      <td>10:00:00</td>\n",
       "      <td>Monday</td>\n",
       "    </tr>\n",
       "  </tbody>\n",
       "</table>\n",
       "<p>18512 rows × 7 columns</p>\n",
       "</div>"
      ],
      "text/plain": [
       "        user_id                              track              artist  \\\n",
       "0      FFB692EC                  Kamigata To Boots    The Mass Missile   \n",
       "2        20EC38                  Funiculì funiculà         Mario Lanza   \n",
       "3      A3DD03C9              Dragons in the Sunset          Fire + Ice   \n",
       "5      842029A1                             Chains            Obladaet   \n",
       "9      E772D5C0                          Pessimist             unknown   \n",
       "...         ...                                ...                 ...   \n",
       "61239  D94F810B        Theme from the Walking Dead  Proyecto Halloween   \n",
       "61240  BC8EC5CF       Red Lips: Gta (Rover Rework)               Rover   \n",
       "61241  29E04611                       Bre Petrunko       Perunika Trio   \n",
       "61242  1B91C621             (Hello) Cloud Mountain     sleepmakeswaves   \n",
       "61249  D08D4A55  Maybe One Day (feat. Black Spade)         Blu & Exile   \n",
       "\n",
       "            genre         city      time        day  \n",
       "0            rock  Shelbyville  20:28:33  Wednesday  \n",
       "2             pop  Shelbyville  20:58:07  Wednesday  \n",
       "3            folk  Shelbyville  08:37:09     Monday  \n",
       "5          rusrap  Shelbyville  13:09:41     Friday  \n",
       "9           dance  Shelbyville  21:20:49  Wednesday  \n",
       "...           ...          ...       ...        ...  \n",
       "61239        film  Shelbyville  21:14:40     Monday  \n",
       "61240  electronic  Shelbyville  21:06:50     Monday  \n",
       "61241       world  Shelbyville  13:56:00     Monday  \n",
       "61242    postrock  Shelbyville  09:22:13     Monday  \n",
       "61249      hiphop  Shelbyville  10:00:00     Monday  \n",
       "\n",
       "[18512 rows x 7 columns]"
      ]
     },
     "execution_count": 29,
     "metadata": {},
     "output_type": "execute_result"
    }
   ],
   "source": [
    "# get the shel_general from the df rows,\n",
    "# where the values of the 'city' column are 'Shelbyville'\n",
    "shel_general = df[df['city'] == 'Shelbyville']\n",
    "shel_general"
   ]
  },
  {
   "cell_type": "markdown",
   "metadata": {},
   "source": [
    "Displaying the table filtered based on the city `'Shelbyville'`."
   ]
  },
  {
   "cell_type": "markdown",
   "metadata": {
    "id": "MEJV-CX2_Zcu"
   },
   "source": [
    "Create the `genre_weekday()` function with four parameters:\n",
    "* A table for data\n",
    "* Day name\n",
    "* Start time stamp, in 'hh:mm' format\n",
    "* End time stamp, in 'hh:mm' format\n",
    "\n",
    "The function should provide information about the top 15 most popular genres on a specific day within the period between two time stamps."
   ]
  },
  {
   "cell_type": "code",
   "execution_count": 30,
   "metadata": {
    "id": "laJT9BYl_Zcu"
   },
   "outputs": [],
   "source": [
    "# Declaring the genre_weekday() function with parameters day=, time1=, and time2=.\n",
    "# The function should provide information about the most popular genre on a specific day and time:\n",
    "\n",
    "# 1) Make the genre_df variable store rows that meet the following conditions:\n",
    "#   - the value in the 'day' column equals the value of the day= argument\n",
    "#   - the value in the 'time' column is greater than the value of the time1= argument\n",
    "#   - the value in the 'time' column is less than the value of the time2= argument\n",
    "#   Use sequential filtering with logical indexing.\n",
    "\n",
    "# 2) Group genre_df by the 'genre' column, take one of its columns,\n",
    "#    then use the count() method to find the number of entries for each\n",
    "#    represented genre; store the resulting Series into\n",
    "#    the genre_df_count variable\n",
    "\n",
    "# 3) Sort genre_df_count in descending order based on frequency and store the result\n",
    "#    into the genre_df_sorted variable\n",
    "\n",
    "# 4) Generate a Series object with the first 15 values of genre_df_sorted - the 15 most\n",
    "#    popular genres (on a specific day, within a specific time range)\n",
    "\n",
    "# Write your function here\n",
    "def genre_weekday(data, day, time1, time2):\n",
    "    # Sequential filtering\n",
    "    # genre_df will only store df rows with the same day value as day\n",
    "    genre_df = data[data['day'] == day]\n",
    "    \n",
    "    # genre_df will only store df rows with time greater than time1\n",
    "    genre_df = genre_df[genre_df['time'] > time1]\n",
    "    # genre_df will only store df rows with time less than time2\n",
    "    genre_df2 = genre_df[genre_df['time'] < time2]\n",
    "\n",
    "    # Group the filtered DataFrame by the column named genre, take the genre column, and find the count of rows for each genre with the count() method\n",
    "    genre_df_grouped = genre_df.groupby('genre')['genre'].count()\n",
    "\n",
    "    # Sort the result in descending order (so that the most popular genres are displayed earlier in the Series object)\n",
    "    genre_df_sorted = genre_df_grouped.sort_values(ascending=False)\n",
    "\n",
    "    # Generate a Series object storing the 15 most popular genres on a specific day within a specific time range\n",
    "    return genre_df_sorted[:15]\n"
   ]
  },
  {
   "cell_type": "markdown",
   "metadata": {
    "id": "la2s2_PF_Zcu"
   },
   "source": [
    "Compare the results of the `genre_weekday()` function for Springfield and Shelbyville on Monday morning (from 07:00 to 11:00) and Friday evening (from 17:00 to 23:00):"
   ]
  },
  {
   "cell_type": "code",
   "execution_count": 31,
   "metadata": {
    "id": "yz7itPUQ_Zcu"
   },
   "outputs": [
    {
     "data": {
      "text/plain": [
       "genre\n",
       "pop            2154\n",
       "dance          1669\n",
       "rock           1452\n",
       "electronic     1432\n",
       "hiphop          789\n",
       "classical       558\n",
       "world           548\n",
       "alternative     499\n",
       "ruspop          478\n",
       "rusrap          440\n",
       "unknown         393\n",
       "jazz            339\n",
       "metal           313\n",
       "folk            268\n",
       "soundtrack      268\n",
       "Name: genre, dtype: int64"
      ]
     },
     "execution_count": 31,
     "metadata": {},
     "output_type": "execute_result"
    }
   ],
   "source": [
    "# calling the function for Monday morning in Springfield (use spr_general instead of the df table)\n",
    "week = genre_weekday(spr_general, 'Monday', '07:00', '11:00')\n",
    "week"
   ]
  },
  {
   "cell_type": "code",
   "execution_count": 32,
   "metadata": {
    "id": "kwUcHPdy_Zcu"
   },
   "outputs": [
    {
     "data": {
      "text/plain": [
       "genre\n",
       "pop            732\n",
       "dance          589\n",
       "rock           577\n",
       "electronic     523\n",
       "hiphop         277\n",
       "alternative    199\n",
       "classical      187\n",
       "jazz           174\n",
       "rusrap         164\n",
       "world          163\n",
       "ruspop         162\n",
       "metal          110\n",
       "soundtrack     101\n",
       "unknown         95\n",
       "rap             93\n",
       "Name: genre, dtype: int64"
      ]
     },
     "execution_count": 32,
     "metadata": {},
     "output_type": "execute_result"
    }
   ],
   "source": [
    "# calling the function for Monday morning in Shelbyville (use shel_general instead of the df table)\n",
    "week = genre_weekday(shel_general, 'Monday', '07:00', '11:00')\n",
    "week"
   ]
  },
  {
   "cell_type": "code",
   "execution_count": 33,
   "metadata": {
    "id": "EzXVRE1o_Zcu"
   },
   "outputs": [
    {
     "data": {
      "text/plain": [
       "genre\n",
       "pop            713\n",
       "rock           517\n",
       "dance          495\n",
       "electronic     482\n",
       "hiphop         273\n",
       "world          208\n",
       "ruspop         170\n",
       "classical      163\n",
       "alternative    163\n",
       "rusrap         142\n",
       "jazz           111\n",
       "unknown        110\n",
       "soundtrack     105\n",
       "rnb             90\n",
       "metal           88\n",
       "Name: genre, dtype: int64"
      ]
     },
     "execution_count": 33,
     "metadata": {},
     "output_type": "execute_result"
    }
   ],
   "source": [
    "# calling the function for Friday evening in Springfield\n",
    "genre_weekday(spr_general, 'Friday', '17:00', '23:00')"
   ]
  },
  {
   "cell_type": "code",
   "execution_count": 34,
   "metadata": {
    "id": "JZaEKu5v_Zcu"
   },
   "outputs": [
    {
     "data": {
      "text/plain": [
       "genre\n",
       "pop            256\n",
       "rock           216\n",
       "electronic     216\n",
       "dance          210\n",
       "hiphop          97\n",
       "alternative     63\n",
       "jazz            61\n",
       "classical       60\n",
       "rusrap          59\n",
       "world           54\n",
       "unknown         47\n",
       "ruspop          47\n",
       "soundtrack      40\n",
       "metal           39\n",
       "rap             36\n",
       "Name: genre, dtype: int64"
      ]
     },
     "execution_count": 34,
     "metadata": {},
     "output_type": "execute_result"
    }
   ],
   "source": [
    "# calling the function for Friday evening in Shelbyville\n",
    "genre_weekday(shel_general, 'Friday', '17:00', '23:00')"
   ]
  },
  {
   "cell_type": "markdown",
   "metadata": {
    "id": "jLmXgdanVyhP"
   },
   "source": [
    "**Conclusion**\n",
    "\n",
    "After comparing the top 15 genres on Monday morning, we can draw the following conclusions:\n",
    "\n",
    "1. Users from Springfield and Shelbyville listen to music with the same genres. The top five genres from both cities are the same, with only rock and electronic genres swapping places.\n",
    "\n",
    "2. In Springfield, the amount of missing values is significantly high, causing the `'unknown'` value to rank 12th. This indicates that the missing values cover a significant proportion of the data, raising questions about the reliability of our conclusions.\n",
    "\n",
    "For Friday evening, the situation is similar. Individual genres vary, but overall, the top 15 genres for both cities are the same.\n",
    "\n",
    "Thus, hypothesis two is partially confirmed:\n",
    "* Users listen to the same music at the beginning and end of the week.\n",
    "* There is no significant difference between Springfield and Shelbyville. In both cities, pop is the most popular genre.\n",
    "\n",
    "However, the significance of the amount of missing values casts doubt on these results. In Springfield, there are so many missing values that affect our top 15 genre results. If we did not have these missing values, the results might be different.\n",
    "\n",
    "[Back to Table of Contents](#back)"
   ]
  },
  {
   "cell_type": "markdown",
   "metadata": {
    "id": "DlegSvaT_Zcu"
   },
   "source": [
    "### Hypothesis 3: Genre Preferences in Springfield and Shelbyville <a id='genre'></a>\n",
    "\n",
    "Hypothesis: Listeners in Shelbyville prefer rap music, while listeners in Springfield prefer pop.\n",
    "\n",
    "Group the `spr_general` table by genre and find the count of tracks played for each genre using the `count()` method. Then, sort the results in descending order and store it in `spr_genres`."
   ]
  },
  {
   "cell_type": "code",
   "execution_count": 35,
   "metadata": {
    "id": "r19lIPke_Zcu"
   },
   "outputs": [],
   "source": [
    "# In one line: group the spr_general table by the 'genre' column,\n",
    "# count the values of the 'genre' column with count() within the grouping,\n",
    "# sort the resulting Series in descending order, then save the result to spr_genres.\n",
    "spr_general = spr_general.groupby('genre')['genre'].count().sort_values(ascending=False)"
   ]
  },
  {
   "cell_type": "markdown",
   "metadata": {
    "id": "6kMuomxTiIr8"
   },
   "source": [
    "Display the first 10 rows of `spr_genres`:"
   ]
  },
  {
   "cell_type": "code",
   "execution_count": 36,
   "metadata": {
    "id": "WhCSooF8_Zcv"
   },
   "outputs": [
    {
     "data": {
      "text/plain": [
       "genre\n",
       "pop            5892\n",
       "dance          4435\n",
       "rock           3965\n",
       "electronic     3786\n",
       "hiphop         2096\n",
       "classical      1616\n",
       "world          1432\n",
       "alternative    1379\n",
       "ruspop         1372\n",
       "rusrap         1161\n",
       "Name: genre, dtype: int64"
      ]
     },
     "execution_count": 36,
     "metadata": {},
     "output_type": "execute_result"
    }
   ],
   "source": [
    "# Displaying the first 10 rows of spr_genres\n",
    "spr_general[:10]"
   ]
  },
  {
   "cell_type": "markdown",
   "metadata": {
    "id": "cnPG2vnN_Zcv"
   },
   "source": [
    "Now, do the same for the data from Shelbyville.\n",
    "\n",
    "Group the `shel_general` table by genre and find the count of tracks played for each genre. Then, sort the results in descending order and save it to the `shel_genres` table."
   ]
  },
  {
   "cell_type": "code",
   "execution_count": 37,
   "metadata": {
    "id": "gluLIpE7_Zcv"
   },
   "outputs": [],
   "source": [
    "# In one line: group the shel_general table by the 'genre' column,\n",
    "# count the values of the 'genre' column within the grouping using count(),\n",
    "# ort the resulting Series in descending order, and save it to shel_genres.\n",
    "shel_genres = shel_general.groupby('genre')['genre'].count().sort_values(ascending=False)"
   ]
  },
  {
   "cell_type": "markdown",
   "metadata": {
    "id": "5Doha_ODgyQ8"
   },
   "source": [
    "Display the first 10 rows of `shel_genres`:"
   ]
  },
  {
   "cell_type": "code",
   "execution_count": 38,
   "metadata": {
    "id": "uaGJHjVU_Zcv"
   },
   "outputs": [
    {
     "data": {
      "text/plain": [
       "genre\n",
       "pop            2431\n",
       "dance          1932\n",
       "rock           1879\n",
       "electronic     1736\n",
       "hiphop          960\n",
       "alternative     649\n",
       "classical       646\n",
       "rusrap          564\n",
       "ruspop          538\n",
       "world           515\n",
       "Name: genre, dtype: int64"
      ]
     },
     "execution_count": 38,
     "metadata": {},
     "output_type": "execute_result"
    }
   ],
   "source": [
    "# Displaying the first 10 rows of shel_genres\n",
    "shel_genres[:10]"
   ]
  },
  {
   "cell_type": "markdown",
   "metadata": {
    "id": "ykKQ0N65_Zcv"
   },
   "source": [
    "**Conclusion**\n",
    "\n",
    "This hypothesis is partially confirmed:\n",
    "* Pop music is the most popular genre in Springfield, as we speculated.\n",
    "* However, pop music is equally popular in both Springfield and Shelbyville, and rap music does not make it to the top 5 genres for both cities.\n",
    "\n",
    "[Back to Table of Contents](#back)"
   ]
  },
  {
   "cell_type": "markdown",
   "metadata": {
    "id": "ykKQ0N65_Zcv"
   },
   "source": [
    "# Findings <a id='end'></a>\n",
    "\n",
    "We have tested the following three hypotheses:\n",
    "\n",
    "1. User activity varies depending on the day and the city.\n",
    "2. On Monday mornings, residents of Springfield and Shelbyville listen to different genres. This also applies to Friday evenings.\n",
    "3. Listeners in Springfield and Shelbyville have different preferences. Both in Springfield and Shelbyville, users prefer pop music.\n",
    "\n",
    "After analyzing the available data, we can conclude that:\n",
    "\n",
    "1. User activity in Springfield and Shelbyville depends on the day of the week, although the two cities vary in several ways.\n",
    "\n",
    "The first hypothesis can be fully accepted.\n",
    "\n",
    "2. Music preferences do not vary significantly throughout the week in Springfield and Shelbyville. We can observe slight differences in rankings on Monday, but:\n",
    "* Both in Springfield and Shelbyville, users mostly listen to pop music.\n",
    "\n",
    "Therefore, this hypothesis cannot be accepted. It is also important to remember that the obtained results might differ if we did not have missing values.\n",
    "\n",
    "3. It turns out that the music preferences of users from Springfield and Shelbyville are very similar.\n",
    "\n",
    "The third hypothesis is rejected. If there were indeed differences in preferences, unfortunately, this cannot be determined from this data.\n",
    "\n",
    "[Back to Table of Contents](#back)"
   ]
  }
 ],
 "metadata": {
  "ExecuteTimeLog": [
   {
    "duration": 474,
    "start_time": "2024-05-24T23:49:32.761Z"
   },
   {
    "duration": 338,
    "start_time": "2024-05-24T23:49:33.238Z"
   },
   {
    "duration": 18,
    "start_time": "2024-05-24T23:49:33.578Z"
   },
   {
    "duration": 53,
    "start_time": "2024-05-24T23:49:33.603Z"
   },
   {
    "duration": 6,
    "start_time": "2024-05-24T23:49:33.659Z"
   },
   {
    "duration": 15,
    "start_time": "2024-05-24T23:49:33.669Z"
   },
   {
    "duration": 46,
    "start_time": "2024-05-24T23:49:33.687Z"
   },
   {
    "duration": 27,
    "start_time": "2024-05-24T23:49:33.736Z"
   },
   {
    "duration": 19,
    "start_time": "2024-05-24T23:49:33.766Z"
   },
   {
    "duration": 51,
    "start_time": "2024-05-24T23:49:33.790Z"
   },
   {
    "duration": 97,
    "start_time": "2024-05-24T23:49:33.844Z"
   },
   {
    "duration": 98,
    "start_time": "2024-05-24T23:49:33.943Z"
   },
   {
    "duration": 90,
    "start_time": "2024-05-24T23:49:34.044Z"
   },
   {
    "duration": 57,
    "start_time": "2024-05-24T23:49:34.138Z"
   },
   {
    "duration": 5,
    "start_time": "2024-05-24T23:49:34.197Z"
   },
   {
    "duration": 27,
    "start_time": "2024-05-24T23:49:34.232Z"
   },
   {
    "duration": 73,
    "start_time": "2024-05-24T23:49:34.262Z"
   },
   {
    "duration": 20,
    "start_time": "2024-05-24T23:49:34.340Z"
   },
   {
    "duration": 19,
    "start_time": "2024-05-24T23:49:34.363Z"
   },
   {
    "duration": 8,
    "start_time": "2024-05-24T23:49:34.385Z"
   },
   {
    "duration": 50,
    "start_time": "2024-05-24T23:49:34.395Z"
   },
   {
    "duration": 18,
    "start_time": "2024-05-24T23:49:34.448Z"
   },
   {
    "duration": 18,
    "start_time": "2024-05-24T23:49:34.469Z"
   },
   {
    "duration": 48,
    "start_time": "2024-05-24T23:49:34.490Z"
   },
   {
    "duration": 21,
    "start_time": "2024-05-24T23:49:34.540Z"
   },
   {
    "duration": 18,
    "start_time": "2024-05-24T23:49:34.564Z"
   },
   {
    "duration": 49,
    "start_time": "2024-05-24T23:49:34.584Z"
   },
   {
    "duration": 28,
    "start_time": "2024-05-24T23:49:34.639Z"
   },
   {
    "duration": 25,
    "start_time": "2024-05-24T23:49:34.670Z"
   },
   {
    "duration": 39,
    "start_time": "2024-05-24T23:49:34.698Z"
   },
   {
    "duration": 32,
    "start_time": "2024-05-24T23:49:34.740Z"
   },
   {
    "duration": 20,
    "start_time": "2024-05-24T23:49:34.775Z"
   },
   {
    "duration": 27,
    "start_time": "2024-05-24T23:49:34.832Z"
   },
   {
    "duration": 19,
    "start_time": "2024-05-24T23:49:34.863Z"
   },
   {
    "duration": 48,
    "start_time": "2024-05-24T23:49:34.885Z"
   },
   {
    "duration": 9,
    "start_time": "2024-05-24T23:49:34.936Z"
   },
   {
    "duration": 8,
    "start_time": "2024-05-24T23:49:34.948Z"
   },
   {
    "duration": 19,
    "start_time": "2024-05-24T23:49:34.959Z"
   },
   {
    "duration": 6,
    "start_time": "2024-05-25T01:09:37.313Z"
   },
   {
    "duration": 1017,
    "start_time": "2024-05-25T01:09:40.915Z"
   },
   {
    "duration": 23,
    "start_time": "2024-05-25T01:10:17.404Z"
   },
   {
    "duration": 445,
    "start_time": "2024-05-25T01:10:30.678Z"
   },
   {
    "duration": 365,
    "start_time": "2024-05-25T01:10:31.126Z"
   },
   {
    "duration": 18,
    "start_time": "2024-05-25T01:10:31.494Z"
   },
   {
    "duration": 38,
    "start_time": "2024-05-25T01:10:31.533Z"
   },
   {
    "duration": 6,
    "start_time": "2024-05-25T01:10:31.574Z"
   },
   {
    "duration": 50,
    "start_time": "2024-05-25T01:10:31.583Z"
   },
   {
    "duration": 11,
    "start_time": "2024-05-25T01:10:31.637Z"
   },
   {
    "duration": 41,
    "start_time": "2024-05-25T01:10:31.651Z"
   },
   {
    "duration": 49,
    "start_time": "2024-05-25T01:10:31.696Z"
   },
   {
    "duration": 28,
    "start_time": "2024-05-25T01:10:31.750Z"
   },
   {
    "duration": 112,
    "start_time": "2024-05-25T01:10:31.781Z"
   },
   {
    "duration": 108,
    "start_time": "2024-05-25T01:10:31.895Z"
   },
   {
    "duration": 91,
    "start_time": "2024-05-25T01:10:32.006Z"
   },
   {
    "duration": 67,
    "start_time": "2024-05-25T01:10:32.099Z"
   },
   {
    "duration": 4,
    "start_time": "2024-05-25T01:10:32.169Z"
   },
   {
    "duration": 27,
    "start_time": "2024-05-25T01:10:32.176Z"
   },
   {
    "duration": 53,
    "start_time": "2024-05-25T01:10:32.232Z"
   },
   {
    "duration": 20,
    "start_time": "2024-05-25T01:10:32.289Z"
   },
   {
    "duration": 22,
    "start_time": "2024-05-25T01:10:32.333Z"
   },
   {
    "duration": 6,
    "start_time": "2024-05-25T01:10:32.358Z"
   },
   {
    "duration": 21,
    "start_time": "2024-05-25T01:10:32.367Z"
   },
   {
    "duration": 53,
    "start_time": "2024-05-25T01:10:32.390Z"
   },
   {
    "duration": 21,
    "start_time": "2024-05-25T01:10:32.446Z"
   },
   {
    "duration": 19,
    "start_time": "2024-05-25T01:10:32.470Z"
   },
   {
    "duration": 50,
    "start_time": "2024-05-25T01:10:32.491Z"
   },
   {
    "duration": 20,
    "start_time": "2024-05-25T01:10:32.544Z"
   },
   {
    "duration": 13,
    "start_time": "2024-05-25T01:10:32.567Z"
   },
   {
    "duration": 65,
    "start_time": "2024-05-25T01:10:32.589Z"
   },
   {
    "duration": 25,
    "start_time": "2024-05-25T01:10:32.657Z"
   },
   {
    "duration": 6,
    "start_time": "2024-05-25T01:10:32.685Z"
   },
   {
    "duration": 59,
    "start_time": "2024-05-25T01:10:32.694Z"
   },
   {
    "duration": 17,
    "start_time": "2024-05-25T01:10:32.756Z"
   },
   {
    "duration": 20,
    "start_time": "2024-05-25T01:10:32.776Z"
   },
   {
    "duration": 50,
    "start_time": "2024-05-25T01:10:32.798Z"
   },
   {
    "duration": 11,
    "start_time": "2024-05-25T01:10:32.852Z"
   },
   {
    "duration": 7,
    "start_time": "2024-05-25T01:10:32.866Z"
   },
   {
    "duration": 9,
    "start_time": "2024-05-25T01:10:32.876Z"
   },
   {
    "duration": 47,
    "start_time": "2024-05-25T01:10:32.888Z"
   },
   {
    "duration": 511,
    "start_time": "2024-05-25T01:20:33.398Z"
   },
   {
    "duration": 369,
    "start_time": "2024-05-25T01:20:33.913Z"
   },
   {
    "duration": 18,
    "start_time": "2024-05-25T01:20:34.289Z"
   },
   {
    "duration": 48,
    "start_time": "2024-05-25T01:20:34.312Z"
   },
   {
    "duration": 7,
    "start_time": "2024-05-25T01:20:34.363Z"
   },
   {
    "duration": 16,
    "start_time": "2024-05-25T01:20:34.374Z"
   },
   {
    "duration": 42,
    "start_time": "2024-05-25T01:20:34.393Z"
   },
   {
    "duration": 33,
    "start_time": "2024-05-25T01:20:34.438Z"
   },
   {
    "duration": 29,
    "start_time": "2024-05-25T01:20:34.474Z"
   },
   {
    "duration": 25,
    "start_time": "2024-05-25T01:20:34.533Z"
   },
   {
    "duration": 91,
    "start_time": "2024-05-25T01:20:34.561Z"
   },
   {
    "duration": 98,
    "start_time": "2024-05-25T01:20:34.656Z"
   },
   {
    "duration": 82,
    "start_time": "2024-05-25T01:20:34.757Z"
   },
   {
    "duration": 52,
    "start_time": "2024-05-25T01:20:34.842Z"
   },
   {
    "duration": 5,
    "start_time": "2024-05-25T01:20:34.897Z"
   },
   {
    "duration": 54,
    "start_time": "2024-05-25T01:20:34.905Z"
   },
   {
    "duration": 72,
    "start_time": "2024-05-25T01:20:34.962Z"
   },
   {
    "duration": 19,
    "start_time": "2024-05-25T01:20:35.037Z"
   },
   {
    "duration": 19,
    "start_time": "2024-05-25T01:20:35.059Z"
   },
   {
    "duration": 6,
    "start_time": "2024-05-25T01:20:35.080Z"
   },
   {
    "duration": 57,
    "start_time": "2024-05-25T01:20:35.089Z"
   },
   {
    "duration": 18,
    "start_time": "2024-05-25T01:20:35.148Z"
   },
   {
    "duration": 19,
    "start_time": "2024-05-25T01:20:35.168Z"
   },
   {
    "duration": 46,
    "start_time": "2024-05-25T01:20:35.191Z"
   },
   {
    "duration": 21,
    "start_time": "2024-05-25T01:20:35.239Z"
   },
   {
    "duration": 18,
    "start_time": "2024-05-25T01:20:35.262Z"
   },
   {
    "duration": 12,
    "start_time": "2024-05-25T01:20:35.283Z"
   },
   {
    "duration": 26,
    "start_time": "2024-05-25T01:20:35.335Z"
   },
   {
    "duration": 27,
    "start_time": "2024-05-25T01:20:35.364Z"
   },
   {
    "duration": 38,
    "start_time": "2024-05-25T01:20:35.394Z"
   },
   {
    "duration": 33,
    "start_time": "2024-05-25T01:20:35.436Z"
   },
   {
    "duration": 21,
    "start_time": "2024-05-25T01:20:35.473Z"
   },
   {
    "duration": 53,
    "start_time": "2024-05-25T01:20:35.497Z"
   },
   {
    "duration": 15,
    "start_time": "2024-05-25T01:20:35.554Z"
   },
   {
    "duration": 13,
    "start_time": "2024-05-25T01:20:35.573Z"
   },
   {
    "duration": 7,
    "start_time": "2024-05-25T01:20:35.589Z"
   },
   {
    "duration": 41,
    "start_time": "2024-05-25T01:20:35.600Z"
   },
   {
    "duration": 9,
    "start_time": "2024-05-25T01:20:35.644Z"
   },
   {
    "duration": 89,
    "start_time": "2024-05-25T01:27:50.332Z"
   },
   {
    "duration": 3860,
    "start_time": "2024-05-25T02:19:56.596Z"
   },
   {
    "duration": 13,
    "start_time": "2024-05-25T02:29:19.528Z"
   },
   {
    "duration": 331,
    "start_time": "2024-05-25T02:33:18.605Z"
   },
   {
    "duration": 475,
    "start_time": "2024-05-25T02:33:26.652Z"
   },
   {
    "duration": 490,
    "start_time": "2024-05-25T02:33:29.530Z"
   },
   {
    "duration": 478,
    "start_time": "2024-05-25T02:47:43.916Z"
   },
   {
    "duration": 487,
    "start_time": "2024-05-25T02:47:44.397Z"
   },
   {
    "duration": 29,
    "start_time": "2024-05-25T02:47:44.889Z"
   },
   {
    "duration": 35,
    "start_time": "2024-05-25T02:47:44.925Z"
   },
   {
    "duration": 6,
    "start_time": "2024-05-25T02:47:44.963Z"
   },
   {
    "duration": 44,
    "start_time": "2024-05-25T02:47:44.972Z"
   },
   {
    "duration": 7,
    "start_time": "2024-05-25T02:47:45.020Z"
   },
   {
    "duration": 28,
    "start_time": "2024-05-25T02:47:45.029Z"
   },
   {
    "duration": 60,
    "start_time": "2024-05-25T02:47:45.060Z"
   },
   {
    "duration": 26,
    "start_time": "2024-05-25T02:47:45.128Z"
   },
   {
    "duration": 101,
    "start_time": "2024-05-25T02:47:45.157Z"
   },
   {
    "duration": 95,
    "start_time": "2024-05-25T02:47:45.260Z"
   },
   {
    "duration": 76,
    "start_time": "2024-05-25T02:47:45.360Z"
   },
   {
    "duration": 53,
    "start_time": "2024-05-25T02:47:45.439Z"
   },
   {
    "duration": 21,
    "start_time": "2024-05-25T02:47:45.495Z"
   },
   {
    "duration": 27,
    "start_time": "2024-05-25T02:47:45.519Z"
   },
   {
    "duration": 84,
    "start_time": "2024-05-25T02:47:45.549Z"
   },
   {
    "duration": 19,
    "start_time": "2024-05-25T02:47:45.636Z"
   },
   {
    "duration": 19,
    "start_time": "2024-05-25T02:47:45.658Z"
   },
   {
    "duration": 33,
    "start_time": "2024-05-25T02:47:45.680Z"
   },
   {
    "duration": 21,
    "start_time": "2024-05-25T02:47:45.716Z"
   },
   {
    "duration": 18,
    "start_time": "2024-05-25T02:47:45.740Z"
   },
   {
    "duration": 51,
    "start_time": "2024-05-25T02:47:45.761Z"
   },
   {
    "duration": 19,
    "start_time": "2024-05-25T02:47:45.815Z"
   },
   {
    "duration": 21,
    "start_time": "2024-05-25T02:47:45.836Z"
   },
   {
    "duration": 52,
    "start_time": "2024-05-25T02:47:45.860Z"
   },
   {
    "duration": 12,
    "start_time": "2024-05-25T02:47:45.916Z"
   },
   {
    "duration": 32,
    "start_time": "2024-05-25T02:47:45.935Z"
   },
   {
    "duration": 58,
    "start_time": "2024-05-25T02:47:45.970Z"
   },
   {
    "duration": 7,
    "start_time": "2024-05-25T02:47:46.030Z"
   },
   {
    "duration": 26,
    "start_time": "2024-05-25T02:47:46.040Z"
   },
   {
    "duration": 52,
    "start_time": "2024-05-25T02:47:46.069Z"
   },
   {
    "duration": 21,
    "start_time": "2024-05-25T02:47:46.124Z"
   },
   {
    "duration": 18,
    "start_time": "2024-05-25T02:47:46.148Z"
   },
   {
    "duration": 47,
    "start_time": "2024-05-25T02:47:46.168Z"
   },
   {
    "duration": 7,
    "start_time": "2024-05-25T02:47:46.218Z"
   },
   {
    "duration": 9,
    "start_time": "2024-05-25T02:47:46.229Z"
   },
   {
    "duration": 8,
    "start_time": "2024-05-25T02:47:46.241Z"
   }
  ],
  "colab": {
   "collapsed_sections": [
    "E0vqbgi9ay0H",
    "VUC88oWjTJw2",
    "atZAxtq4_Zcu"
   ],
   "name": "EmptyFinalProject.ipynb\"",
   "provenance": []
  },
  "kernelspec": {
   "display_name": "Python 3 (ipykernel)",
   "language": "python",
   "name": "python3"
  },
  "language_info": {
   "codemirror_mode": {
    "name": "ipython",
    "version": 3
   },
   "file_extension": ".py",
   "mimetype": "text/x-python",
   "name": "python",
   "nbconvert_exporter": "python",
   "pygments_lexer": "ipython3",
   "version": "3.9.19"
  },
  "toc": {
   "base_numbering": "",
   "nav_menu": {},
   "number_sections": false,
   "sideBar": true,
   "skip_h1_title": false,
   "title_cell": "Table of Contents",
   "title_sidebar": "Contents",
   "toc_cell": false,
   "toc_position": {
    "height": "calc(100% - 180px)",
    "left": "10px",
    "top": "150px",
    "width": "258px"
   },
   "toc_section_display": true,
   "toc_window_display": true
  }
 },
 "nbformat": 4,
 "nbformat_minor": 4
}
