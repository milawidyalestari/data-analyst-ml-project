{
 "cells": [
  {
   "cell_type": "markdown",
   "metadata": {
    "id": "i5QwcpiFcOEW"
   },
   "source": [
    "# Contents<a id='back'></a>\n",
    "* [Introduction](#intro)\n",
    "* [Data Review](#data_review)\n",
    "    * [Getting General Information About the Data](#open_file)\n",
    "    * [Data Exploration](#data_explore)\n",
    "    * [Conclusion](#conclusion1)\n",
    "* [Data Preprocessing](#processing_data)\n",
    "    * [Data Transformation](#data_transform)\n",
    "    * [Fixing Duplicate Data](#duplicate)\n",
    "    * [Filling Missing Data](#missing_values)\n",
    "    * [Data Categorization](#data_category)\n",
    "* [Hypothesis Testing](#hypothesis)\n",
    "* [Overall Conclusion](#final)"
   ]
  },
  {
   "cell_type": "markdown",
   "metadata": {
    "id": "IPSDdWejcOEd"
   },
   "source": [
    "# Introduction: Analyzing Borrower Default Risk <a id='intro'></a>\n",
    "\n",
    "The project's goal is to prepare a report for the credit division of a bank. We will investigate the impact of a borrower's marital status and the number of children they have on the probability of loan default. The bank already has some data on customer creditworthiness.\n",
    "\n",
    "This report will be considered when making **credit assessments** for potential borrowers. **Credit assessment** is used to evaluate the ability of prospective borrowers to repay their loans.\n",
    "\n",
    "This analysis aims to determine whether there is a relationship between having children, marital status, income level, and the purpose of the loan on the probability of default.\n",
    "\n",
    "### Objectives\n",
    "\n",
    "We will test four hypotheses:\n",
    "\n",
    "1. The relationship between having children and an individual's loan default rate.\n",
    "2. Whether there is a relationship between marital status and the probability of loan default.\n",
    "3. Whether an individual's income level can influence loan default.\n",
    "4. Whether the purpose of the loan affects the likelihood of loan default.\n",
    "\n",
    "### Steps\n",
    "\n",
    "The customer data is stored in two different file paths: `'/datasets/credit_scoring_eng.csv'` for the internal file path, and [`'credit_scoring_eng.csv'`](https://raw.githubusercontent.com/milawidyalestari/data-analyst-ml-project/project2-borrower-default-risk/credit_scoring_eng.csv) for the external file path. The quality of the data is not yet known, so we will first review the dataset. Then, we will perform data preprocessing. After completing these steps, we will test our hypotheses.\n",
    "\n",
    "This project will be divided into three stages:\n",
    "1. Data Review\n",
    "2. Data Preprocessing\n",
    "3. Hypothesis Testing\n",
    "\n",
    "[Back to contents](#back)\n",
    "\n",
    "## Stage 1. Data Review <a id= 'data_review'></a>\n",
    "\n",
    "This stage aims to review the data quality and gather all information related to individuals applying for credit.\n",
    "\n",
    "### Open the data file and read its general information <a id= 'open_file'></a>\n",
    "\n",
    "First, we will import the necessary libraries for data processing. We will use the pandas library for data review and cleaning.\n",
    "\n",
    "Loading all libraries and adding the data:"
   ]
  },
  {
   "cell_type": "code",
   "execution_count": 1,
   "metadata": {
    "id": "UFz3Rni7jM_M"
   },
   "outputs": [],
   "source": [
    "# Load all libraries\n",
    "import pandas as pd\n",
    "import matplotlib.pyplot as plt"
   ]
  },
  {
   "cell_type": "code",
   "execution_count": 2,
   "metadata": {
    "id": "7aykZ_OscOEf"
   },
   "outputs": [],
   "source": [
    "# Load the data\n",
    "path = 'https://raw.githubusercontent.com/milawidyalestari/data-analyst-ml-project/project2-borrower-default-risk/credit_scoring_eng.csv'\n",
    "try:\n",
    "    creditScore = pd.read_csv(path)\n",
    "except:\n",
    "    creditScore = pd.read_csv('/datasets/credit_scoring_eng.csv')"
   ]
  },
  {
   "cell_type": "markdown",
   "metadata": {
    "id": "J0ZDhuzmcOEg"
   },
   "source": [
    "### Data Exploration <a id='data_explore'></a>\n",
    "\n",
    "**Data Description**\n",
    "- `children` - number of children in the family\n",
    "- `days_employed` - client's work experience in days\n",
    "- `dob_years` - client's age in years\n",
    "- `education` - client's education level\n",
    "- `education_id` - identifier for the client's education level\n",
    "- `family_status` - marital status\n",
    "- `family_status_id` - identifier for the client's marital status\n",
    "- `gender` - client's gender\n",
    "- `income_type` - type of employment\n",
    "- `debt` - whether the client has ever defaulted on a loan\n",
    "- `total_income` - monthly income\n",
    "- `purpose` - purpose of obtaining the loan\n",
    "\n",
    "Reviewing data size:"
   ]
  },
  {
   "cell_type": "code",
   "execution_count": 3,
   "metadata": {
    "colab": {
     "base_uri": "https://localhost:8080/"
    },
    "id": "f6X1rWa5jM_Q",
    "outputId": "02c074e1-6d27-451e-9246-36cbc39f531f",
    "scrolled": true
   },
   "outputs": [
    {
     "data": {
      "text/plain": [
       "(21525, 12)"
      ]
     },
     "execution_count": 3,
     "metadata": {},
     "output_type": "execute_result"
    }
   ],
   "source": [
    "# Let's see how many rows and columns our dataset has\n",
    "creditScore.shape"
   ]
  },
  {
   "cell_type": "markdown",
   "metadata": {
    "id": "zQ_LzPaHcOEj"
   },
   "source": [
    "Display the first 15 rows:"
   ]
  },
  {
   "cell_type": "code",
   "execution_count": 4,
   "metadata": {
    "colab": {
     "base_uri": "https://localhost:8080/",
     "height": 824
    },
    "id": "0XAj7FGJjM_S",
    "outputId": "420498ee-7c30-412e-92d7-ab084ede5f41",
    "scrolled": true
   },
   "outputs": [
    {
     "data": {
      "text/html": [
       "<div>\n",
       "<style scoped>\n",
       "    .dataframe tbody tr th:only-of-type {\n",
       "        vertical-align: middle;\n",
       "    }\n",
       "\n",
       "    .dataframe tbody tr th {\n",
       "        vertical-align: top;\n",
       "    }\n",
       "\n",
       "    .dataframe thead th {\n",
       "        text-align: right;\n",
       "    }\n",
       "</style>\n",
       "<table border=\"1\" class=\"dataframe\">\n",
       "  <thead>\n",
       "    <tr style=\"text-align: right;\">\n",
       "      <th></th>\n",
       "      <th>children</th>\n",
       "      <th>days_employed</th>\n",
       "      <th>dob_years</th>\n",
       "      <th>education</th>\n",
       "      <th>education_id</th>\n",
       "      <th>family_status</th>\n",
       "      <th>family_status_id</th>\n",
       "      <th>gender</th>\n",
       "      <th>income_type</th>\n",
       "      <th>debt</th>\n",
       "      <th>total_income</th>\n",
       "      <th>purpose</th>\n",
       "    </tr>\n",
       "  </thead>\n",
       "  <tbody>\n",
       "    <tr>\n",
       "      <th>0</th>\n",
       "      <td>1</td>\n",
       "      <td>-8437.673028</td>\n",
       "      <td>42</td>\n",
       "      <td>bachelor's degree</td>\n",
       "      <td>0</td>\n",
       "      <td>married</td>\n",
       "      <td>0</td>\n",
       "      <td>F</td>\n",
       "      <td>employee</td>\n",
       "      <td>0</td>\n",
       "      <td>40620.102</td>\n",
       "      <td>purchase of the house</td>\n",
       "    </tr>\n",
       "    <tr>\n",
       "      <th>1</th>\n",
       "      <td>1</td>\n",
       "      <td>-4024.803754</td>\n",
       "      <td>36</td>\n",
       "      <td>secondary education</td>\n",
       "      <td>1</td>\n",
       "      <td>married</td>\n",
       "      <td>0</td>\n",
       "      <td>F</td>\n",
       "      <td>employee</td>\n",
       "      <td>0</td>\n",
       "      <td>17932.802</td>\n",
       "      <td>car purchase</td>\n",
       "    </tr>\n",
       "    <tr>\n",
       "      <th>2</th>\n",
       "      <td>0</td>\n",
       "      <td>-5623.422610</td>\n",
       "      <td>33</td>\n",
       "      <td>Secondary Education</td>\n",
       "      <td>1</td>\n",
       "      <td>married</td>\n",
       "      <td>0</td>\n",
       "      <td>M</td>\n",
       "      <td>employee</td>\n",
       "      <td>0</td>\n",
       "      <td>23341.752</td>\n",
       "      <td>purchase of the house</td>\n",
       "    </tr>\n",
       "    <tr>\n",
       "      <th>3</th>\n",
       "      <td>3</td>\n",
       "      <td>-4124.747207</td>\n",
       "      <td>32</td>\n",
       "      <td>secondary education</td>\n",
       "      <td>1</td>\n",
       "      <td>married</td>\n",
       "      <td>0</td>\n",
       "      <td>M</td>\n",
       "      <td>employee</td>\n",
       "      <td>0</td>\n",
       "      <td>42820.568</td>\n",
       "      <td>supplementary education</td>\n",
       "    </tr>\n",
       "    <tr>\n",
       "      <th>4</th>\n",
       "      <td>0</td>\n",
       "      <td>340266.072047</td>\n",
       "      <td>53</td>\n",
       "      <td>secondary education</td>\n",
       "      <td>1</td>\n",
       "      <td>civil partnership</td>\n",
       "      <td>1</td>\n",
       "      <td>F</td>\n",
       "      <td>retiree</td>\n",
       "      <td>0</td>\n",
       "      <td>25378.572</td>\n",
       "      <td>to have a wedding</td>\n",
       "    </tr>\n",
       "    <tr>\n",
       "      <th>5</th>\n",
       "      <td>0</td>\n",
       "      <td>-926.185831</td>\n",
       "      <td>27</td>\n",
       "      <td>bachelor's degree</td>\n",
       "      <td>0</td>\n",
       "      <td>civil partnership</td>\n",
       "      <td>1</td>\n",
       "      <td>M</td>\n",
       "      <td>business</td>\n",
       "      <td>0</td>\n",
       "      <td>40922.170</td>\n",
       "      <td>purchase of the house</td>\n",
       "    </tr>\n",
       "    <tr>\n",
       "      <th>6</th>\n",
       "      <td>0</td>\n",
       "      <td>-2879.202052</td>\n",
       "      <td>43</td>\n",
       "      <td>bachelor's degree</td>\n",
       "      <td>0</td>\n",
       "      <td>married</td>\n",
       "      <td>0</td>\n",
       "      <td>F</td>\n",
       "      <td>business</td>\n",
       "      <td>0</td>\n",
       "      <td>38484.156</td>\n",
       "      <td>housing transactions</td>\n",
       "    </tr>\n",
       "    <tr>\n",
       "      <th>7</th>\n",
       "      <td>0</td>\n",
       "      <td>-152.779569</td>\n",
       "      <td>50</td>\n",
       "      <td>SECONDARY EDUCATION</td>\n",
       "      <td>1</td>\n",
       "      <td>married</td>\n",
       "      <td>0</td>\n",
       "      <td>M</td>\n",
       "      <td>employee</td>\n",
       "      <td>0</td>\n",
       "      <td>21731.829</td>\n",
       "      <td>education</td>\n",
       "    </tr>\n",
       "    <tr>\n",
       "      <th>8</th>\n",
       "      <td>2</td>\n",
       "      <td>-6929.865299</td>\n",
       "      <td>35</td>\n",
       "      <td>BACHELOR'S DEGREE</td>\n",
       "      <td>0</td>\n",
       "      <td>civil partnership</td>\n",
       "      <td>1</td>\n",
       "      <td>F</td>\n",
       "      <td>employee</td>\n",
       "      <td>0</td>\n",
       "      <td>15337.093</td>\n",
       "      <td>having a wedding</td>\n",
       "    </tr>\n",
       "    <tr>\n",
       "      <th>9</th>\n",
       "      <td>0</td>\n",
       "      <td>-2188.756445</td>\n",
       "      <td>41</td>\n",
       "      <td>secondary education</td>\n",
       "      <td>1</td>\n",
       "      <td>married</td>\n",
       "      <td>0</td>\n",
       "      <td>M</td>\n",
       "      <td>employee</td>\n",
       "      <td>0</td>\n",
       "      <td>23108.150</td>\n",
       "      <td>purchase of the house for my family</td>\n",
       "    </tr>\n",
       "    <tr>\n",
       "      <th>10</th>\n",
       "      <td>2</td>\n",
       "      <td>-4171.483647</td>\n",
       "      <td>36</td>\n",
       "      <td>bachelor's degree</td>\n",
       "      <td>0</td>\n",
       "      <td>married</td>\n",
       "      <td>0</td>\n",
       "      <td>M</td>\n",
       "      <td>business</td>\n",
       "      <td>0</td>\n",
       "      <td>18230.959</td>\n",
       "      <td>buy real estate</td>\n",
       "    </tr>\n",
       "    <tr>\n",
       "      <th>11</th>\n",
       "      <td>0</td>\n",
       "      <td>-792.701887</td>\n",
       "      <td>40</td>\n",
       "      <td>secondary education</td>\n",
       "      <td>1</td>\n",
       "      <td>married</td>\n",
       "      <td>0</td>\n",
       "      <td>F</td>\n",
       "      <td>employee</td>\n",
       "      <td>0</td>\n",
       "      <td>12331.077</td>\n",
       "      <td>buy commercial real estate</td>\n",
       "    </tr>\n",
       "    <tr>\n",
       "      <th>12</th>\n",
       "      <td>0</td>\n",
       "      <td>NaN</td>\n",
       "      <td>65</td>\n",
       "      <td>secondary education</td>\n",
       "      <td>1</td>\n",
       "      <td>civil partnership</td>\n",
       "      <td>1</td>\n",
       "      <td>M</td>\n",
       "      <td>retiree</td>\n",
       "      <td>0</td>\n",
       "      <td>NaN</td>\n",
       "      <td>to have a wedding</td>\n",
       "    </tr>\n",
       "    <tr>\n",
       "      <th>13</th>\n",
       "      <td>0</td>\n",
       "      <td>-1846.641941</td>\n",
       "      <td>54</td>\n",
       "      <td>some college</td>\n",
       "      <td>2</td>\n",
       "      <td>married</td>\n",
       "      <td>0</td>\n",
       "      <td>F</td>\n",
       "      <td>employee</td>\n",
       "      <td>0</td>\n",
       "      <td>20873.317</td>\n",
       "      <td>car purchase</td>\n",
       "    </tr>\n",
       "    <tr>\n",
       "      <th>14</th>\n",
       "      <td>0</td>\n",
       "      <td>-1844.956182</td>\n",
       "      <td>56</td>\n",
       "      <td>bachelor's degree</td>\n",
       "      <td>0</td>\n",
       "      <td>civil partnership</td>\n",
       "      <td>1</td>\n",
       "      <td>F</td>\n",
       "      <td>business</td>\n",
       "      <td>1</td>\n",
       "      <td>26420.466</td>\n",
       "      <td>buy residential real estate</td>\n",
       "    </tr>\n",
       "  </tbody>\n",
       "</table>\n",
       "</div>"
      ],
      "text/plain": [
       "    children  days_employed  dob_years            education  education_id  \\\n",
       "0          1   -8437.673028         42    bachelor's degree             0   \n",
       "1          1   -4024.803754         36  secondary education             1   \n",
       "2          0   -5623.422610         33  Secondary Education             1   \n",
       "3          3   -4124.747207         32  secondary education             1   \n",
       "4          0  340266.072047         53  secondary education             1   \n",
       "5          0    -926.185831         27    bachelor's degree             0   \n",
       "6          0   -2879.202052         43    bachelor's degree             0   \n",
       "7          0    -152.779569         50  SECONDARY EDUCATION             1   \n",
       "8          2   -6929.865299         35    BACHELOR'S DEGREE             0   \n",
       "9          0   -2188.756445         41  secondary education             1   \n",
       "10         2   -4171.483647         36    bachelor's degree             0   \n",
       "11         0    -792.701887         40  secondary education             1   \n",
       "12         0            NaN         65  secondary education             1   \n",
       "13         0   -1846.641941         54         some college             2   \n",
       "14         0   -1844.956182         56    bachelor's degree             0   \n",
       "\n",
       "        family_status  family_status_id gender income_type  debt  \\\n",
       "0             married                 0      F    employee     0   \n",
       "1             married                 0      F    employee     0   \n",
       "2             married                 0      M    employee     0   \n",
       "3             married                 0      M    employee     0   \n",
       "4   civil partnership                 1      F     retiree     0   \n",
       "5   civil partnership                 1      M    business     0   \n",
       "6             married                 0      F    business     0   \n",
       "7             married                 0      M    employee     0   \n",
       "8   civil partnership                 1      F    employee     0   \n",
       "9             married                 0      M    employee     0   \n",
       "10            married                 0      M    business     0   \n",
       "11            married                 0      F    employee     0   \n",
       "12  civil partnership                 1      M     retiree     0   \n",
       "13            married                 0      F    employee     0   \n",
       "14  civil partnership                 1      F    business     1   \n",
       "\n",
       "    total_income                              purpose  \n",
       "0      40620.102                purchase of the house  \n",
       "1      17932.802                         car purchase  \n",
       "2      23341.752                purchase of the house  \n",
       "3      42820.568              supplementary education  \n",
       "4      25378.572                    to have a wedding  \n",
       "5      40922.170                purchase of the house  \n",
       "6      38484.156                 housing transactions  \n",
       "7      21731.829                            education  \n",
       "8      15337.093                     having a wedding  \n",
       "9      23108.150  purchase of the house for my family  \n",
       "10     18230.959                      buy real estate  \n",
       "11     12331.077           buy commercial real estate  \n",
       "12           NaN                    to have a wedding  \n",
       "13     20873.317                         car purchase  \n",
       "14     26420.466          buy residential real estate  "
      ]
     },
     "execution_count": 4,
     "metadata": {},
     "output_type": "execute_result"
    }
   ],
   "source": [
    "# Let's display the first N rows.\n",
    "\n",
    "creditScore.head(15)"
   ]
  },
  {
   "cell_type": "markdown",
   "metadata": {
    "id": "KyjB6WCQcOEm"
   },
   "source": [
    "There is 1 column with a negative value, and there is a null value at index 12. We will conduct further investigation.\n",
    "\n",
    "Getting dataset information:"
   ]
  },
  {
   "cell_type": "code",
   "execution_count": 5,
   "metadata": {
    "colab": {
     "base_uri": "https://localhost:8080/"
    },
    "id": "zMhecb9qjM_U",
    "outputId": "02e3b62e-a7a3-4252-888a-191c9b24a134",
    "scrolled": false
   },
   "outputs": [
    {
     "name": "stdout",
     "output_type": "stream",
     "text": [
      "<class 'pandas.core.frame.DataFrame'>\n",
      "RangeIndex: 21525 entries, 0 to 21524\n",
      "Data columns (total 12 columns):\n",
      " #   Column            Non-Null Count  Dtype  \n",
      "---  ------            --------------  -----  \n",
      " 0   children          21525 non-null  int64  \n",
      " 1   days_employed     19351 non-null  float64\n",
      " 2   dob_years         21525 non-null  int64  \n",
      " 3   education         21525 non-null  object \n",
      " 4   education_id      21525 non-null  int64  \n",
      " 5   family_status     21525 non-null  object \n",
      " 6   family_status_id  21525 non-null  int64  \n",
      " 7   gender            21525 non-null  object \n",
      " 8   income_type       21525 non-null  object \n",
      " 9   debt              21525 non-null  int64  \n",
      " 10  total_income      19351 non-null  float64\n",
      " 11  purpose           21525 non-null  object \n",
      "dtypes: float64(2), int64(5), object(5)\n",
      "memory usage: 2.0+ MB\n"
     ]
    }
   ],
   "source": [
    "# Get data information\n",
    "creditScore.info()"
   ]
  },
  {
   "cell_type": "markdown",
   "metadata": {
    "id": "oVJ0xEEAjM_V"
   },
   "source": [
    "You can see that there are 2 columns that actually have null values. Next, we will find out if the missing values in both columns have symmetric missing values or not."
   ]
  },
  {
   "cell_type": "code",
   "execution_count": 6,
   "metadata": {
    "colab": {
     "base_uri": "https://localhost:8080/",
     "height": 658
    },
    "id": "KY4n3AlWjM_V",
    "outputId": "e7d68a7c-a706-4dfa-fc95-05c8dede47af",
    "scrolled": true
   },
   "outputs": [
    {
     "data": {
      "text/html": [
       "<div>\n",
       "<style scoped>\n",
       "    .dataframe tbody tr th:only-of-type {\n",
       "        vertical-align: middle;\n",
       "    }\n",
       "\n",
       "    .dataframe tbody tr th {\n",
       "        vertical-align: top;\n",
       "    }\n",
       "\n",
       "    .dataframe thead th {\n",
       "        text-align: right;\n",
       "    }\n",
       "</style>\n",
       "<table border=\"1\" class=\"dataframe\">\n",
       "  <thead>\n",
       "    <tr style=\"text-align: right;\">\n",
       "      <th></th>\n",
       "      <th>children</th>\n",
       "      <th>days_employed</th>\n",
       "      <th>dob_years</th>\n",
       "      <th>education</th>\n",
       "      <th>education_id</th>\n",
       "      <th>family_status</th>\n",
       "      <th>family_status_id</th>\n",
       "      <th>gender</th>\n",
       "      <th>income_type</th>\n",
       "      <th>debt</th>\n",
       "      <th>total_income</th>\n",
       "      <th>purpose</th>\n",
       "    </tr>\n",
       "  </thead>\n",
       "  <tbody>\n",
       "    <tr>\n",
       "      <th>12</th>\n",
       "      <td>0</td>\n",
       "      <td>NaN</td>\n",
       "      <td>65</td>\n",
       "      <td>secondary education</td>\n",
       "      <td>1</td>\n",
       "      <td>civil partnership</td>\n",
       "      <td>1</td>\n",
       "      <td>M</td>\n",
       "      <td>retiree</td>\n",
       "      <td>0</td>\n",
       "      <td>NaN</td>\n",
       "      <td>to have a wedding</td>\n",
       "    </tr>\n",
       "    <tr>\n",
       "      <th>26</th>\n",
       "      <td>0</td>\n",
       "      <td>NaN</td>\n",
       "      <td>41</td>\n",
       "      <td>secondary education</td>\n",
       "      <td>1</td>\n",
       "      <td>married</td>\n",
       "      <td>0</td>\n",
       "      <td>M</td>\n",
       "      <td>civil servant</td>\n",
       "      <td>0</td>\n",
       "      <td>NaN</td>\n",
       "      <td>education</td>\n",
       "    </tr>\n",
       "    <tr>\n",
       "      <th>29</th>\n",
       "      <td>0</td>\n",
       "      <td>NaN</td>\n",
       "      <td>63</td>\n",
       "      <td>secondary education</td>\n",
       "      <td>1</td>\n",
       "      <td>unmarried</td>\n",
       "      <td>4</td>\n",
       "      <td>F</td>\n",
       "      <td>retiree</td>\n",
       "      <td>0</td>\n",
       "      <td>NaN</td>\n",
       "      <td>building a real estate</td>\n",
       "    </tr>\n",
       "    <tr>\n",
       "      <th>41</th>\n",
       "      <td>0</td>\n",
       "      <td>NaN</td>\n",
       "      <td>50</td>\n",
       "      <td>secondary education</td>\n",
       "      <td>1</td>\n",
       "      <td>married</td>\n",
       "      <td>0</td>\n",
       "      <td>F</td>\n",
       "      <td>civil servant</td>\n",
       "      <td>0</td>\n",
       "      <td>NaN</td>\n",
       "      <td>second-hand car purchase</td>\n",
       "    </tr>\n",
       "    <tr>\n",
       "      <th>55</th>\n",
       "      <td>0</td>\n",
       "      <td>NaN</td>\n",
       "      <td>54</td>\n",
       "      <td>secondary education</td>\n",
       "      <td>1</td>\n",
       "      <td>civil partnership</td>\n",
       "      <td>1</td>\n",
       "      <td>F</td>\n",
       "      <td>retiree</td>\n",
       "      <td>1</td>\n",
       "      <td>NaN</td>\n",
       "      <td>to have a wedding</td>\n",
       "    </tr>\n",
       "    <tr>\n",
       "      <th>...</th>\n",
       "      <td>...</td>\n",
       "      <td>...</td>\n",
       "      <td>...</td>\n",
       "      <td>...</td>\n",
       "      <td>...</td>\n",
       "      <td>...</td>\n",
       "      <td>...</td>\n",
       "      <td>...</td>\n",
       "      <td>...</td>\n",
       "      <td>...</td>\n",
       "      <td>...</td>\n",
       "      <td>...</td>\n",
       "    </tr>\n",
       "    <tr>\n",
       "      <th>21489</th>\n",
       "      <td>2</td>\n",
       "      <td>NaN</td>\n",
       "      <td>47</td>\n",
       "      <td>Secondary Education</td>\n",
       "      <td>1</td>\n",
       "      <td>married</td>\n",
       "      <td>0</td>\n",
       "      <td>M</td>\n",
       "      <td>business</td>\n",
       "      <td>0</td>\n",
       "      <td>NaN</td>\n",
       "      <td>purchase of a car</td>\n",
       "    </tr>\n",
       "    <tr>\n",
       "      <th>21495</th>\n",
       "      <td>1</td>\n",
       "      <td>NaN</td>\n",
       "      <td>50</td>\n",
       "      <td>secondary education</td>\n",
       "      <td>1</td>\n",
       "      <td>civil partnership</td>\n",
       "      <td>1</td>\n",
       "      <td>F</td>\n",
       "      <td>employee</td>\n",
       "      <td>0</td>\n",
       "      <td>NaN</td>\n",
       "      <td>wedding ceremony</td>\n",
       "    </tr>\n",
       "    <tr>\n",
       "      <th>21497</th>\n",
       "      <td>0</td>\n",
       "      <td>NaN</td>\n",
       "      <td>48</td>\n",
       "      <td>BACHELOR'S DEGREE</td>\n",
       "      <td>0</td>\n",
       "      <td>married</td>\n",
       "      <td>0</td>\n",
       "      <td>F</td>\n",
       "      <td>business</td>\n",
       "      <td>0</td>\n",
       "      <td>NaN</td>\n",
       "      <td>building a property</td>\n",
       "    </tr>\n",
       "    <tr>\n",
       "      <th>21502</th>\n",
       "      <td>1</td>\n",
       "      <td>NaN</td>\n",
       "      <td>42</td>\n",
       "      <td>secondary education</td>\n",
       "      <td>1</td>\n",
       "      <td>married</td>\n",
       "      <td>0</td>\n",
       "      <td>F</td>\n",
       "      <td>employee</td>\n",
       "      <td>0</td>\n",
       "      <td>NaN</td>\n",
       "      <td>building a real estate</td>\n",
       "    </tr>\n",
       "    <tr>\n",
       "      <th>21510</th>\n",
       "      <td>2</td>\n",
       "      <td>NaN</td>\n",
       "      <td>28</td>\n",
       "      <td>secondary education</td>\n",
       "      <td>1</td>\n",
       "      <td>married</td>\n",
       "      <td>0</td>\n",
       "      <td>F</td>\n",
       "      <td>employee</td>\n",
       "      <td>0</td>\n",
       "      <td>NaN</td>\n",
       "      <td>car purchase</td>\n",
       "    </tr>\n",
       "  </tbody>\n",
       "</table>\n",
       "<p>2174 rows × 12 columns</p>\n",
       "</div>"
      ],
      "text/plain": [
       "       children  days_employed  dob_years            education  education_id  \\\n",
       "12            0            NaN         65  secondary education             1   \n",
       "26            0            NaN         41  secondary education             1   \n",
       "29            0            NaN         63  secondary education             1   \n",
       "41            0            NaN         50  secondary education             1   \n",
       "55            0            NaN         54  secondary education             1   \n",
       "...         ...            ...        ...                  ...           ...   \n",
       "21489         2            NaN         47  Secondary Education             1   \n",
       "21495         1            NaN         50  secondary education             1   \n",
       "21497         0            NaN         48    BACHELOR'S DEGREE             0   \n",
       "21502         1            NaN         42  secondary education             1   \n",
       "21510         2            NaN         28  secondary education             1   \n",
       "\n",
       "           family_status  family_status_id gender    income_type  debt  \\\n",
       "12     civil partnership                 1      M        retiree     0   \n",
       "26               married                 0      M  civil servant     0   \n",
       "29             unmarried                 4      F        retiree     0   \n",
       "41               married                 0      F  civil servant     0   \n",
       "55     civil partnership                 1      F        retiree     1   \n",
       "...                  ...               ...    ...            ...   ...   \n",
       "21489            married                 0      M       business     0   \n",
       "21495  civil partnership                 1      F       employee     0   \n",
       "21497            married                 0      F       business     0   \n",
       "21502            married                 0      F       employee     0   \n",
       "21510            married                 0      F       employee     0   \n",
       "\n",
       "       total_income                   purpose  \n",
       "12              NaN         to have a wedding  \n",
       "26              NaN                 education  \n",
       "29              NaN    building a real estate  \n",
       "41              NaN  second-hand car purchase  \n",
       "55              NaN         to have a wedding  \n",
       "...             ...                       ...  \n",
       "21489           NaN         purchase of a car  \n",
       "21495           NaN          wedding ceremony  \n",
       "21497           NaN       building a property  \n",
       "21502           NaN    building a real estate  \n",
       "21510           NaN              car purchase  \n",
       "\n",
       "[2174 rows x 12 columns]"
      ]
     },
     "execution_count": 6,
     "metadata": {},
     "output_type": "execute_result"
    }
   ],
   "source": [
    "# Let's view the table filtered by the first column that contains missing data.\n",
    "null_rows = creditScore.loc[creditScore['days_employed'].isnull()]\n",
    "null_rows"
   ]
  },
  {
   "cell_type": "code",
   "execution_count": 7,
   "metadata": {
    "colab": {
     "base_uri": "https://localhost:8080/"
    },
    "id": "BqE61vDBm4Gw",
    "outputId": "ff164edb-2663-4eb1-e8c7-c571ebfe770c"
   },
   "outputs": [
    {
     "data": {
      "text/plain": [
       "children               0\n",
       "days_employed       2174\n",
       "dob_years              0\n",
       "education              0\n",
       "education_id           0\n",
       "family_status          0\n",
       "family_status_id       0\n",
       "gender                 0\n",
       "income_type            0\n",
       "debt                   0\n",
       "total_income        2174\n",
       "purpose                0\n",
       "dtype: int64"
      ]
     },
     "execution_count": 7,
     "metadata": {},
     "output_type": "execute_result"
    }
   ],
   "source": [
    "# Let's view the total number of rows in the filtered dataset.\n",
    "null_rows.isnull().sum()"
   ]
  },
  {
   "cell_type": "markdown",
   "metadata": {
    "id": "6hg_9mXEjM_W"
   },
   "source": [
    "Alright, the number of null rows in the filtered table turns out to be 2174 rows. We will compare this with the number of null values in our original table with the condition `.isnull()`"
   ]
  },
  {
   "cell_type": "code",
   "execution_count": 8,
   "metadata": {
    "colab": {
     "base_uri": "https://localhost:8080/"
    },
    "id": "qZnDkptFjM_Z",
    "outputId": "d1ec71a8-5b7b-4dbb-80c4-68c9473c40b2"
   },
   "outputs": [
    {
     "data": {
      "text/html": [
       "<div>\n",
       "<style scoped>\n",
       "    .dataframe tbody tr th:only-of-type {\n",
       "        vertical-align: middle;\n",
       "    }\n",
       "\n",
       "    .dataframe tbody tr th {\n",
       "        vertical-align: top;\n",
       "    }\n",
       "\n",
       "    .dataframe thead th {\n",
       "        text-align: right;\n",
       "    }\n",
       "</style>\n",
       "<table border=\"1\" class=\"dataframe\">\n",
       "  <thead>\n",
       "    <tr style=\"text-align: right;\">\n",
       "      <th></th>\n",
       "      <th>children</th>\n",
       "      <th>days_employed</th>\n",
       "      <th>dob_years</th>\n",
       "      <th>education</th>\n",
       "      <th>education_id</th>\n",
       "      <th>family_status</th>\n",
       "      <th>family_status_id</th>\n",
       "      <th>gender</th>\n",
       "      <th>income_type</th>\n",
       "      <th>debt</th>\n",
       "      <th>total_income</th>\n",
       "      <th>purpose</th>\n",
       "    </tr>\n",
       "  </thead>\n",
       "  <tbody>\n",
       "    <tr>\n",
       "      <th>12</th>\n",
       "      <td>0</td>\n",
       "      <td>NaN</td>\n",
       "      <td>65</td>\n",
       "      <td>secondary education</td>\n",
       "      <td>1</td>\n",
       "      <td>civil partnership</td>\n",
       "      <td>1</td>\n",
       "      <td>M</td>\n",
       "      <td>retiree</td>\n",
       "      <td>0</td>\n",
       "      <td>NaN</td>\n",
       "      <td>to have a wedding</td>\n",
       "    </tr>\n",
       "    <tr>\n",
       "      <th>26</th>\n",
       "      <td>0</td>\n",
       "      <td>NaN</td>\n",
       "      <td>41</td>\n",
       "      <td>secondary education</td>\n",
       "      <td>1</td>\n",
       "      <td>married</td>\n",
       "      <td>0</td>\n",
       "      <td>M</td>\n",
       "      <td>civil servant</td>\n",
       "      <td>0</td>\n",
       "      <td>NaN</td>\n",
       "      <td>education</td>\n",
       "    </tr>\n",
       "    <tr>\n",
       "      <th>29</th>\n",
       "      <td>0</td>\n",
       "      <td>NaN</td>\n",
       "      <td>63</td>\n",
       "      <td>secondary education</td>\n",
       "      <td>1</td>\n",
       "      <td>unmarried</td>\n",
       "      <td>4</td>\n",
       "      <td>F</td>\n",
       "      <td>retiree</td>\n",
       "      <td>0</td>\n",
       "      <td>NaN</td>\n",
       "      <td>building a real estate</td>\n",
       "    </tr>\n",
       "    <tr>\n",
       "      <th>41</th>\n",
       "      <td>0</td>\n",
       "      <td>NaN</td>\n",
       "      <td>50</td>\n",
       "      <td>secondary education</td>\n",
       "      <td>1</td>\n",
       "      <td>married</td>\n",
       "      <td>0</td>\n",
       "      <td>F</td>\n",
       "      <td>civil servant</td>\n",
       "      <td>0</td>\n",
       "      <td>NaN</td>\n",
       "      <td>second-hand car purchase</td>\n",
       "    </tr>\n",
       "    <tr>\n",
       "      <th>55</th>\n",
       "      <td>0</td>\n",
       "      <td>NaN</td>\n",
       "      <td>54</td>\n",
       "      <td>secondary education</td>\n",
       "      <td>1</td>\n",
       "      <td>civil partnership</td>\n",
       "      <td>1</td>\n",
       "      <td>F</td>\n",
       "      <td>retiree</td>\n",
       "      <td>1</td>\n",
       "      <td>NaN</td>\n",
       "      <td>to have a wedding</td>\n",
       "    </tr>\n",
       "    <tr>\n",
       "      <th>...</th>\n",
       "      <td>...</td>\n",
       "      <td>...</td>\n",
       "      <td>...</td>\n",
       "      <td>...</td>\n",
       "      <td>...</td>\n",
       "      <td>...</td>\n",
       "      <td>...</td>\n",
       "      <td>...</td>\n",
       "      <td>...</td>\n",
       "      <td>...</td>\n",
       "      <td>...</td>\n",
       "      <td>...</td>\n",
       "    </tr>\n",
       "    <tr>\n",
       "      <th>21489</th>\n",
       "      <td>2</td>\n",
       "      <td>NaN</td>\n",
       "      <td>47</td>\n",
       "      <td>Secondary Education</td>\n",
       "      <td>1</td>\n",
       "      <td>married</td>\n",
       "      <td>0</td>\n",
       "      <td>M</td>\n",
       "      <td>business</td>\n",
       "      <td>0</td>\n",
       "      <td>NaN</td>\n",
       "      <td>purchase of a car</td>\n",
       "    </tr>\n",
       "    <tr>\n",
       "      <th>21495</th>\n",
       "      <td>1</td>\n",
       "      <td>NaN</td>\n",
       "      <td>50</td>\n",
       "      <td>secondary education</td>\n",
       "      <td>1</td>\n",
       "      <td>civil partnership</td>\n",
       "      <td>1</td>\n",
       "      <td>F</td>\n",
       "      <td>employee</td>\n",
       "      <td>0</td>\n",
       "      <td>NaN</td>\n",
       "      <td>wedding ceremony</td>\n",
       "    </tr>\n",
       "    <tr>\n",
       "      <th>21497</th>\n",
       "      <td>0</td>\n",
       "      <td>NaN</td>\n",
       "      <td>48</td>\n",
       "      <td>BACHELOR'S DEGREE</td>\n",
       "      <td>0</td>\n",
       "      <td>married</td>\n",
       "      <td>0</td>\n",
       "      <td>F</td>\n",
       "      <td>business</td>\n",
       "      <td>0</td>\n",
       "      <td>NaN</td>\n",
       "      <td>building a property</td>\n",
       "    </tr>\n",
       "    <tr>\n",
       "      <th>21502</th>\n",
       "      <td>1</td>\n",
       "      <td>NaN</td>\n",
       "      <td>42</td>\n",
       "      <td>secondary education</td>\n",
       "      <td>1</td>\n",
       "      <td>married</td>\n",
       "      <td>0</td>\n",
       "      <td>F</td>\n",
       "      <td>employee</td>\n",
       "      <td>0</td>\n",
       "      <td>NaN</td>\n",
       "      <td>building a real estate</td>\n",
       "    </tr>\n",
       "    <tr>\n",
       "      <th>21510</th>\n",
       "      <td>2</td>\n",
       "      <td>NaN</td>\n",
       "      <td>28</td>\n",
       "      <td>secondary education</td>\n",
       "      <td>1</td>\n",
       "      <td>married</td>\n",
       "      <td>0</td>\n",
       "      <td>F</td>\n",
       "      <td>employee</td>\n",
       "      <td>0</td>\n",
       "      <td>NaN</td>\n",
       "      <td>car purchase</td>\n",
       "    </tr>\n",
       "  </tbody>\n",
       "</table>\n",
       "<p>2174 rows × 12 columns</p>\n",
       "</div>"
      ],
      "text/plain": [
       "       children  days_employed  dob_years            education  education_id  \\\n",
       "12            0            NaN         65  secondary education             1   \n",
       "26            0            NaN         41  secondary education             1   \n",
       "29            0            NaN         63  secondary education             1   \n",
       "41            0            NaN         50  secondary education             1   \n",
       "55            0            NaN         54  secondary education             1   \n",
       "...         ...            ...        ...                  ...           ...   \n",
       "21489         2            NaN         47  Secondary Education             1   \n",
       "21495         1            NaN         50  secondary education             1   \n",
       "21497         0            NaN         48    BACHELOR'S DEGREE             0   \n",
       "21502         1            NaN         42  secondary education             1   \n",
       "21510         2            NaN         28  secondary education             1   \n",
       "\n",
       "           family_status  family_status_id gender    income_type  debt  \\\n",
       "12     civil partnership                 1      M        retiree     0   \n",
       "26               married                 0      M  civil servant     0   \n",
       "29             unmarried                 4      F        retiree     0   \n",
       "41               married                 0      F  civil servant     0   \n",
       "55     civil partnership                 1      F        retiree     1   \n",
       "...                  ...               ...    ...            ...   ...   \n",
       "21489            married                 0      M       business     0   \n",
       "21495  civil partnership                 1      F       employee     0   \n",
       "21497            married                 0      F       business     0   \n",
       "21502            married                 0      F       employee     0   \n",
       "21510            married                 0      F       employee     0   \n",
       "\n",
       "       total_income                   purpose  \n",
       "12              NaN         to have a wedding  \n",
       "26              NaN                 education  \n",
       "29              NaN    building a real estate  \n",
       "41              NaN  second-hand car purchase  \n",
       "55              NaN         to have a wedding  \n",
       "...             ...                       ...  \n",
       "21489           NaN         purchase of a car  \n",
       "21495           NaN          wedding ceremony  \n",
       "21497           NaN       building a property  \n",
       "21502           NaN    building a real estate  \n",
       "21510           NaN              car purchase  \n",
       "\n",
       "[2174 rows x 12 columns]"
      ]
     },
     "execution_count": 8,
     "metadata": {},
     "output_type": "execute_result"
    }
   ],
   "source": [
    "# Let's apply some conditions to filter the data and view the number of rows in the original table.\n",
    "df_null = creditScore[(creditScore['days_employed'].isnull()) & (creditScore['total_income'].isnull())]\n",
    "df_null"
   ]
  },
  {
   "cell_type": "code",
   "execution_count": 9,
   "metadata": {
    "colab": {
     "base_uri": "https://localhost:8080/",
     "height": 36
    },
    "id": "Mx8NZ5TzjM_a",
    "outputId": "89b6c91c-2bb2-4e13-a383-cc5bf93b00c7"
   },
   "outputs": [
    {
     "data": {
      "text/plain": [
       "'10.1%'"
      ]
     },
     "execution_count": 9,
     "metadata": {},
     "output_type": "execute_result"
    }
   ],
   "source": [
    "# To know the percentage of missing values in the entire original dataset.\n",
    "data_null_percent = str(round((len(df_null) / len(creditScore)) * 100, 1)) + '%'\n",
    "data_null_percent"
   ]
  },
  {
   "cell_type": "markdown",
   "metadata": {
    "id": "CZKYYRiKjM_a"
   },
   "source": [
    "### Preliminary Conclusion\n",
    "\n",
    "The comparison between the filtered dataset and the original dataset with the condition `.isnull()` reveals a similar data distribution. This indicates that all missing null values may occur randomly. Also, note that the null values are symmetrically missing. And approximately 10% of the data actually consists of null values. That's a significant amount of missing data for us. So we need to fill in these values using alternative values.\n",
    "\n",
    "Next, to further ensure whether the data is missing at random or due to some specific pattern, we will find out the total number of null values without filtering on the table."
   ]
  },
  {
   "cell_type": "code",
   "execution_count": 10,
   "metadata": {
    "id": "tctiilbRjNAB",
    "outputId": "db2453d3-ce32-4bb6-c651-47b1bae017e3"
   },
   "outputs": [
    {
     "data": {
      "text/html": [
       "<div>\n",
       "<style scoped>\n",
       "    .dataframe tbody tr th:only-of-type {\n",
       "        vertical-align: middle;\n",
       "    }\n",
       "\n",
       "    .dataframe tbody tr th {\n",
       "        vertical-align: top;\n",
       "    }\n",
       "\n",
       "    .dataframe thead th {\n",
       "        text-align: right;\n",
       "    }\n",
       "</style>\n",
       "<table border=\"1\" class=\"dataframe\">\n",
       "  <thead>\n",
       "    <tr style=\"text-align: right;\">\n",
       "      <th></th>\n",
       "      <th>children</th>\n",
       "      <th>days_employed</th>\n",
       "      <th>dob_years</th>\n",
       "      <th>education</th>\n",
       "      <th>education_id</th>\n",
       "      <th>family_status</th>\n",
       "      <th>family_status_id</th>\n",
       "      <th>gender</th>\n",
       "      <th>income_type</th>\n",
       "      <th>debt</th>\n",
       "      <th>total_income</th>\n",
       "      <th>purpose</th>\n",
       "    </tr>\n",
       "  </thead>\n",
       "  <tbody>\n",
       "    <tr>\n",
       "      <th>12</th>\n",
       "      <td>0</td>\n",
       "      <td>NaN</td>\n",
       "      <td>65</td>\n",
       "      <td>secondary education</td>\n",
       "      <td>1</td>\n",
       "      <td>civil partnership</td>\n",
       "      <td>1</td>\n",
       "      <td>M</td>\n",
       "      <td>retiree</td>\n",
       "      <td>0</td>\n",
       "      <td>NaN</td>\n",
       "      <td>to have a wedding</td>\n",
       "    </tr>\n",
       "    <tr>\n",
       "      <th>26</th>\n",
       "      <td>0</td>\n",
       "      <td>NaN</td>\n",
       "      <td>41</td>\n",
       "      <td>secondary education</td>\n",
       "      <td>1</td>\n",
       "      <td>married</td>\n",
       "      <td>0</td>\n",
       "      <td>M</td>\n",
       "      <td>civil servant</td>\n",
       "      <td>0</td>\n",
       "      <td>NaN</td>\n",
       "      <td>education</td>\n",
       "    </tr>\n",
       "    <tr>\n",
       "      <th>29</th>\n",
       "      <td>0</td>\n",
       "      <td>NaN</td>\n",
       "      <td>63</td>\n",
       "      <td>secondary education</td>\n",
       "      <td>1</td>\n",
       "      <td>unmarried</td>\n",
       "      <td>4</td>\n",
       "      <td>F</td>\n",
       "      <td>retiree</td>\n",
       "      <td>0</td>\n",
       "      <td>NaN</td>\n",
       "      <td>building a real estate</td>\n",
       "    </tr>\n",
       "    <tr>\n",
       "      <th>41</th>\n",
       "      <td>0</td>\n",
       "      <td>NaN</td>\n",
       "      <td>50</td>\n",
       "      <td>secondary education</td>\n",
       "      <td>1</td>\n",
       "      <td>married</td>\n",
       "      <td>0</td>\n",
       "      <td>F</td>\n",
       "      <td>civil servant</td>\n",
       "      <td>0</td>\n",
       "      <td>NaN</td>\n",
       "      <td>second-hand car purchase</td>\n",
       "    </tr>\n",
       "    <tr>\n",
       "      <th>55</th>\n",
       "      <td>0</td>\n",
       "      <td>NaN</td>\n",
       "      <td>54</td>\n",
       "      <td>secondary education</td>\n",
       "      <td>1</td>\n",
       "      <td>civil partnership</td>\n",
       "      <td>1</td>\n",
       "      <td>F</td>\n",
       "      <td>retiree</td>\n",
       "      <td>1</td>\n",
       "      <td>NaN</td>\n",
       "      <td>to have a wedding</td>\n",
       "    </tr>\n",
       "    <tr>\n",
       "      <th>65</th>\n",
       "      <td>0</td>\n",
       "      <td>NaN</td>\n",
       "      <td>21</td>\n",
       "      <td>secondary education</td>\n",
       "      <td>1</td>\n",
       "      <td>unmarried</td>\n",
       "      <td>4</td>\n",
       "      <td>M</td>\n",
       "      <td>business</td>\n",
       "      <td>0</td>\n",
       "      <td>NaN</td>\n",
       "      <td>transactions with commercial real estate</td>\n",
       "    </tr>\n",
       "    <tr>\n",
       "      <th>67</th>\n",
       "      <td>0</td>\n",
       "      <td>NaN</td>\n",
       "      <td>52</td>\n",
       "      <td>bachelor's degree</td>\n",
       "      <td>0</td>\n",
       "      <td>married</td>\n",
       "      <td>0</td>\n",
       "      <td>F</td>\n",
       "      <td>retiree</td>\n",
       "      <td>0</td>\n",
       "      <td>NaN</td>\n",
       "      <td>purchase of the house for my family</td>\n",
       "    </tr>\n",
       "    <tr>\n",
       "      <th>72</th>\n",
       "      <td>1</td>\n",
       "      <td>NaN</td>\n",
       "      <td>32</td>\n",
       "      <td>bachelor's degree</td>\n",
       "      <td>0</td>\n",
       "      <td>married</td>\n",
       "      <td>0</td>\n",
       "      <td>M</td>\n",
       "      <td>civil servant</td>\n",
       "      <td>0</td>\n",
       "      <td>NaN</td>\n",
       "      <td>transactions with commercial real estate</td>\n",
       "    </tr>\n",
       "    <tr>\n",
       "      <th>82</th>\n",
       "      <td>2</td>\n",
       "      <td>NaN</td>\n",
       "      <td>50</td>\n",
       "      <td>bachelor's degree</td>\n",
       "      <td>0</td>\n",
       "      <td>married</td>\n",
       "      <td>0</td>\n",
       "      <td>F</td>\n",
       "      <td>employee</td>\n",
       "      <td>0</td>\n",
       "      <td>NaN</td>\n",
       "      <td>housing</td>\n",
       "    </tr>\n",
       "    <tr>\n",
       "      <th>83</th>\n",
       "      <td>0</td>\n",
       "      <td>NaN</td>\n",
       "      <td>52</td>\n",
       "      <td>secondary education</td>\n",
       "      <td>1</td>\n",
       "      <td>married</td>\n",
       "      <td>0</td>\n",
       "      <td>M</td>\n",
       "      <td>employee</td>\n",
       "      <td>0</td>\n",
       "      <td>NaN</td>\n",
       "      <td>housing</td>\n",
       "    </tr>\n",
       "  </tbody>\n",
       "</table>\n",
       "</div>"
      ],
      "text/plain": [
       "    children  days_employed  dob_years            education  education_id  \\\n",
       "12         0            NaN         65  secondary education             1   \n",
       "26         0            NaN         41  secondary education             1   \n",
       "29         0            NaN         63  secondary education             1   \n",
       "41         0            NaN         50  secondary education             1   \n",
       "55         0            NaN         54  secondary education             1   \n",
       "65         0            NaN         21  secondary education             1   \n",
       "67         0            NaN         52    bachelor's degree             0   \n",
       "72         1            NaN         32    bachelor's degree             0   \n",
       "82         2            NaN         50    bachelor's degree             0   \n",
       "83         0            NaN         52  secondary education             1   \n",
       "\n",
       "        family_status  family_status_id gender    income_type  debt  \\\n",
       "12  civil partnership                 1      M        retiree     0   \n",
       "26            married                 0      M  civil servant     0   \n",
       "29          unmarried                 4      F        retiree     0   \n",
       "41            married                 0      F  civil servant     0   \n",
       "55  civil partnership                 1      F        retiree     1   \n",
       "65          unmarried                 4      M       business     0   \n",
       "67            married                 0      F        retiree     0   \n",
       "72            married                 0      M  civil servant     0   \n",
       "82            married                 0      F       employee     0   \n",
       "83            married                 0      M       employee     0   \n",
       "\n",
       "    total_income                                   purpose  \n",
       "12           NaN                         to have a wedding  \n",
       "26           NaN                                 education  \n",
       "29           NaN                    building a real estate  \n",
       "41           NaN                  second-hand car purchase  \n",
       "55           NaN                         to have a wedding  \n",
       "65           NaN  transactions with commercial real estate  \n",
       "67           NaN       purchase of the house for my family  \n",
       "72           NaN  transactions with commercial real estate  \n",
       "82           NaN                                   housing  \n",
       "83           NaN                                   housing  "
      ]
     },
     "execution_count": 10,
     "metadata": {},
     "output_type": "execute_result"
    }
   ],
   "source": [
    "# Let's examine customers who lack data on identified characteristics and columns with missing values.\n",
    "df_null.head(10)"
   ]
  },
  {
   "cell_type": "code",
   "execution_count": 11,
   "metadata": {
    "colab": {
     "base_uri": "https://localhost:8080/"
    },
    "id": "0_V8KSiHjNAC",
    "outputId": "fa18b720-ce11-4f89-a0db-9c611c9924b2"
   },
   "outputs": [
    {
     "data": {
      "text/html": [
       "<div>\n",
       "<style scoped>\n",
       "    .dataframe tbody tr th:only-of-type {\n",
       "        vertical-align: middle;\n",
       "    }\n",
       "\n",
       "    .dataframe tbody tr th {\n",
       "        vertical-align: top;\n",
       "    }\n",
       "\n",
       "    .dataframe thead th {\n",
       "        text-align: right;\n",
       "    }\n",
       "</style>\n",
       "<table border=\"1\" class=\"dataframe\">\n",
       "  <thead>\n",
       "    <tr style=\"text-align: right;\">\n",
       "      <th></th>\n",
       "      <th>percent%</th>\n",
       "      <th>count</th>\n",
       "    </tr>\n",
       "    <tr>\n",
       "      <th>unique</th>\n",
       "      <th></th>\n",
       "      <th></th>\n",
       "    </tr>\n",
       "  </thead>\n",
       "  <tbody>\n",
       "    <tr>\n",
       "      <th>employee</th>\n",
       "      <td>50.83%</td>\n",
       "      <td>1105</td>\n",
       "    </tr>\n",
       "    <tr>\n",
       "      <th>business</th>\n",
       "      <td>23.37%</td>\n",
       "      <td>508</td>\n",
       "    </tr>\n",
       "    <tr>\n",
       "      <th>retiree</th>\n",
       "      <td>19.0%</td>\n",
       "      <td>413</td>\n",
       "    </tr>\n",
       "    <tr>\n",
       "      <th>civil servant</th>\n",
       "      <td>6.76%</td>\n",
       "      <td>147</td>\n",
       "    </tr>\n",
       "    <tr>\n",
       "      <th>entrepreneur</th>\n",
       "      <td>0.05%</td>\n",
       "      <td>1</td>\n",
       "    </tr>\n",
       "  </tbody>\n",
       "</table>\n",
       "</div>"
      ],
      "text/plain": [
       "              percent%  count\n",
       "unique                       \n",
       "employee        50.83%   1105\n",
       "business        23.37%    508\n",
       "retiree          19.0%    413\n",
       "civil servant    6.76%    147\n",
       "entrepreneur     0.05%      1"
      ]
     },
     "execution_count": 11,
     "metadata": {},
     "output_type": "execute_result"
    }
   ],
   "source": [
    "# Check the distribution\n",
    "data_count = df_null[\"income_type\"].value_counts()\n",
    "data_percent = df_null[\"income_type\"].value_counts(normalize=True).mul(100).round(2).astype(str)+\"%\"\n",
    "pd.DataFrame(data={\"percent%\" : data_percent, \"count\" : data_count}).rename_axis(\"unique\")"
   ]
  },
  {
   "cell_type": "markdown",
   "metadata": {
    "id": "GOCrVoopjNAD"
   },
   "source": [
    "### Possible Causes of Data Loss\n",
    "\n",
    "This is the distribution of the dataframe that has null values **(df_null)** categorized based on the column `'income_type'`. The missing values in the columns `'days_employed'` and `'total_income'` are known to be missing in the following categories:\n",
    "\n",
    "- employee: 1105 rows\n",
    "- business: 508 rows\n",
    "- retiree: 413 rows\n",
    "- civil servant: 147 rows\n",
    "- entrepreneur: 1 row"
   ]
  },
  {
   "cell_type": "code",
   "execution_count": 12,
   "metadata": {
    "colab": {
     "base_uri": "https://localhost:8080/"
    },
    "id": "qCe24dDTjNAE",
    "outputId": "39add532-b67e-4182-806b-ca4decc5e1ea"
   },
   "outputs": [
    {
     "data": {
      "text/html": [
       "<div>\n",
       "<style scoped>\n",
       "    .dataframe tbody tr th:only-of-type {\n",
       "        vertical-align: middle;\n",
       "    }\n",
       "\n",
       "    .dataframe tbody tr th {\n",
       "        vertical-align: top;\n",
       "    }\n",
       "\n",
       "    .dataframe thead th {\n",
       "        text-align: right;\n",
       "    }\n",
       "</style>\n",
       "<table border=\"1\" class=\"dataframe\">\n",
       "  <thead>\n",
       "    <tr style=\"text-align: right;\">\n",
       "      <th></th>\n",
       "      <th>percent(%)</th>\n",
       "      <th>count</th>\n",
       "    </tr>\n",
       "    <tr>\n",
       "      <th>unique</th>\n",
       "      <th></th>\n",
       "      <th></th>\n",
       "    </tr>\n",
       "  </thead>\n",
       "  <tbody>\n",
       "    <tr>\n",
       "      <th>married</th>\n",
       "      <td>56.9%</td>\n",
       "      <td>1237</td>\n",
       "    </tr>\n",
       "    <tr>\n",
       "      <th>civil partnership</th>\n",
       "      <td>20.33%</td>\n",
       "      <td>442</td>\n",
       "    </tr>\n",
       "    <tr>\n",
       "      <th>unmarried</th>\n",
       "      <td>13.25%</td>\n",
       "      <td>288</td>\n",
       "    </tr>\n",
       "    <tr>\n",
       "      <th>divorced</th>\n",
       "      <td>5.15%</td>\n",
       "      <td>112</td>\n",
       "    </tr>\n",
       "    <tr>\n",
       "      <th>widow / widower</th>\n",
       "      <td>4.37%</td>\n",
       "      <td>95</td>\n",
       "    </tr>\n",
       "  </tbody>\n",
       "</table>\n",
       "</div>"
      ],
      "text/plain": [
       "                  percent(%)  count\n",
       "unique                             \n",
       "married                56.9%   1237\n",
       "civil partnership     20.33%    442\n",
       "unmarried             13.25%    288\n",
       "divorced               5.15%    112\n",
       "widow / widower        4.37%     95"
      ]
     },
     "execution_count": 12,
     "metadata": {},
     "output_type": "execute_result"
    }
   ],
   "source": [
    "# Checking the distribution across the entire dataset\n",
    "df_count = df_null['family_status'].value_counts()\n",
    "df_percent = df_null['family_status'].value_counts(normalize=True).mul(100).round(2).astype(str)+'%'\n",
    "pd.DataFrame(data={'percent(%)':df_percent, 'count':df_count}).rename_axis('unique')"
   ]
  },
  {
   "cell_type": "markdown",
   "metadata": {
    "id": "LvM1oGCE3GHJ"
   },
   "source": [
    "### Preliminary Conclusion\n",
    "\n",
    "This is the distribution of the dataset **(df_null)** categorized by the `'family_status'` column. Missing values in the `'days_employed'` and `'total_income'` columns are found in the following categories:\n",
    "\n",
    "- married: 1237 rows\n",
    "- civil partnership: 442 rows\n",
    "- unmarried: 288 rows\n",
    "- divorce: 112 rows\n",
    "- widow / widower: 95 rows"
   ]
  },
  {
   "cell_type": "code",
   "execution_count": 13,
   "metadata": {
    "colab": {
     "base_uri": "https://localhost:8080/"
    },
    "id": "b3bhny5XjNAF",
    "outputId": "2174a5f7-627e-4867-a6d9-2cebda39eb98"
   },
   "outputs": [
    {
     "data": {
      "text/html": [
       "<div>\n",
       "<style scoped>\n",
       "    .dataframe tbody tr th:only-of-type {\n",
       "        vertical-align: middle;\n",
       "    }\n",
       "\n",
       "    .dataframe tbody tr th {\n",
       "        vertical-align: top;\n",
       "    }\n",
       "\n",
       "    .dataframe thead th {\n",
       "        text-align: right;\n",
       "    }\n",
       "</style>\n",
       "<table border=\"1\" class=\"dataframe\">\n",
       "  <thead>\n",
       "    <tr style=\"text-align: right;\">\n",
       "      <th></th>\n",
       "      <th>percent%</th>\n",
       "      <th>count</th>\n",
       "    </tr>\n",
       "    <tr>\n",
       "      <th>unique</th>\n",
       "      <th></th>\n",
       "      <th></th>\n",
       "    </tr>\n",
       "  </thead>\n",
       "  <tbody>\n",
       "    <tr>\n",
       "      <th>employee</th>\n",
       "      <td>51.66%</td>\n",
       "      <td>11119</td>\n",
       "    </tr>\n",
       "    <tr>\n",
       "      <th>business</th>\n",
       "      <td>23.62%</td>\n",
       "      <td>5085</td>\n",
       "    </tr>\n",
       "    <tr>\n",
       "      <th>retiree</th>\n",
       "      <td>17.91%</td>\n",
       "      <td>3856</td>\n",
       "    </tr>\n",
       "    <tr>\n",
       "      <th>civil servant</th>\n",
       "      <td>6.78%</td>\n",
       "      <td>1459</td>\n",
       "    </tr>\n",
       "    <tr>\n",
       "      <th>entrepreneur</th>\n",
       "      <td>0.01%</td>\n",
       "      <td>2</td>\n",
       "    </tr>\n",
       "    <tr>\n",
       "      <th>unemployed</th>\n",
       "      <td>0.01%</td>\n",
       "      <td>2</td>\n",
       "    </tr>\n",
       "    <tr>\n",
       "      <th>paternity / maternity leave</th>\n",
       "      <td>0.0%</td>\n",
       "      <td>1</td>\n",
       "    </tr>\n",
       "    <tr>\n",
       "      <th>student</th>\n",
       "      <td>0.0%</td>\n",
       "      <td>1</td>\n",
       "    </tr>\n",
       "  </tbody>\n",
       "</table>\n",
       "</div>"
      ],
      "text/plain": [
       "                            percent%  count\n",
       "unique                                     \n",
       "employee                      51.66%  11119\n",
       "business                      23.62%   5085\n",
       "retiree                       17.91%   3856\n",
       "civil servant                  6.78%   1459\n",
       "entrepreneur                   0.01%      2\n",
       "unemployed                     0.01%      2\n",
       "paternity / maternity leave     0.0%      1\n",
       "student                         0.0%      1"
      ]
     },
     "execution_count": 13,
     "metadata": {},
     "output_type": "execute_result"
    }
   ],
   "source": [
    "# Examine other causes and patterns that may result in missing values in the filtered dataset\n",
    "data_count = creditScore[\"income_type\"].value_counts()\n",
    "data_percent = creditScore[\"income_type\"].value_counts(normalize=True).mul(100).round(2).astype(str)+\"%\"\n",
    "pd.DataFrame(data={\"percent%\" : data_percent, \"count\" : data_count}).rename_axis(\"unique\")"
   ]
  },
  {
   "cell_type": "markdown",
   "metadata": {
    "id": "Ez2o-yW4jNAM"
   },
   "source": [
    "### Preliminary Conclusion\n",
    "\n",
    "This is the distribution of the dataset **(creditScore)** categorized based on the column `'income_type'`. The distribution of the data according to `'income_type'` is as follows:\n",
    "\n",
    "- employee: 11119 rows\n",
    "- business: 5085 rows\n",
    "- retiree: 3856 rows\n",
    "- civil servant: 1459 rows\n",
    "- unemployed: 2 rows\n",
    "- entrepreneur: 2 rows\n",
    "- paternity / maternity leave: 1 row\n",
    "- student: 1 row"
   ]
  },
  {
   "cell_type": "code",
   "execution_count": 14,
   "metadata": {
    "id": "ehmTGMk297ia",
    "outputId": "047059b9-10e5-46d9-e6ca-be96cf2eb732"
   },
   "outputs": [
    {
     "data": {
      "text/html": [
       "<div>\n",
       "<style scoped>\n",
       "    .dataframe tbody tr th:only-of-type {\n",
       "        vertical-align: middle;\n",
       "    }\n",
       "\n",
       "    .dataframe tbody tr th {\n",
       "        vertical-align: top;\n",
       "    }\n",
       "\n",
       "    .dataframe thead th {\n",
       "        text-align: right;\n",
       "    }\n",
       "</style>\n",
       "<table border=\"1\" class=\"dataframe\">\n",
       "  <thead>\n",
       "    <tr style=\"text-align: right;\">\n",
       "      <th></th>\n",
       "      <th>percent%</th>\n",
       "      <th>count</th>\n",
       "    </tr>\n",
       "    <tr>\n",
       "      <th>unique</th>\n",
       "      <th></th>\n",
       "      <th></th>\n",
       "    </tr>\n",
       "  </thead>\n",
       "  <tbody>\n",
       "    <tr>\n",
       "      <th>employee</th>\n",
       "      <td>51.75%</td>\n",
       "      <td>10014</td>\n",
       "    </tr>\n",
       "    <tr>\n",
       "      <th>business</th>\n",
       "      <td>23.65%</td>\n",
       "      <td>4577</td>\n",
       "    </tr>\n",
       "    <tr>\n",
       "      <th>retiree</th>\n",
       "      <td>17.79%</td>\n",
       "      <td>3443</td>\n",
       "    </tr>\n",
       "    <tr>\n",
       "      <th>civil servant</th>\n",
       "      <td>6.78%</td>\n",
       "      <td>1312</td>\n",
       "    </tr>\n",
       "    <tr>\n",
       "      <th>unemployed</th>\n",
       "      <td>0.01%</td>\n",
       "      <td>2</td>\n",
       "    </tr>\n",
       "    <tr>\n",
       "      <th>entrepreneur</th>\n",
       "      <td>0.01%</td>\n",
       "      <td>1</td>\n",
       "    </tr>\n",
       "    <tr>\n",
       "      <th>paternity / maternity leave</th>\n",
       "      <td>0.01%</td>\n",
       "      <td>1</td>\n",
       "    </tr>\n",
       "    <tr>\n",
       "      <th>student</th>\n",
       "      <td>0.01%</td>\n",
       "      <td>1</td>\n",
       "    </tr>\n",
       "  </tbody>\n",
       "</table>\n",
       "</div>"
      ],
      "text/plain": [
       "                            percent%  count\n",
       "unique                                     \n",
       "employee                      51.75%  10014\n",
       "business                      23.65%   4577\n",
       "retiree                       17.79%   3443\n",
       "civil servant                  6.78%   1312\n",
       "unemployed                     0.01%      2\n",
       "entrepreneur                   0.01%      1\n",
       "paternity / maternity leave    0.01%      1\n",
       "student                        0.01%      1"
      ]
     },
     "execution_count": 14,
     "metadata": {},
     "output_type": "execute_result"
    }
   ],
   "source": [
    "# Check for other patterns - explain the patterns\n",
    "# Create df_not_null\n",
    "\n",
    "df_not_null = creditScore.dropna()\n",
    "\n",
    "data_count = df_not_null[\"income_type\"].value_counts()\n",
    "data_percent = df_not_null[\"income_type\"].value_counts(normalize=True).mul(100).round(2).astype(str)+\"%\"\n",
    "pd.DataFrame(data={\"percent%\" : data_percent, \"count\" : data_count}).rename_axis(\"unique\")"
   ]
  },
  {
   "cell_type": "markdown",
   "metadata": {},
   "source": [
    "`df_not_null` is the dataset without null values. This dataset can be used to understand the distribution of data without including rows containing null values.\n",
    "\n",
    "The distribution of the dataset **(df_not_null)** categorized based on the column `'income_type'` is as follows:\n",
    "\n",
    "- employee: 10014 rows\n",
    "- business: 4577 rows\n",
    "- retiree: 3443 rows\n",
    "- civil servant: 1312 rows\n",
    "- unemployed: 2 rows\n",
    "- entrepreneur: 1 row\n",
    "- paternity / maternity leave: 1 row\n",
    "- student: 1 row"
   ]
  },
  {
   "cell_type": "markdown",
   "metadata": {
    "id": "ddl2ZDof9aF5"
   },
   "source": [
    "### Conclusion <a id='conclusion1'></a>\n",
    "\n",
    "So the total missing data is 2174 rows. after we do data exploration from the three data distributions (**'creditScore', 'df_null', 'df_not_null'**) we can see that:\n",
    "\n",
    "* the majority of customers are married people\n",
    "* most of the customers are employees\n",
    "* the most missing data is in the rows `'employee'` and `'married'` according to the `'income_type'` and `'family_status'` categories\n",
    "\n",
    "This dataset provides enough information that we will need in our hypothesis testing. however, there are some missing data. if we look at the distribution based on categories, the missing data is in the majority group. we will fix this data in the next step, namely **Data Preprocessing**.\n",
    "\n",
    "[back to content](#back)"
   ]
  },
  {
   "cell_type": "markdown",
   "metadata": {
    "id": "AN_nOONBcOE8"
   },
   "source": [
    "# Stage 2. Data Preprocessing <a id='processing_data'></a>\n",
    "\n",
    "In this stage, we will review, correct, and re-examine any anomalous data. It is advisable to correct these anomalous values first to avoid errors when testing the hypotheses we are going to evaluate."
   ]
  },
  {
   "cell_type": "markdown",
   "metadata": {
    "id": "fgDgma1AjNAQ"
   },
   "source": [
    "### Data Transformation <a id='data_transform'>"
   ]
  },
  {
   "cell_type": "code",
   "execution_count": 15,
   "metadata": {
    "colab": {
     "base_uri": "https://localhost:8080/"
    },
    "id": "aLKM21OljNAR",
    "outputId": "caf2abd2-7ec0-45a6-ed80-59742bb8f1b5"
   },
   "outputs": [
    {
     "data": {
      "text/plain": [
       "array([\"bachelor's degree\", 'secondary education', 'Secondary Education',\n",
       "       'SECONDARY EDUCATION', \"BACHELOR'S DEGREE\", 'some college',\n",
       "       'primary education', \"Bachelor's Degree\", 'SOME COLLEGE',\n",
       "       'Some College', 'PRIMARY EDUCATION', 'Primary Education',\n",
       "       'Graduate Degree', 'GRADUATE DEGREE', 'graduate degree'],\n",
       "      dtype=object)"
      ]
     },
     "execution_count": 15,
     "metadata": {},
     "output_type": "execute_result"
    }
   ],
   "source": [
    "# Let's review all values in the education column to check for any spelling that needs to be corrected.\n",
    "creditScore['education'].unique()"
   ]
  },
  {
   "cell_type": "markdown",
   "metadata": {
    "id": "zfp3g2YFcOE9"
   },
   "source": [
    "Oh no! Upon closer inspection, those values actually have the same meaning, but they are written in different styles. In terms of data processing, these anomalous values are referred to as `implicit duplicates`. If these values are included in our hypothesis testing, they will cause issues. We will address these anomalous values by converting them to lowercase."
   ]
  },
  {
   "cell_type": "code",
   "execution_count": 16,
   "metadata": {
    "id": "MTmP7mCxjNAS",
    "scrolled": true
   },
   "outputs": [],
   "source": [
    "# Correct the records if necessary.\n",
    "creditScore['education'] = creditScore['education'].str.lower()"
   ]
  },
  {
   "cell_type": "code",
   "execution_count": 17,
   "metadata": {
    "colab": {
     "base_uri": "https://localhost:8080/"
    },
    "id": "iTX-0JspjNAS",
    "outputId": "6a79fd32-8553-49ff-a0ea-1af63a7d39a0"
   },
   "outputs": [
    {
     "data": {
      "text/plain": [
       "array([\"bachelor's degree\", 'secondary education', 'some college',\n",
       "       'primary education', 'graduate degree'], dtype=object)"
      ]
     },
     "execution_count": 17,
     "metadata": {},
     "output_type": "execute_result"
    }
   ],
   "source": [
    "# Check all values in the column to ensure we have corrected them correctly\n",
    "creditScore['education'].unique()"
   ]
  },
  {
   "cell_type": "markdown",
   "metadata": {
    "id": "PqAsDFQ9cOE_"
   },
   "source": [
    "Now, the values that were considered different earlier now have the same writing format. Thus, there are no more implicit duplicates in the column."
   ]
  },
  {
   "cell_type": "code",
   "execution_count": 18,
   "metadata": {
    "colab": {
     "base_uri": "https://localhost:8080/"
    },
    "id": "5X8z1qfRjNAU",
    "outputId": "65346b33-720d-4c7c-fa12-8db4b71459a4"
   },
   "outputs": [
    {
     "data": {
      "text/plain": [
       " 0     14149\n",
       " 1      4818\n",
       " 2      2055\n",
       " 3       330\n",
       " 20       76\n",
       "-1        47\n",
       " 4        41\n",
       " 5         9\n",
       "Name: children, dtype: int64"
      ]
     },
     "execution_count": 18,
     "metadata": {},
     "output_type": "execute_result"
    }
   ],
   "source": [
    "# Let's look at the distribution of values in the `children` column\n",
    "creditScore['children'].value_counts()"
   ]
  },
  {
   "cell_type": "markdown",
   "metadata": {
    "id": "g4mwJSgXjNAU"
   },
   "source": [
    "The logic dictates that humans cannot possibly have 20 children at once. It is also impossible for someone to have -1 child; this would mean they have no children. These errors may have occurred due to mistakes during data input. Therefore, we will correct these two values."
   ]
  },
  {
   "cell_type": "code",
   "execution_count": 19,
   "metadata": {
    "id": "3KDuiNWgjNAV"
   },
   "outputs": [],
   "source": [
    "# Correct the data based on your decision\n",
    "creditScore['children'].replace({-1: 1, 20: 2}, inplace=True)"
   ]
  },
  {
   "cell_type": "code",
   "execution_count": 20,
   "metadata": {
    "colab": {
     "base_uri": "https://localhost:8080/"
    },
    "id": "w4OAzVLLjNAW",
    "outputId": "27fd2a96-7bdd-4a7a-dd5d-65d687c2613e"
   },
   "outputs": [
    {
     "data": {
      "text/plain": [
       "0    14149\n",
       "1     4865\n",
       "2     2131\n",
       "3      330\n",
       "4       41\n",
       "5        9\n",
       "Name: children, dtype: int64"
      ]
     },
     "execution_count": 20,
     "metadata": {},
     "output_type": "execute_result"
    }
   ],
   "source": [
    "# Recheck the `children` column to ensure that everything has been corrected\n",
    "\n",
    "creditScore['children'].value_counts()"
   ]
  },
  {
   "cell_type": "code",
   "execution_count": 21,
   "metadata": {
    "colab": {
     "base_uri": "https://localhost:8080/"
    },
    "id": "9ClhSmO4jNAX",
    "outputId": "6aa5e9f8-ae65-4061-83c6-050c485346ad"
   },
   "outputs": [
    {
     "data": {
      "text/plain": [
       "73.89547038327527"
      ]
     },
     "execution_count": 21,
     "metadata": {},
     "output_type": "execute_result"
    }
   ],
   "source": [
    "# Find problematic data in the `days_employed` column if there are any issues and calculate the percentage\n",
    "# Find the percentage of negative values for the number of days\n",
    "(creditScore.loc[creditScore['days_employed'] < 0, 'days_employed'].count() / len(creditScore)) * 100"
   ]
  },
  {
   "cell_type": "code",
   "execution_count": 22,
   "metadata": {
    "colab": {
     "base_uri": "https://localhost:8080/"
    },
    "id": "H9QqZ2ZDp_k6",
    "outputId": "880a6702-9986-4585-8a73-1f32eecad196"
   },
   "outputs": [
    {
     "data": {
      "text/plain": [
       "16.004645760743323"
      ]
     },
     "execution_count": 22,
     "metadata": {},
     "output_type": "execute_result"
    }
   ],
   "source": [
    "# Finding out the percentage of working days of customers exceeding their age.\n",
    "(creditScore.loc[(creditScore['days_employed'] / 365) > creditScore['dob_years'], 'days_employed'].count() / len(creditScore)) * 100\n"
   ]
  },
  {
   "cell_type": "markdown",
   "metadata": {
    "id": "ijWgehdbuYf9"
   },
   "source": [
    "It turns out that the number of negative values in the `'days_employed'` column is very high, around 73%. The number of unreasonable work experiences is also quite large, around 16%. Let's correct these two problematic values first."
   ]
  },
  {
   "cell_type": "code",
   "execution_count": 23,
   "metadata": {
    "id": "Riu2GBbOrt2o"
   },
   "outputs": [],
   "source": [
    "# Resolve problematic values, if any\n",
    "# Convert negative values to absolute values\n",
    "creditScore['days_employed'] = round(abs(creditScore['days_employed']))"
   ]
  },
  {
   "cell_type": "code",
   "execution_count": 24,
   "metadata": {
    "id": "HBgGJiDKX9vl"
   },
   "outputs": [],
   "source": [
    "# Replace dob_years with 0\n",
    "avg_age = int(creditScore['dob_years'].mean())\n",
    "creditScore.loc[creditScore['dob_years']==0, 'dob_years'] = avg_age"
   ]
  },
  {
   "cell_type": "code",
   "execution_count": 25,
   "metadata": {
    "colab": {
     "base_uri": "https://localhost:8080/",
     "height": 357
    },
    "id": "11vZdsn2pH55",
    "outputId": "b96b86ae-e13f-4413-99d9-8de93d2a4de3"
   },
   "outputs": [
    {
     "data": {
      "text/html": [
       "<div>\n",
       "<style scoped>\n",
       "    .dataframe tbody tr th:only-of-type {\n",
       "        vertical-align: middle;\n",
       "    }\n",
       "\n",
       "    .dataframe tbody tr th {\n",
       "        vertical-align: top;\n",
       "    }\n",
       "\n",
       "    .dataframe thead th {\n",
       "        text-align: right;\n",
       "    }\n",
       "</style>\n",
       "<table border=\"1\" class=\"dataframe\">\n",
       "  <thead>\n",
       "    <tr style=\"text-align: right;\">\n",
       "      <th></th>\n",
       "      <th>children</th>\n",
       "      <th>days_employed</th>\n",
       "      <th>dob_years</th>\n",
       "      <th>education</th>\n",
       "      <th>education_id</th>\n",
       "      <th>family_status</th>\n",
       "      <th>family_status_id</th>\n",
       "      <th>gender</th>\n",
       "      <th>income_type</th>\n",
       "      <th>debt</th>\n",
       "      <th>total_income</th>\n",
       "      <th>purpose</th>\n",
       "      <th>years_employed</th>\n",
       "    </tr>\n",
       "  </thead>\n",
       "  <tbody>\n",
       "    <tr>\n",
       "      <th>0</th>\n",
       "      <td>1</td>\n",
       "      <td>8438.0</td>\n",
       "      <td>42</td>\n",
       "      <td>bachelor's degree</td>\n",
       "      <td>0</td>\n",
       "      <td>married</td>\n",
       "      <td>0</td>\n",
       "      <td>F</td>\n",
       "      <td>employee</td>\n",
       "      <td>0</td>\n",
       "      <td>40620.102</td>\n",
       "      <td>purchase of the house</td>\n",
       "      <td>23.0</td>\n",
       "    </tr>\n",
       "    <tr>\n",
       "      <th>1</th>\n",
       "      <td>1</td>\n",
       "      <td>4025.0</td>\n",
       "      <td>36</td>\n",
       "      <td>secondary education</td>\n",
       "      <td>1</td>\n",
       "      <td>married</td>\n",
       "      <td>0</td>\n",
       "      <td>F</td>\n",
       "      <td>employee</td>\n",
       "      <td>0</td>\n",
       "      <td>17932.802</td>\n",
       "      <td>car purchase</td>\n",
       "      <td>11.0</td>\n",
       "    </tr>\n",
       "    <tr>\n",
       "      <th>2</th>\n",
       "      <td>0</td>\n",
       "      <td>5623.0</td>\n",
       "      <td>33</td>\n",
       "      <td>secondary education</td>\n",
       "      <td>1</td>\n",
       "      <td>married</td>\n",
       "      <td>0</td>\n",
       "      <td>M</td>\n",
       "      <td>employee</td>\n",
       "      <td>0</td>\n",
       "      <td>23341.752</td>\n",
       "      <td>purchase of the house</td>\n",
       "      <td>15.0</td>\n",
       "    </tr>\n",
       "    <tr>\n",
       "      <th>3</th>\n",
       "      <td>3</td>\n",
       "      <td>4125.0</td>\n",
       "      <td>32</td>\n",
       "      <td>secondary education</td>\n",
       "      <td>1</td>\n",
       "      <td>married</td>\n",
       "      <td>0</td>\n",
       "      <td>M</td>\n",
       "      <td>employee</td>\n",
       "      <td>0</td>\n",
       "      <td>42820.568</td>\n",
       "      <td>supplementary education</td>\n",
       "      <td>11.0</td>\n",
       "    </tr>\n",
       "    <tr>\n",
       "      <th>4</th>\n",
       "      <td>0</td>\n",
       "      <td>340266.0</td>\n",
       "      <td>53</td>\n",
       "      <td>secondary education</td>\n",
       "      <td>1</td>\n",
       "      <td>civil partnership</td>\n",
       "      <td>1</td>\n",
       "      <td>F</td>\n",
       "      <td>retiree</td>\n",
       "      <td>0</td>\n",
       "      <td>25378.572</td>\n",
       "      <td>to have a wedding</td>\n",
       "      <td>932.0</td>\n",
       "    </tr>\n",
       "  </tbody>\n",
       "</table>\n",
       "</div>"
      ],
      "text/plain": [
       "   children  days_employed  dob_years            education  education_id  \\\n",
       "0         1         8438.0         42    bachelor's degree             0   \n",
       "1         1         4025.0         36  secondary education             1   \n",
       "2         0         5623.0         33  secondary education             1   \n",
       "3         3         4125.0         32  secondary education             1   \n",
       "4         0       340266.0         53  secondary education             1   \n",
       "\n",
       "       family_status  family_status_id gender income_type  debt  total_income  \\\n",
       "0            married                 0      F    employee     0     40620.102   \n",
       "1            married                 0      F    employee     0     17932.802   \n",
       "2            married                 0      M    employee     0     23341.752   \n",
       "3            married                 0      M    employee     0     42820.568   \n",
       "4  civil partnership                 1      F     retiree     0     25378.572   \n",
       "\n",
       "                   purpose  years_employed  \n",
       "0    purchase of the house            23.0  \n",
       "1             car purchase            11.0  \n",
       "2    purchase of the house            15.0  \n",
       "3  supplementary education            11.0  \n",
       "4        to have a wedding           932.0  "
      ]
     },
     "execution_count": 25,
     "metadata": {},
     "output_type": "execute_result"
    }
   ],
   "source": [
    "# Convert days worked to years worked\n",
    "creditScore['years_employed'] = round(creditScore['days_employed'] / 365)\n",
    "creditScore.head()"
   ]
  },
  {
   "cell_type": "code",
   "execution_count": 26,
   "metadata": {
    "colab": {
     "base_uri": "https://localhost:8080/",
     "height": 357
    },
    "id": "Y0fZ0DvkvuMu",
    "outputId": "59c21287-d723-4571-b0ff-1fc74dbc72cc"
   },
   "outputs": [
    {
     "data": {
      "text/html": [
       "<div>\n",
       "<style scoped>\n",
       "    .dataframe tbody tr th:only-of-type {\n",
       "        vertical-align: middle;\n",
       "    }\n",
       "\n",
       "    .dataframe tbody tr th {\n",
       "        vertical-align: top;\n",
       "    }\n",
       "\n",
       "    .dataframe thead th {\n",
       "        text-align: right;\n",
       "    }\n",
       "</style>\n",
       "<table border=\"1\" class=\"dataframe\">\n",
       "  <thead>\n",
       "    <tr style=\"text-align: right;\">\n",
       "      <th></th>\n",
       "      <th>children</th>\n",
       "      <th>days_employed</th>\n",
       "      <th>dob_years</th>\n",
       "      <th>education</th>\n",
       "      <th>education_id</th>\n",
       "      <th>family_status</th>\n",
       "      <th>family_status_id</th>\n",
       "      <th>gender</th>\n",
       "      <th>income_type</th>\n",
       "      <th>debt</th>\n",
       "      <th>total_income</th>\n",
       "      <th>purpose</th>\n",
       "      <th>years_employed</th>\n",
       "      <th>year_working</th>\n",
       "    </tr>\n",
       "  </thead>\n",
       "  <tbody>\n",
       "    <tr>\n",
       "      <th>0</th>\n",
       "      <td>1</td>\n",
       "      <td>8438.0</td>\n",
       "      <td>42</td>\n",
       "      <td>bachelor's degree</td>\n",
       "      <td>0</td>\n",
       "      <td>married</td>\n",
       "      <td>0</td>\n",
       "      <td>F</td>\n",
       "      <td>employee</td>\n",
       "      <td>0</td>\n",
       "      <td>40620.102</td>\n",
       "      <td>purchase of the house</td>\n",
       "      <td>23.0</td>\n",
       "      <td>24</td>\n",
       "    </tr>\n",
       "    <tr>\n",
       "      <th>1</th>\n",
       "      <td>1</td>\n",
       "      <td>4025.0</td>\n",
       "      <td>36</td>\n",
       "      <td>secondary education</td>\n",
       "      <td>1</td>\n",
       "      <td>married</td>\n",
       "      <td>0</td>\n",
       "      <td>F</td>\n",
       "      <td>employee</td>\n",
       "      <td>0</td>\n",
       "      <td>17932.802</td>\n",
       "      <td>car purchase</td>\n",
       "      <td>11.0</td>\n",
       "      <td>18</td>\n",
       "    </tr>\n",
       "    <tr>\n",
       "      <th>2</th>\n",
       "      <td>0</td>\n",
       "      <td>5623.0</td>\n",
       "      <td>33</td>\n",
       "      <td>secondary education</td>\n",
       "      <td>1</td>\n",
       "      <td>married</td>\n",
       "      <td>0</td>\n",
       "      <td>M</td>\n",
       "      <td>employee</td>\n",
       "      <td>0</td>\n",
       "      <td>23341.752</td>\n",
       "      <td>purchase of the house</td>\n",
       "      <td>15.0</td>\n",
       "      <td>15</td>\n",
       "    </tr>\n",
       "    <tr>\n",
       "      <th>3</th>\n",
       "      <td>3</td>\n",
       "      <td>4125.0</td>\n",
       "      <td>32</td>\n",
       "      <td>secondary education</td>\n",
       "      <td>1</td>\n",
       "      <td>married</td>\n",
       "      <td>0</td>\n",
       "      <td>M</td>\n",
       "      <td>employee</td>\n",
       "      <td>0</td>\n",
       "      <td>42820.568</td>\n",
       "      <td>supplementary education</td>\n",
       "      <td>11.0</td>\n",
       "      <td>14</td>\n",
       "    </tr>\n",
       "    <tr>\n",
       "      <th>4</th>\n",
       "      <td>0</td>\n",
       "      <td>340266.0</td>\n",
       "      <td>53</td>\n",
       "      <td>secondary education</td>\n",
       "      <td>1</td>\n",
       "      <td>civil partnership</td>\n",
       "      <td>1</td>\n",
       "      <td>F</td>\n",
       "      <td>retiree</td>\n",
       "      <td>0</td>\n",
       "      <td>25378.572</td>\n",
       "      <td>to have a wedding</td>\n",
       "      <td>932.0</td>\n",
       "      <td>35</td>\n",
       "    </tr>\n",
       "  </tbody>\n",
       "</table>\n",
       "</div>"
      ],
      "text/plain": [
       "   children  days_employed  dob_years            education  education_id  \\\n",
       "0         1         8438.0         42    bachelor's degree             0   \n",
       "1         1         4025.0         36  secondary education             1   \n",
       "2         0         5623.0         33  secondary education             1   \n",
       "3         3         4125.0         32  secondary education             1   \n",
       "4         0       340266.0         53  secondary education             1   \n",
       "\n",
       "       family_status  family_status_id gender income_type  debt  total_income  \\\n",
       "0            married                 0      F    employee     0     40620.102   \n",
       "1            married                 0      F    employee     0     17932.802   \n",
       "2            married                 0      M    employee     0     23341.752   \n",
       "3            married                 0      M    employee     0     42820.568   \n",
       "4  civil partnership                 1      F     retiree     0     25378.572   \n",
       "\n",
       "                   purpose  years_employed  year_working  \n",
       "0    purchase of the house            23.0            24  \n",
       "1             car purchase            11.0            18  \n",
       "2    purchase of the house            15.0            15  \n",
       "3  supplementary education            11.0            14  \n",
       "4        to have a wedding           932.0            35  "
      ]
     },
     "execution_count": 26,
     "metadata": {},
     "output_type": "execute_result"
    }
   ],
   "source": [
    "# Get the actual duration of work\n",
    "creditScore['year_working'] = creditScore['dob_years'] - 18\n",
    "creditScore.head()"
   ]
  },
  {
   "cell_type": "code",
   "execution_count": 27,
   "metadata": {
    "id": "vlOUKB-Jwahr"
   },
   "outputs": [],
   "source": [
    "# Replace days_employed based on actual work experience\n",
    "value = creditScore['year_working'] * 365\n",
    "creditScore.loc[creditScore['years_employed'] > creditScore['year_working'], 'days_employed'] = value"
   ]
  },
  {
   "cell_type": "code",
   "execution_count": 28,
   "metadata": {
    "colab": {
     "base_uri": "https://localhost:8080/",
     "height": 300
    },
    "id": "DgMZgCQCjNAm",
    "outputId": "76cff293-dd5c-4118-f8a4-0e5adb08b300",
    "scrolled": true
   },
   "outputs": [
    {
     "data": {
      "text/html": [
       "<div>\n",
       "<style scoped>\n",
       "    .dataframe tbody tr th:only-of-type {\n",
       "        vertical-align: middle;\n",
       "    }\n",
       "\n",
       "    .dataframe tbody tr th {\n",
       "        vertical-align: top;\n",
       "    }\n",
       "\n",
       "    .dataframe thead th {\n",
       "        text-align: right;\n",
       "    }\n",
       "</style>\n",
       "<table border=\"1\" class=\"dataframe\">\n",
       "  <thead>\n",
       "    <tr style=\"text-align: right;\">\n",
       "      <th></th>\n",
       "      <th>children</th>\n",
       "      <th>days_employed</th>\n",
       "      <th>dob_years</th>\n",
       "      <th>education_id</th>\n",
       "      <th>family_status_id</th>\n",
       "      <th>debt</th>\n",
       "      <th>total_income</th>\n",
       "      <th>years_employed</th>\n",
       "      <th>year_working</th>\n",
       "    </tr>\n",
       "  </thead>\n",
       "  <tbody>\n",
       "    <tr>\n",
       "      <th>count</th>\n",
       "      <td>21525.000000</td>\n",
       "      <td>19351.000000</td>\n",
       "      <td>21525.000000</td>\n",
       "      <td>21525.000000</td>\n",
       "      <td>21525.000000</td>\n",
       "      <td>21525.000000</td>\n",
       "      <td>19351.000000</td>\n",
       "      <td>19351.000000</td>\n",
       "      <td>21525.000000</td>\n",
       "    </tr>\n",
       "    <tr>\n",
       "      <th>mean</th>\n",
       "      <td>0.479721</td>\n",
       "      <td>4610.301638</td>\n",
       "      <td>43.495145</td>\n",
       "      <td>0.817236</td>\n",
       "      <td>0.972544</td>\n",
       "      <td>0.080883</td>\n",
       "      <td>26787.568355</td>\n",
       "      <td>183.328820</td>\n",
       "      <td>25.495145</td>\n",
       "    </tr>\n",
       "    <tr>\n",
       "      <th>std</th>\n",
       "      <td>0.755528</td>\n",
       "      <td>5387.526183</td>\n",
       "      <td>12.218213</td>\n",
       "      <td>0.548138</td>\n",
       "      <td>1.420324</td>\n",
       "      <td>0.272661</td>\n",
       "      <td>16475.450632</td>\n",
       "      <td>380.906543</td>\n",
       "      <td>12.218213</td>\n",
       "    </tr>\n",
       "    <tr>\n",
       "      <th>min</th>\n",
       "      <td>0.000000</td>\n",
       "      <td>24.000000</td>\n",
       "      <td>19.000000</td>\n",
       "      <td>0.000000</td>\n",
       "      <td>0.000000</td>\n",
       "      <td>0.000000</td>\n",
       "      <td>3306.762000</td>\n",
       "      <td>0.000000</td>\n",
       "      <td>1.000000</td>\n",
       "    </tr>\n",
       "    <tr>\n",
       "      <th>25%</th>\n",
       "      <td>0.000000</td>\n",
       "      <td>924.000000</td>\n",
       "      <td>34.000000</td>\n",
       "      <td>1.000000</td>\n",
       "      <td>0.000000</td>\n",
       "      <td>0.000000</td>\n",
       "      <td>16488.504500</td>\n",
       "      <td>3.000000</td>\n",
       "      <td>16.000000</td>\n",
       "    </tr>\n",
       "    <tr>\n",
       "      <th>50%</th>\n",
       "      <td>0.000000</td>\n",
       "      <td>2190.000000</td>\n",
       "      <td>43.000000</td>\n",
       "      <td>1.000000</td>\n",
       "      <td>0.000000</td>\n",
       "      <td>0.000000</td>\n",
       "      <td>23202.870000</td>\n",
       "      <td>6.000000</td>\n",
       "      <td>25.000000</td>\n",
       "    </tr>\n",
       "    <tr>\n",
       "      <th>75%</th>\n",
       "      <td>1.000000</td>\n",
       "      <td>5503.000000</td>\n",
       "      <td>53.000000</td>\n",
       "      <td>1.000000</td>\n",
       "      <td>1.000000</td>\n",
       "      <td>0.000000</td>\n",
       "      <td>32549.611000</td>\n",
       "      <td>15.000000</td>\n",
       "      <td>35.000000</td>\n",
       "    </tr>\n",
       "    <tr>\n",
       "      <th>max</th>\n",
       "      <td>5.000000</td>\n",
       "      <td>20440.000000</td>\n",
       "      <td>75.000000</td>\n",
       "      <td>4.000000</td>\n",
       "      <td>4.000000</td>\n",
       "      <td>1.000000</td>\n",
       "      <td>362496.645000</td>\n",
       "      <td>1101.000000</td>\n",
       "      <td>57.000000</td>\n",
       "    </tr>\n",
       "  </tbody>\n",
       "</table>\n",
       "</div>"
      ],
      "text/plain": [
       "           children  days_employed     dob_years  education_id  \\\n",
       "count  21525.000000   19351.000000  21525.000000  21525.000000   \n",
       "mean       0.479721    4610.301638     43.495145      0.817236   \n",
       "std        0.755528    5387.526183     12.218213      0.548138   \n",
       "min        0.000000      24.000000     19.000000      0.000000   \n",
       "25%        0.000000     924.000000     34.000000      1.000000   \n",
       "50%        0.000000    2190.000000     43.000000      1.000000   \n",
       "75%        1.000000    5503.000000     53.000000      1.000000   \n",
       "max        5.000000   20440.000000     75.000000      4.000000   \n",
       "\n",
       "       family_status_id          debt   total_income  years_employed  \\\n",
       "count      21525.000000  21525.000000   19351.000000    19351.000000   \n",
       "mean           0.972544      0.080883   26787.568355      183.328820   \n",
       "std            1.420324      0.272661   16475.450632      380.906543   \n",
       "min            0.000000      0.000000    3306.762000        0.000000   \n",
       "25%            0.000000      0.000000   16488.504500        3.000000   \n",
       "50%            0.000000      0.000000   23202.870000        6.000000   \n",
       "75%            1.000000      0.000000   32549.611000       15.000000   \n",
       "max            4.000000      1.000000  362496.645000     1101.000000   \n",
       "\n",
       "       year_working  \n",
       "count  21525.000000  \n",
       "mean      25.495145  \n",
       "std       12.218213  \n",
       "min        1.000000  \n",
       "25%       16.000000  \n",
       "50%       25.000000  \n",
       "75%       35.000000  \n",
       "max       57.000000  "
      ]
     },
     "execution_count": 28,
     "metadata": {},
     "output_type": "execute_result"
    }
   ],
   "source": [
    "# Check the results - make sure the issue has been fixed\n",
    "creditScore.describe()"
   ]
  },
  {
   "cell_type": "markdown",
   "metadata": {
    "id": "qrtA207McOFW"
   },
   "source": [
    "Great, now the `days_employed` values have been corrected. There are no more negative days and the work experience values are reasonable."
   ]
  },
  {
   "cell_type": "code",
   "execution_count": 29,
   "metadata": {
    "colab": {
     "base_uri": "https://localhost:8080/"
    },
    "id": "IHjlt6m1jNAn",
    "outputId": "9b2a068e-d938-40c7-edbd-a049f95d1a72",
    "scrolled": true
   },
   "outputs": [
    {
     "data": {
      "text/plain": [
       "array([19, 20, 21, 22, 23, 24, 25, 26, 27, 28, 29, 30, 31, 32, 33, 34, 35,\n",
       "       36, 37, 38, 39, 40, 41, 42, 43, 44, 45, 46, 47, 48, 49, 50, 51, 52,\n",
       "       53, 54, 55, 56, 57, 58, 59, 60, 61, 62, 63, 64, 65, 66, 67, 68, 69,\n",
       "       70, 71, 72, 73, 74, 75])"
      ]
     },
     "execution_count": 29,
     "metadata": {},
     "output_type": "execute_result"
    }
   ],
   "source": [
    "# Check `dob_years` for suspicious values and calculate their percentage\n",
    "creditScore['dob_years'].sort_values().unique()"
   ]
  },
  {
   "cell_type": "markdown",
   "metadata": {
    "id": "fPqWKNOMjNAn"
   },
   "source": [
    "The problematic values are found in the age of customers being 0. This is likely due to errors during data input. We will replace these with the median or mean of the customers' ages."
   ]
  },
  {
   "cell_type": "code",
   "execution_count": 30,
   "metadata": {
    "colab": {
     "base_uri": "https://localhost:8080/"
    },
    "id": "XfHHm3qWjNAo",
    "outputId": "62c1489c-46e5-4155-af26-3dbeb118bbd0"
   },
   "outputs": [
    {
     "data": {
      "text/plain": [
       "count    21525.000000\n",
       "mean        43.495145\n",
       "std         12.218213\n",
       "min         19.000000\n",
       "25%         34.000000\n",
       "50%         43.000000\n",
       "75%         53.000000\n",
       "max         75.000000\n",
       "Name: dob_years, dtype: float64"
      ]
     },
     "execution_count": 30,
     "metadata": {},
     "output_type": "execute_result"
    }
   ],
   "source": [
    "creditScore['dob_years'].describe()"
   ]
  },
  {
   "cell_type": "markdown",
   "metadata": {
    "id": "HTI_OZ5qjNAo"
   },
   "source": [
    "It turns out that the mean and median values are not significantly different. We can use either one."
   ]
  },
  {
   "cell_type": "code",
   "execution_count": 31,
   "metadata": {
    "id": "mvUfKLSGjNAp"
   },
   "outputs": [],
   "source": [
    "# Address issues in the `dob_years` column, if any\n",
    "creditScore.loc[creditScore['dob_years'] == 0, 'dob_years'] = int(creditScore['dob_years'].mean())"
   ]
  },
  {
   "cell_type": "code",
   "execution_count": 32,
   "metadata": {
    "colab": {
     "base_uri": "https://localhost:8080/"
    },
    "id": "LWQsU0F6jNAp",
    "outputId": "4e1efe8e-9afe-4db3-9cec-3e7cfd86be3e"
   },
   "outputs": [
    {
     "data": {
      "text/plain": [
       "array([19, 20, 21, 22, 23, 24, 25, 26, 27, 28, 29, 30, 31, 32, 33, 34, 35,\n",
       "       36, 37, 38, 39, 40, 41, 42, 43, 44, 45, 46, 47, 48, 49, 50, 51, 52,\n",
       "       53, 54, 55, 56, 57, 58, 59, 60, 61, 62, 63, 64, 65, 66, 67, 68, 69,\n",
       "       70, 71, 72, 73, 74, 75])"
      ]
     },
     "execution_count": 32,
     "metadata": {},
     "output_type": "execute_result"
    }
   ],
   "source": [
    "# Check the results - make sure the issue has been fixed\n",
    "creditScore['dob_years'].sort_values().unique()"
   ]
  },
  {
   "cell_type": "markdown",
   "metadata": {
    "id": "VhrO6kQCjNAq"
   },
   "source": [
    "Alright, now we will check the values in the `family_status` column and correct them if there are any errors."
   ]
  },
  {
   "cell_type": "code",
   "execution_count": 33,
   "metadata": {
    "colab": {
     "base_uri": "https://localhost:8080/"
    },
    "id": "YlfDyIHljNAr",
    "outputId": "6042bbcd-583e-48e2-d811-b3592b19e8f4"
   },
   "outputs": [
    {
     "data": {
      "text/plain": [
       "array(['married', 'civil partnership', 'widow / widower', 'divorced',\n",
       "       'unmarried'], dtype=object)"
      ]
     },
     "execution_count": 33,
     "metadata": {},
     "output_type": "execute_result"
    }
   ],
   "source": [
    "# Let's examine the values for this column\n",
    "creditScore['family_status'].unique()"
   ]
  },
  {
   "cell_type": "markdown",
   "metadata": {
    "id": "kfwSQYW8jNAt"
   },
   "source": [
    "It seems that there are no problematic values in this column. We will skip this part.\n",
    "\n",
    "Now, let's check the `gender` column. We will replace it if there are any problematic values."
   ]
  },
  {
   "cell_type": "code",
   "execution_count": 34,
   "metadata": {
    "colab": {
     "base_uri": "https://localhost:8080/"
    },
    "id": "UB0--b1QjNAu",
    "outputId": "068663c5-3452-43c0-add0-e0a11feb0444"
   },
   "outputs": [
    {
     "data": {
      "text/plain": [
       "F      14236\n",
       "M       7288\n",
       "XNA        1\n",
       "Name: gender, dtype: int64"
      ]
     },
     "execution_count": 34,
     "metadata": {},
     "output_type": "execute_result"
    }
   ],
   "source": [
    "# let's take a look at the values in this column.\n",
    "creditScore['gender'].value_counts()"
   ]
  },
  {
   "cell_type": "markdown",
   "metadata": {
    "id": "pVb5nhAzcOFb"
   },
   "source": [
    "The entries in this column are actually not problematic. However, to clarify the meaning of each value, we can change them to values that are more descriptive. There is also one anomaly that we will remove using the `.drop()` method."
   ]
  },
  {
   "cell_type": "code",
   "execution_count": 35,
   "metadata": {
    "id": "VkfpOZE-jNAv"
   },
   "outputs": [],
   "source": [
    "# Resolve problematic values, if any\n",
    "creditScore.drop(creditScore[creditScore['gender'] == 'XNA'].index, inplace=True)\n",
    "creditScore['gender'] = creditScore['gender'].replace({'F': 'Female', 'M': 'Male'})"
   ]
  },
  {
   "cell_type": "code",
   "execution_count": 36,
   "metadata": {
    "colab": {
     "base_uri": "https://localhost:8080/"
    },
    "id": "Bgsp2wiUjNAw",
    "outputId": "24a51ef4-ff29-4686-eb3f-d9febc975a58",
    "scrolled": true
   },
   "outputs": [
    {
     "data": {
      "text/plain": [
       "array(['Female', 'Male'], dtype=object)"
      ]
     },
     "execution_count": 36,
     "metadata": {},
     "output_type": "execute_result"
    }
   ],
   "source": [
    "# Let's fix any problematic values, if there are any.\n",
    "creditScore['gender'].unique()"
   ]
  },
  {
   "cell_type": "markdown",
   "metadata": {
    "id": "pqO-BjBmjNBh"
   },
   "source": [
    "Alright, we have corrected the values that were originally only 'F' and 'M' to 'Female' and 'Male', respectively. This clarifies the meaning of the data. We have also removed the 'XNA' value as it was an anomaly."
   ]
  },
  {
   "cell_type": "code",
   "execution_count": 37,
   "metadata": {
    "colab": {
     "base_uri": "https://localhost:8080/"
    },
    "id": "VJWWZZ0NjNBj",
    "outputId": "4d0dd0e8-754b-45a2-a3b4-0245ae854de1"
   },
   "outputs": [
    {
     "data": {
      "text/plain": [
       "array(['employee', 'retiree', 'business', 'civil servant', 'unemployed',\n",
       "       'entrepreneur', 'student', 'paternity / maternity leave'],\n",
       "      dtype=object)"
      ]
     },
     "execution_count": 37,
     "metadata": {},
     "output_type": "execute_result"
    }
   ],
   "source": [
    "# Let's look at the values in this column\n",
    "creditScore['income_type'].unique()"
   ]
  },
  {
   "cell_type": "markdown",
   "metadata": {
    "id": "RukLBEs0cOFd"
   },
   "source": [
    "It seems that there are no problematic values in this column. We will skip this part.\n",
    "\n",
    "Now, after we have checked each column, we will look at the number of duplicates in our dataset."
   ]
  },
  {
   "cell_type": "markdown",
   "metadata": {
    "id": "WFBaKtHvcOFf"
   },
   "source": [
    "### Fixing Duplicate Data <a id='duplicate'></a>"
   ]
  },
  {
   "cell_type": "code",
   "execution_count": 38,
   "metadata": {
    "colab": {
     "base_uri": "https://localhost:8080/"
    },
    "id": "ERToqOQNjNBk",
    "outputId": "2a0d27d8-938d-4d2f-cf94-95fc5215066f",
    "scrolled": true
   },
   "outputs": [
    {
     "data": {
      "text/plain": [
       "71"
      ]
     },
     "execution_count": 38,
     "metadata": {},
     "output_type": "execute_result"
    }
   ],
   "source": [
    "# Check for duplicates\n",
    "creditScore.duplicated().sum()"
   ]
  },
  {
   "cell_type": "markdown",
   "metadata": {
    "id": "cL4aY9UScOFg"
   },
   "source": [
    "There are 71 duplicates in the dataset. We will remove these duplicates to make the analysis more accurate. To do this, we will use the `.drop_duplicates()` method."
   ]
  },
  {
   "cell_type": "code",
   "execution_count": 39,
   "metadata": {
    "id": "VPwWR4mujNBl"
   },
   "outputs": [],
   "source": [
    "# Resolve duplicates, if any\n",
    "creditScore = creditScore.drop_duplicates().reset_index(drop=True)"
   ]
  },
  {
   "cell_type": "code",
   "execution_count": 40,
   "metadata": {
    "colab": {
     "base_uri": "https://localhost:8080/"
    },
    "id": "R4V9fDNQjNBl",
    "outputId": "26e8f608-226f-4b59-85da-18a5ab40655a"
   },
   "outputs": [
    {
     "data": {
      "text/plain": [
       "0"
      ]
     },
     "execution_count": 40,
     "metadata": {},
     "output_type": "execute_result"
    }
   ],
   "source": [
    "# Perform a final check to see if we have any duplicates\n",
    "creditScore.duplicated().sum()"
   ]
  },
  {
   "cell_type": "markdown",
   "metadata": {
    "id": "r3c2Rw80cOFi"
   },
   "source": [
    "By removing duplicate rows, we have addressed the anomaly related to duplication. This helps ensure data consistency and accuracy when performing analysis."
   ]
  },
  {
   "cell_type": "code",
   "execution_count": 41,
   "metadata": {
    "colab": {
     "base_uri": "https://localhost:8080/"
    },
    "id": "HGfM4NwvjNBm",
    "outputId": "7e6e1658-be55-4bce-8423-cb76e736b632"
   },
   "outputs": [
    {
     "data": {
      "text/plain": [
       "(21453, 14)"
      ]
     },
     "execution_count": 41,
     "metadata": {},
     "output_type": "execute_result"
    }
   ],
   "source": [
    "# Check the size of the dataset after the first manipulation you performed\n",
    "creditScore.shape"
   ]
  },
  {
   "cell_type": "code",
   "execution_count": 42,
   "metadata": {
    "colab": {
     "base_uri": "https://localhost:8080/"
    },
    "id": "DhTJ3QhzjNBn",
    "outputId": "9c13a560-d41f-4ca6-8985-bf22f1e43760",
    "scrolled": true
   },
   "outputs": [
    {
     "name": "stdout",
     "output_type": "stream",
     "text": [
      "Percentage change in data (including null): 10.43%\n"
     ]
    }
   ],
   "source": [
    "former_df = 21525\n",
    "data_null_row = 2174\n",
    "new_df = 21454\n",
    "\n",
    "changes = (former_df - new_df) + data_null_row\n",
    "percentage_change = (changes / former_df) * 100\n",
    "\n",
    "print(f\"Percentage change in data (including null): {percentage_change:.2f}%\")"
   ]
  },
  {
   "cell_type": "markdown",
   "metadata": {
    "id": "0yHfOxZqjNBz"
   },
   "source": [
    "The dataset we have has undergone a process of correcting the writing and has been manipulated in the 'days_employeed' column. The percentage change is around 10.43%."
   ]
  },
  {
   "cell_type": "markdown",
   "metadata": {
    "id": "bJkufTtTcOFk"
   },
   "source": [
    "### Fixing Missing Values <a id='missing_values'></a>\n",
    "\n",
    "Sometimes, to make it easier for us to fix data, we can use a dictionary. In this dataset, `'family_status_id'` and `'family_status'` are actually the same values. The same goes for `'education_id'` and `'education'`. We will change those columns into dictionaries."
   ]
  },
  {
   "cell_type": "code",
   "execution_count": 43,
   "metadata": {
    "id": "qq8HaIYFjNCu",
    "scrolled": false
   },
   "outputs": [],
   "source": [
    "# Find the dictionary\n",
    "family_id = dict(zip(creditScore.family_status_id, creditScore.family_status))\n",
    "education_id = dict(zip( creditScore.education_id, creditScore.education ))"
   ]
  },
  {
   "cell_type": "code",
   "execution_count": 44,
   "metadata": {
    "id": "6V-t84NJcOFl",
    "outputId": "6108e63d-72ea-4811-d78d-720a169c9b58"
   },
   "outputs": [
    {
     "data": {
      "text/plain": [
       "{0: 'married',\n",
       " 1: 'civil partnership',\n",
       " 2: 'widow / widower',\n",
       " 3: 'divorced',\n",
       " 4: 'unmarried'}"
      ]
     },
     "execution_count": 44,
     "metadata": {},
     "output_type": "execute_result"
    }
   ],
   "source": [
    "family_id"
   ]
  },
  {
   "cell_type": "code",
   "execution_count": 45,
   "metadata": {
    "id": "mLXvwu9ocOFl",
    "outputId": "dd463228-3e82-4505-b79b-c87ab000face"
   },
   "outputs": [
    {
     "data": {
      "text/plain": [
       "{0: \"bachelor's degree\",\n",
       " 1: 'secondary education',\n",
       " 2: 'some college',\n",
       " 3: 'primary education',\n",
       " 4: 'graduate degree'}"
      ]
     },
     "execution_count": 45,
     "metadata": {},
     "output_type": "execute_result"
    }
   ],
   "source": [
    "education_id"
   ]
  },
  {
   "cell_type": "markdown",
   "metadata": {
    "id": "J--qKj5PjNC5"
   },
   "source": [
    "### Categorizing Age and Occupation as Parameters\n",
    "\n",
    "The main factors in identifying total income are usually age and occupation. Let's use these two factors as parameters to fill in the missing values in the 'total_income' column."
   ]
  },
  {
   "cell_type": "code",
   "execution_count": 46,
   "metadata": {
    "id": "tBwhjgSojNCw"
   },
   "outputs": [],
   "source": [
    "# Let's write a function to calculate age categories\n",
    "def age_category(age):\n",
    "    if age <= 25:\n",
    "        return '0-25 y/o'\n",
    "    elif age > 25 and age <= 50:\n",
    "        return '26-50 y/o'\n",
    "    else:\n",
    "        return '50+ y/o'"
   ]
  },
  {
   "cell_type": "code",
   "execution_count": 47,
   "metadata": {
    "colab": {
     "base_uri": "https://localhost:8080/"
    },
    "id": "qRr3gUYFjNCy",
    "outputId": "b162bd21-dbd8-4fa0-8ddb-d348dd558eef"
   },
   "outputs": [
    {
     "name": "stdout",
     "output_type": "stream",
     "text": [
      "client age is: 26-50 y/o\n"
     ]
    }
   ],
   "source": [
    "# Let's perform a test to see if your function works or not.\n",
    "print('client age is:', age_category(35))"
   ]
  },
  {
   "cell_type": "code",
   "execution_count": 48,
   "metadata": {
    "id": "iqAukqm6jNC3"
   },
   "outputs": [],
   "source": [
    "# Let's create a new column based on the function\n",
    "creditScore['age_category'] = creditScore['dob_years'].apply(age_category)"
   ]
  },
  {
   "cell_type": "code",
   "execution_count": 49,
   "metadata": {
    "colab": {
     "base_uri": "https://localhost:8080/"
    },
    "id": "x-aK_YFhjNC4",
    "outputId": "45d0e4dd-128c-455b-f124-1ca39abaf94a"
   },
   "outputs": [
    {
     "data": {
      "text/plain": [
       "0        26-50 y/o\n",
       "1        26-50 y/o\n",
       "2        26-50 y/o\n",
       "3        26-50 y/o\n",
       "4          50+ y/o\n",
       "           ...    \n",
       "21448    26-50 y/o\n",
       "21449      50+ y/o\n",
       "21450    26-50 y/o\n",
       "21451    26-50 y/o\n",
       "21452    26-50 y/o\n",
       "Name: age_category, Length: 21453, dtype: object"
      ]
     },
     "execution_count": 49,
     "metadata": {},
     "output_type": "execute_result"
    }
   ],
   "source": [
    "# Check the values in the new column\n",
    "creditScore['age_category']"
   ]
  },
  {
   "cell_type": "markdown",
   "metadata": {
    "id": "SHDJXQ0PcOFo"
   },
   "source": [
    "### Fixing Values in the 'total_income' Column\n",
    "\n",
    "Earlier, we saw that the values in the 'total_income' column are missing. Let's fix those values first."
   ]
  },
  {
   "cell_type": "code",
   "execution_count": 50,
   "metadata": {
    "id": "HTOnjqaijNC8"
   },
   "outputs": [],
   "source": [
    "# Create a table without missing values and display some rows to ensure everything is running smoothly.\n",
    "not_null_income = creditScore.loc[-creditScore['total_income'].isnull()]"
   ]
  },
  {
   "cell_type": "code",
   "execution_count": 51,
   "metadata": {
    "colab": {
     "base_uri": "https://localhost:8080/",
     "height": 143
    },
    "id": "8OwaNNCVjNC9",
    "outputId": "91a6b283-e9cb-415e-8b53-1ab43578f930"
   },
   "outputs": [
    {
     "data": {
      "text/html": [
       "<div>\n",
       "<style scoped>\n",
       "    .dataframe tbody tr th:only-of-type {\n",
       "        vertical-align: middle;\n",
       "    }\n",
       "\n",
       "    .dataframe tbody tr th {\n",
       "        vertical-align: top;\n",
       "    }\n",
       "\n",
       "    .dataframe thead th {\n",
       "        text-align: right;\n",
       "    }\n",
       "</style>\n",
       "<table border=\"1\" class=\"dataframe\">\n",
       "  <thead>\n",
       "    <tr style=\"text-align: right;\">\n",
       "      <th></th>\n",
       "      <th>income_type</th>\n",
       "      <th>age_category</th>\n",
       "      <th>total_income</th>\n",
       "    </tr>\n",
       "  </thead>\n",
       "  <tbody>\n",
       "    <tr>\n",
       "      <th>0</th>\n",
       "      <td>business</td>\n",
       "      <td>0-25 y/o</td>\n",
       "      <td>25713.363026</td>\n",
       "    </tr>\n",
       "    <tr>\n",
       "      <th>1</th>\n",
       "      <td>business</td>\n",
       "      <td>26-50 y/o</td>\n",
       "      <td>33044.461867</td>\n",
       "    </tr>\n",
       "    <tr>\n",
       "      <th>2</th>\n",
       "      <td>business</td>\n",
       "      <td>50+ y/o</td>\n",
       "      <td>32442.468551</td>\n",
       "    </tr>\n",
       "    <tr>\n",
       "      <th>3</th>\n",
       "      <td>civil servant</td>\n",
       "      <td>0-25 y/o</td>\n",
       "      <td>24510.974242</td>\n",
       "    </tr>\n",
       "    <tr>\n",
       "      <th>4</th>\n",
       "      <td>civil servant</td>\n",
       "      <td>26-50 y/o</td>\n",
       "      <td>27588.263377</td>\n",
       "    </tr>\n",
       "    <tr>\n",
       "      <th>5</th>\n",
       "      <td>civil servant</td>\n",
       "      <td>50+ y/o</td>\n",
       "      <td>27113.556702</td>\n",
       "    </tr>\n",
       "    <tr>\n",
       "      <th>6</th>\n",
       "      <td>employee</td>\n",
       "      <td>0-25 y/o</td>\n",
       "      <td>22248.409440</td>\n",
       "    </tr>\n",
       "    <tr>\n",
       "      <th>7</th>\n",
       "      <td>employee</td>\n",
       "      <td>26-50 y/o</td>\n",
       "      <td>26015.220249</td>\n",
       "    </tr>\n",
       "    <tr>\n",
       "      <th>8</th>\n",
       "      <td>employee</td>\n",
       "      <td>50+ y/o</td>\n",
       "      <td>26408.949768</td>\n",
       "    </tr>\n",
       "    <tr>\n",
       "      <th>9</th>\n",
       "      <td>entrepreneur</td>\n",
       "      <td>26-50 y/o</td>\n",
       "      <td>79866.103000</td>\n",
       "    </tr>\n",
       "  </tbody>\n",
       "</table>\n",
       "</div>"
      ],
      "text/plain": [
       "     income_type age_category  total_income\n",
       "0       business     0-25 y/o  25713.363026\n",
       "1       business    26-50 y/o  33044.461867\n",
       "2       business      50+ y/o  32442.468551\n",
       "3  civil servant     0-25 y/o  24510.974242\n",
       "4  civil servant    26-50 y/o  27588.263377\n",
       "5  civil servant      50+ y/o  27113.556702\n",
       "6       employee     0-25 y/o  22248.409440\n",
       "7       employee    26-50 y/o  26015.220249\n",
       "8       employee      50+ y/o  26408.949768\n",
       "9   entrepreneur    26-50 y/o  79866.103000"
      ]
     },
     "execution_count": 51,
     "metadata": {},
     "output_type": "execute_result"
    }
   ],
   "source": [
    "# Note the average income values based on the factors you have identified\n",
    "mean_income = pd.pivot_table(\n",
    "    not_null_income,\n",
    "    index = ['income_type', 'age_category'],\n",
    "    values = 'total_income',\n",
    "    aggfunc = 'mean'\n",
    ").reset_index()\n",
    "\n",
    "mean_income.head(10)"
   ]
  },
  {
   "cell_type": "code",
   "execution_count": 52,
   "metadata": {
    "colab": {
     "base_uri": "https://localhost:8080/",
     "height": 143
    },
    "id": "9pDivNQejNC_",
    "outputId": "2e2067fd-5fe7-4590-97f4-5b2267915a04",
    "scrolled": true
   },
   "outputs": [
    {
     "data": {
      "text/html": [
       "<div>\n",
       "<style scoped>\n",
       "    .dataframe tbody tr th:only-of-type {\n",
       "        vertical-align: middle;\n",
       "    }\n",
       "\n",
       "    .dataframe tbody tr th {\n",
       "        vertical-align: top;\n",
       "    }\n",
       "\n",
       "    .dataframe thead th {\n",
       "        text-align: right;\n",
       "    }\n",
       "</style>\n",
       "<table border=\"1\" class=\"dataframe\">\n",
       "  <thead>\n",
       "    <tr style=\"text-align: right;\">\n",
       "      <th></th>\n",
       "      <th>income_type</th>\n",
       "      <th>age_category</th>\n",
       "      <th>total_income</th>\n",
       "    </tr>\n",
       "  </thead>\n",
       "  <tbody>\n",
       "    <tr>\n",
       "      <th>0</th>\n",
       "      <td>business</td>\n",
       "      <td>0-25 y/o</td>\n",
       "      <td>22814.5995</td>\n",
       "    </tr>\n",
       "    <tr>\n",
       "      <th>1</th>\n",
       "      <td>business</td>\n",
       "      <td>26-50 y/o</td>\n",
       "      <td>28372.6700</td>\n",
       "    </tr>\n",
       "    <tr>\n",
       "      <th>2</th>\n",
       "      <td>business</td>\n",
       "      <td>50+ y/o</td>\n",
       "      <td>27486.8960</td>\n",
       "    </tr>\n",
       "    <tr>\n",
       "      <th>3</th>\n",
       "      <td>civil servant</td>\n",
       "      <td>0-25 y/o</td>\n",
       "      <td>22758.5535</td>\n",
       "    </tr>\n",
       "    <tr>\n",
       "      <th>4</th>\n",
       "      <td>civil servant</td>\n",
       "      <td>26-50 y/o</td>\n",
       "      <td>24328.8550</td>\n",
       "    </tr>\n",
       "    <tr>\n",
       "      <th>5</th>\n",
       "      <td>civil servant</td>\n",
       "      <td>50+ y/o</td>\n",
       "      <td>23585.3185</td>\n",
       "    </tr>\n",
       "    <tr>\n",
       "      <th>6</th>\n",
       "      <td>employee</td>\n",
       "      <td>0-25 y/o</td>\n",
       "      <td>20599.1375</td>\n",
       "    </tr>\n",
       "    <tr>\n",
       "      <th>7</th>\n",
       "      <td>employee</td>\n",
       "      <td>26-50 y/o</td>\n",
       "      <td>23020.9075</td>\n",
       "    </tr>\n",
       "    <tr>\n",
       "      <th>8</th>\n",
       "      <td>employee</td>\n",
       "      <td>50+ y/o</td>\n",
       "      <td>22869.8610</td>\n",
       "    </tr>\n",
       "    <tr>\n",
       "      <th>9</th>\n",
       "      <td>entrepreneur</td>\n",
       "      <td>26-50 y/o</td>\n",
       "      <td>79866.1030</td>\n",
       "    </tr>\n",
       "  </tbody>\n",
       "</table>\n",
       "</div>"
      ],
      "text/plain": [
       "     income_type age_category  total_income\n",
       "0       business     0-25 y/o    22814.5995\n",
       "1       business    26-50 y/o    28372.6700\n",
       "2       business      50+ y/o    27486.8960\n",
       "3  civil servant     0-25 y/o    22758.5535\n",
       "4  civil servant    26-50 y/o    24328.8550\n",
       "5  civil servant      50+ y/o    23585.3185\n",
       "6       employee     0-25 y/o    20599.1375\n",
       "7       employee    26-50 y/o    23020.9075\n",
       "8       employee      50+ y/o    22869.8610\n",
       "9   entrepreneur    26-50 y/o    79866.1030"
      ]
     },
     "execution_count": 52,
     "metadata": {},
     "output_type": "execute_result"
    }
   ],
   "source": [
    "# Note the median income values based on the factors you have identified\n",
    "median_income = pd.pivot_table(\n",
    "    not_null_income,\n",
    "    index = ['income_type', 'age_category'],\n",
    "    values = 'total_income',\n",
    "    aggfunc = 'median'\n",
    ").reset_index()\n",
    "\n",
    "median_income.head(10)"
   ]
  },
  {
   "cell_type": "markdown",
   "metadata": {
    "id": "I7NY4t3-jNDI"
   },
   "source": [
    "If we think about it again, occupation greatly influences total income. However, the possibility of outlier values is very high. It would be more appropriate to use the median value as a reference."
   ]
  },
  {
   "cell_type": "code",
   "execution_count": 53,
   "metadata": {
    "id": "30n9SvJjjNDJ"
   },
   "outputs": [],
   "source": [
    "#  Write the function we will use to fill in missing values\n",
    "def replace_income(dataset, grouping):\n",
    "    for _, row in grouping.iterrows():\n",
    "        income_type = row['income_type']\n",
    "        age_category = row['age_category']\n",
    "        median_income_value = row['total_income']\n",
    "\n",
    "        dataset.loc[(dataset['income_type'] == income_type) & (dataset['age_category'] == age_category) & (dataset['total_income'].isnull()), 'total_income'] = median_income_value\n",
    "\n",
    "    return dataset"
   ]
  },
  {
   "cell_type": "code",
   "execution_count": 54,
   "metadata": {
    "id": "n2TJESQqjNDJ",
    "outputId": "4145af59-42f9-4bf5-8c2b-f82d5fe1960c"
   },
   "outputs": [
    {
     "data": {
      "text/html": [
       "<div>\n",
       "<style scoped>\n",
       "    .dataframe tbody tr th:only-of-type {\n",
       "        vertical-align: middle;\n",
       "    }\n",
       "\n",
       "    .dataframe tbody tr th {\n",
       "        vertical-align: top;\n",
       "    }\n",
       "\n",
       "    .dataframe thead th {\n",
       "        text-align: right;\n",
       "    }\n",
       "</style>\n",
       "<table border=\"1\" class=\"dataframe\">\n",
       "  <thead>\n",
       "    <tr style=\"text-align: right;\">\n",
       "      <th></th>\n",
       "      <th>children</th>\n",
       "      <th>days_employed</th>\n",
       "      <th>dob_years</th>\n",
       "      <th>education</th>\n",
       "      <th>education_id</th>\n",
       "      <th>family_status</th>\n",
       "      <th>family_status_id</th>\n",
       "      <th>gender</th>\n",
       "      <th>income_type</th>\n",
       "      <th>debt</th>\n",
       "      <th>total_income</th>\n",
       "      <th>purpose</th>\n",
       "      <th>years_employed</th>\n",
       "      <th>year_working</th>\n",
       "      <th>age_category</th>\n",
       "    </tr>\n",
       "  </thead>\n",
       "  <tbody>\n",
       "    <tr>\n",
       "      <th>0</th>\n",
       "      <td>1</td>\n",
       "      <td>8438.0</td>\n",
       "      <td>42</td>\n",
       "      <td>bachelor's degree</td>\n",
       "      <td>0</td>\n",
       "      <td>married</td>\n",
       "      <td>0</td>\n",
       "      <td>Female</td>\n",
       "      <td>employee</td>\n",
       "      <td>0</td>\n",
       "      <td>40620.102</td>\n",
       "      <td>purchase of the house</td>\n",
       "      <td>23.0</td>\n",
       "      <td>24</td>\n",
       "      <td>26-50 y/o</td>\n",
       "    </tr>\n",
       "    <tr>\n",
       "      <th>1</th>\n",
       "      <td>1</td>\n",
       "      <td>4025.0</td>\n",
       "      <td>36</td>\n",
       "      <td>secondary education</td>\n",
       "      <td>1</td>\n",
       "      <td>married</td>\n",
       "      <td>0</td>\n",
       "      <td>Female</td>\n",
       "      <td>employee</td>\n",
       "      <td>0</td>\n",
       "      <td>17932.802</td>\n",
       "      <td>car purchase</td>\n",
       "      <td>11.0</td>\n",
       "      <td>18</td>\n",
       "      <td>26-50 y/o</td>\n",
       "    </tr>\n",
       "    <tr>\n",
       "      <th>2</th>\n",
       "      <td>0</td>\n",
       "      <td>5623.0</td>\n",
       "      <td>33</td>\n",
       "      <td>secondary education</td>\n",
       "      <td>1</td>\n",
       "      <td>married</td>\n",
       "      <td>0</td>\n",
       "      <td>Male</td>\n",
       "      <td>employee</td>\n",
       "      <td>0</td>\n",
       "      <td>23341.752</td>\n",
       "      <td>purchase of the house</td>\n",
       "      <td>15.0</td>\n",
       "      <td>15</td>\n",
       "      <td>26-50 y/o</td>\n",
       "    </tr>\n",
       "    <tr>\n",
       "      <th>3</th>\n",
       "      <td>3</td>\n",
       "      <td>4125.0</td>\n",
       "      <td>32</td>\n",
       "      <td>secondary education</td>\n",
       "      <td>1</td>\n",
       "      <td>married</td>\n",
       "      <td>0</td>\n",
       "      <td>Male</td>\n",
       "      <td>employee</td>\n",
       "      <td>0</td>\n",
       "      <td>42820.568</td>\n",
       "      <td>supplementary education</td>\n",
       "      <td>11.0</td>\n",
       "      <td>14</td>\n",
       "      <td>26-50 y/o</td>\n",
       "    </tr>\n",
       "    <tr>\n",
       "      <th>4</th>\n",
       "      <td>0</td>\n",
       "      <td>12775.0</td>\n",
       "      <td>53</td>\n",
       "      <td>secondary education</td>\n",
       "      <td>1</td>\n",
       "      <td>civil partnership</td>\n",
       "      <td>1</td>\n",
       "      <td>Female</td>\n",
       "      <td>retiree</td>\n",
       "      <td>0</td>\n",
       "      <td>25378.572</td>\n",
       "      <td>to have a wedding</td>\n",
       "      <td>932.0</td>\n",
       "      <td>35</td>\n",
       "      <td>50+ y/o</td>\n",
       "    </tr>\n",
       "    <tr>\n",
       "      <th>...</th>\n",
       "      <td>...</td>\n",
       "      <td>...</td>\n",
       "      <td>...</td>\n",
       "      <td>...</td>\n",
       "      <td>...</td>\n",
       "      <td>...</td>\n",
       "      <td>...</td>\n",
       "      <td>...</td>\n",
       "      <td>...</td>\n",
       "      <td>...</td>\n",
       "      <td>...</td>\n",
       "      <td>...</td>\n",
       "      <td>...</td>\n",
       "      <td>...</td>\n",
       "      <td>...</td>\n",
       "    </tr>\n",
       "    <tr>\n",
       "      <th>21448</th>\n",
       "      <td>1</td>\n",
       "      <td>4529.0</td>\n",
       "      <td>43</td>\n",
       "      <td>secondary education</td>\n",
       "      <td>1</td>\n",
       "      <td>civil partnership</td>\n",
       "      <td>1</td>\n",
       "      <td>Female</td>\n",
       "      <td>business</td>\n",
       "      <td>0</td>\n",
       "      <td>35966.698</td>\n",
       "      <td>housing transactions</td>\n",
       "      <td>12.0</td>\n",
       "      <td>25</td>\n",
       "      <td>26-50 y/o</td>\n",
       "    </tr>\n",
       "    <tr>\n",
       "      <th>21449</th>\n",
       "      <td>0</td>\n",
       "      <td>17885.0</td>\n",
       "      <td>67</td>\n",
       "      <td>secondary education</td>\n",
       "      <td>1</td>\n",
       "      <td>married</td>\n",
       "      <td>0</td>\n",
       "      <td>Female</td>\n",
       "      <td>retiree</td>\n",
       "      <td>0</td>\n",
       "      <td>24959.969</td>\n",
       "      <td>purchase of a car</td>\n",
       "      <td>942.0</td>\n",
       "      <td>49</td>\n",
       "      <td>50+ y/o</td>\n",
       "    </tr>\n",
       "    <tr>\n",
       "      <th>21450</th>\n",
       "      <td>1</td>\n",
       "      <td>2113.0</td>\n",
       "      <td>38</td>\n",
       "      <td>secondary education</td>\n",
       "      <td>1</td>\n",
       "      <td>civil partnership</td>\n",
       "      <td>1</td>\n",
       "      <td>Male</td>\n",
       "      <td>employee</td>\n",
       "      <td>1</td>\n",
       "      <td>14347.610</td>\n",
       "      <td>property</td>\n",
       "      <td>6.0</td>\n",
       "      <td>20</td>\n",
       "      <td>26-50 y/o</td>\n",
       "    </tr>\n",
       "    <tr>\n",
       "      <th>21451</th>\n",
       "      <td>3</td>\n",
       "      <td>3112.0</td>\n",
       "      <td>38</td>\n",
       "      <td>secondary education</td>\n",
       "      <td>1</td>\n",
       "      <td>married</td>\n",
       "      <td>0</td>\n",
       "      <td>Male</td>\n",
       "      <td>employee</td>\n",
       "      <td>1</td>\n",
       "      <td>39054.888</td>\n",
       "      <td>buying my own car</td>\n",
       "      <td>9.0</td>\n",
       "      <td>20</td>\n",
       "      <td>26-50 y/o</td>\n",
       "    </tr>\n",
       "    <tr>\n",
       "      <th>21452</th>\n",
       "      <td>2</td>\n",
       "      <td>1985.0</td>\n",
       "      <td>40</td>\n",
       "      <td>secondary education</td>\n",
       "      <td>1</td>\n",
       "      <td>married</td>\n",
       "      <td>0</td>\n",
       "      <td>Female</td>\n",
       "      <td>employee</td>\n",
       "      <td>0</td>\n",
       "      <td>13127.587</td>\n",
       "      <td>to buy a car</td>\n",
       "      <td>5.0</td>\n",
       "      <td>22</td>\n",
       "      <td>26-50 y/o</td>\n",
       "    </tr>\n",
       "  </tbody>\n",
       "</table>\n",
       "<p>21453 rows × 15 columns</p>\n",
       "</div>"
      ],
      "text/plain": [
       "       children  days_employed  dob_years            education  education_id  \\\n",
       "0             1         8438.0         42    bachelor's degree             0   \n",
       "1             1         4025.0         36  secondary education             1   \n",
       "2             0         5623.0         33  secondary education             1   \n",
       "3             3         4125.0         32  secondary education             1   \n",
       "4             0        12775.0         53  secondary education             1   \n",
       "...         ...            ...        ...                  ...           ...   \n",
       "21448         1         4529.0         43  secondary education             1   \n",
       "21449         0        17885.0         67  secondary education             1   \n",
       "21450         1         2113.0         38  secondary education             1   \n",
       "21451         3         3112.0         38  secondary education             1   \n",
       "21452         2         1985.0         40  secondary education             1   \n",
       "\n",
       "           family_status  family_status_id  gender income_type  debt  \\\n",
       "0                married                 0  Female    employee     0   \n",
       "1                married                 0  Female    employee     0   \n",
       "2                married                 0    Male    employee     0   \n",
       "3                married                 0    Male    employee     0   \n",
       "4      civil partnership                 1  Female     retiree     0   \n",
       "...                  ...               ...     ...         ...   ...   \n",
       "21448  civil partnership                 1  Female    business     0   \n",
       "21449            married                 0  Female     retiree     0   \n",
       "21450  civil partnership                 1    Male    employee     1   \n",
       "21451            married                 0    Male    employee     1   \n",
       "21452            married                 0  Female    employee     0   \n",
       "\n",
       "       total_income                  purpose  years_employed  year_working  \\\n",
       "0         40620.102    purchase of the house            23.0            24   \n",
       "1         17932.802             car purchase            11.0            18   \n",
       "2         23341.752    purchase of the house            15.0            15   \n",
       "3         42820.568  supplementary education            11.0            14   \n",
       "4         25378.572        to have a wedding           932.0            35   \n",
       "...             ...                      ...             ...           ...   \n",
       "21448     35966.698     housing transactions            12.0            25   \n",
       "21449     24959.969        purchase of a car           942.0            49   \n",
       "21450     14347.610                 property             6.0            20   \n",
       "21451     39054.888        buying my own car             9.0            20   \n",
       "21452     13127.587             to buy a car             5.0            22   \n",
       "\n",
       "      age_category  \n",
       "0        26-50 y/o  \n",
       "1        26-50 y/o  \n",
       "2        26-50 y/o  \n",
       "3        26-50 y/o  \n",
       "4          50+ y/o  \n",
       "...            ...  \n",
       "21448    26-50 y/o  \n",
       "21449      50+ y/o  \n",
       "21450    26-50 y/o  \n",
       "21451    26-50 y/o  \n",
       "21452    26-50 y/o  \n",
       "\n",
       "[21453 rows x 15 columns]"
      ]
     },
     "execution_count": 54,
     "metadata": {},
     "output_type": "execute_result"
    }
   ],
   "source": [
    "# Check the values in the new column\n",
    "creditScore = replace_income(dataset=creditScore, grouping=median_income)\n",
    "creditScore"
   ]
  },
  {
   "cell_type": "markdown",
   "metadata": {
    "id": "H0TE3FBpjNDM"
   },
   "source": [
    "It looks like we have fixed the missing values."
   ]
  },
  {
   "cell_type": "code",
   "execution_count": 55,
   "metadata": {
    "colab": {
     "base_uri": "https://localhost:8080/"
    },
    "id": "UfB8LyWvjNDK",
    "outputId": "d6bda2a4-9a8f-4ace-abd3-5b3782007fe1"
   },
   "outputs": [
    {
     "data": {
      "text/plain": [
       "children               0\n",
       "days_employed       2103\n",
       "dob_years              0\n",
       "education              0\n",
       "education_id           0\n",
       "family_status          0\n",
       "family_status_id       0\n",
       "gender                 0\n",
       "income_type            0\n",
       "debt                   0\n",
       "total_income           1\n",
       "purpose                0\n",
       "years_employed      2103\n",
       "year_working           0\n",
       "age_category           0\n",
       "dtype: int64"
      ]
     },
     "execution_count": 55,
     "metadata": {},
     "output_type": "execute_result"
    }
   ],
   "source": [
    "# Check if we get any errors\n",
    "creditScore.isnull().sum()"
   ]
  },
  {
   "cell_type": "markdown",
   "metadata": {
    "id": "iuCJhJpdcOFr"
   },
   "source": [
    "It seems there is one value that cannot be filled with the conditions in the function. Let's see what the cause is."
   ]
  },
  {
   "cell_type": "code",
   "execution_count": 56,
   "metadata": {
    "id": "W1qu9hXxcOFs",
    "outputId": "01896aef-8e14-45ee-d44d-9f6caa12a8b6",
    "scrolled": true
   },
   "outputs": [
    {
     "data": {
      "text/html": [
       "<div>\n",
       "<style scoped>\n",
       "    .dataframe tbody tr th:only-of-type {\n",
       "        vertical-align: middle;\n",
       "    }\n",
       "\n",
       "    .dataframe tbody tr th {\n",
       "        vertical-align: top;\n",
       "    }\n",
       "\n",
       "    .dataframe thead th {\n",
       "        text-align: right;\n",
       "    }\n",
       "</style>\n",
       "<table border=\"1\" class=\"dataframe\">\n",
       "  <thead>\n",
       "    <tr style=\"text-align: right;\">\n",
       "      <th></th>\n",
       "      <th>children</th>\n",
       "      <th>days_employed</th>\n",
       "      <th>dob_years</th>\n",
       "      <th>education</th>\n",
       "      <th>education_id</th>\n",
       "      <th>family_status</th>\n",
       "      <th>family_status_id</th>\n",
       "      <th>gender</th>\n",
       "      <th>income_type</th>\n",
       "      <th>debt</th>\n",
       "      <th>total_income</th>\n",
       "      <th>purpose</th>\n",
       "      <th>years_employed</th>\n",
       "      <th>year_working</th>\n",
       "      <th>age_category</th>\n",
       "    </tr>\n",
       "  </thead>\n",
       "  <tbody>\n",
       "    <tr>\n",
       "      <th>5931</th>\n",
       "      <td>0</td>\n",
       "      <td>NaN</td>\n",
       "      <td>58</td>\n",
       "      <td>bachelor's degree</td>\n",
       "      <td>0</td>\n",
       "      <td>married</td>\n",
       "      <td>0</td>\n",
       "      <td>Male</td>\n",
       "      <td>entrepreneur</td>\n",
       "      <td>0</td>\n",
       "      <td>NaN</td>\n",
       "      <td>buy residential real estate</td>\n",
       "      <td>NaN</td>\n",
       "      <td>40</td>\n",
       "      <td>50+ y/o</td>\n",
       "    </tr>\n",
       "  </tbody>\n",
       "</table>\n",
       "</div>"
      ],
      "text/plain": [
       "      children  days_employed  dob_years          education  education_id  \\\n",
       "5931         0            NaN         58  bachelor's degree             0   \n",
       "\n",
       "     family_status  family_status_id gender   income_type  debt  total_income  \\\n",
       "5931       married                 0   Male  entrepreneur     0           NaN   \n",
       "\n",
       "                          purpose  years_employed  year_working age_category  \n",
       "5931  buy residential real estate             NaN            40      50+ y/o  "
      ]
     },
     "execution_count": 56,
     "metadata": {},
     "output_type": "execute_result"
    }
   ],
   "source": [
    "creditScore[creditScore['total_income'].isnull()]"
   ]
  },
  {
   "cell_type": "code",
   "execution_count": 57,
   "metadata": {
    "id": "MIdGlkt3cOFs",
    "outputId": "aa205ce0-0de6-4fa5-cfa0-94f3fe89b435"
   },
   "outputs": [
    {
     "data": {
      "text/html": [
       "<div>\n",
       "<style scoped>\n",
       "    .dataframe tbody tr th:only-of-type {\n",
       "        vertical-align: middle;\n",
       "    }\n",
       "\n",
       "    .dataframe tbody tr th {\n",
       "        vertical-align: top;\n",
       "    }\n",
       "\n",
       "    .dataframe thead th {\n",
       "        text-align: right;\n",
       "    }\n",
       "</style>\n",
       "<table border=\"1\" class=\"dataframe\">\n",
       "  <thead>\n",
       "    <tr style=\"text-align: right;\">\n",
       "      <th></th>\n",
       "      <th>children</th>\n",
       "      <th>days_employed</th>\n",
       "      <th>dob_years</th>\n",
       "      <th>education</th>\n",
       "      <th>education_id</th>\n",
       "      <th>family_status</th>\n",
       "      <th>family_status_id</th>\n",
       "      <th>gender</th>\n",
       "      <th>income_type</th>\n",
       "      <th>debt</th>\n",
       "      <th>total_income</th>\n",
       "      <th>purpose</th>\n",
       "      <th>years_employed</th>\n",
       "      <th>year_working</th>\n",
       "      <th>age_category</th>\n",
       "    </tr>\n",
       "  </thead>\n",
       "  <tbody>\n",
       "    <tr>\n",
       "      <th>5931</th>\n",
       "      <td>0</td>\n",
       "      <td>NaN</td>\n",
       "      <td>58</td>\n",
       "      <td>bachelor's degree</td>\n",
       "      <td>0</td>\n",
       "      <td>married</td>\n",
       "      <td>0</td>\n",
       "      <td>Male</td>\n",
       "      <td>entrepreneur</td>\n",
       "      <td>0</td>\n",
       "      <td>NaN</td>\n",
       "      <td>buy residential real estate</td>\n",
       "      <td>NaN</td>\n",
       "      <td>40</td>\n",
       "      <td>50+ y/o</td>\n",
       "    </tr>\n",
       "    <tr>\n",
       "      <th>18646</th>\n",
       "      <td>0</td>\n",
       "      <td>521.0</td>\n",
       "      <td>27</td>\n",
       "      <td>bachelor's degree</td>\n",
       "      <td>0</td>\n",
       "      <td>civil partnership</td>\n",
       "      <td>1</td>\n",
       "      <td>Female</td>\n",
       "      <td>entrepreneur</td>\n",
       "      <td>0</td>\n",
       "      <td>79866.103</td>\n",
       "      <td>having a wedding</td>\n",
       "      <td>1.0</td>\n",
       "      <td>9</td>\n",
       "      <td>26-50 y/o</td>\n",
       "    </tr>\n",
       "  </tbody>\n",
       "</table>\n",
       "</div>"
      ],
      "text/plain": [
       "       children  days_employed  dob_years          education  education_id  \\\n",
       "5931          0            NaN         58  bachelor's degree             0   \n",
       "18646         0          521.0         27  bachelor's degree             0   \n",
       "\n",
       "           family_status  family_status_id  gender   income_type  debt  \\\n",
       "5931             married                 0    Male  entrepreneur     0   \n",
       "18646  civil partnership                 1  Female  entrepreneur     0   \n",
       "\n",
       "       total_income                      purpose  years_employed  \\\n",
       "5931            NaN  buy residential real estate             NaN   \n",
       "18646     79866.103             having a wedding             1.0   \n",
       "\n",
       "       year_working age_category  \n",
       "5931             40      50+ y/o  \n",
       "18646             9    26-50 y/o  "
      ]
     },
     "execution_count": 57,
     "metadata": {},
     "output_type": "execute_result"
    }
   ],
   "source": [
    "creditScore[creditScore['income_type'] == 'entrepreneur']"
   ]
  },
  {
   "cell_type": "markdown",
   "metadata": {
    "id": "1p2EQxvKcOFs"
   },
   "source": [
    "After investigating, it turns out that the condition on row 5931 does not meet the conditions in the function. This is because the 'median_income' dataset does not calculate the total income for customers who are over 50 years old. So the condition `income_type` == `'entrepreneur'` and `age_category` == `'50+ y/o'` does not apply. Since this value is an anomaly, we will just delete it."
   ]
  },
  {
   "cell_type": "code",
   "execution_count": 58,
   "metadata": {
    "id": "guczT8qzcOFt"
   },
   "outputs": [],
   "source": [
    "creditScore.dropna(subset=['total_income'], inplace=True)"
   ]
  },
  {
   "cell_type": "code",
   "execution_count": 59,
   "metadata": {
    "id": "RBG9a9cicOFt",
    "outputId": "c229430a-45eb-4be6-dba6-43ae350938cb"
   },
   "outputs": [
    {
     "data": {
      "text/plain": [
       "children               0\n",
       "days_employed       2102\n",
       "dob_years              0\n",
       "education              0\n",
       "education_id           0\n",
       "family_status          0\n",
       "family_status_id       0\n",
       "gender                 0\n",
       "income_type            0\n",
       "debt                   0\n",
       "total_income           0\n",
       "purpose                0\n",
       "years_employed      2102\n",
       "year_working           0\n",
       "age_category           0\n",
       "dtype: int64"
      ]
     },
     "execution_count": 59,
     "metadata": {},
     "output_type": "execute_result"
    }
   ],
   "source": [
    "# recheck problematic values\n",
    "creditScore.isnull().sum()"
   ]
  },
  {
   "cell_type": "markdown",
   "metadata": {
    "id": "RTiuRr4ZjNDX"
   },
   "source": [
    "### Fixing values in `days_employed`\n",
    "\n",
    "The values in the `days_employed` column indicate how long customers have been working in days. When filling in the missing values in this column, it makes sense to use the age of the customer as a parameter."
   ]
  },
  {
   "cell_type": "code",
   "execution_count": 60,
   "metadata": {
    "colab": {
     "base_uri": "https://localhost:8080/"
    },
    "id": "No2XL7VsjNDM",
    "outputId": "a3bb456b-5379-4b60-8739-0a11534a900c"
   },
   "outputs": [
    {
     "name": "stdout",
     "output_type": "stream",
     "text": [
      "21452\n",
      "age_category\n",
      "0-25 y/o      1112\n",
      "26-50 y/o    12268\n",
      "50+ y/o       5970\n",
      "Name: days_employed, dtype: int64\n"
     ]
    }
   ],
   "source": [
    "# Check the number of entries in the column\n",
    "print(creditScore['days_employed'].size)\n",
    "print(creditScore.groupby('age_category')['days_employed'].count())"
   ]
  },
  {
   "cell_type": "markdown",
   "metadata": {
    "id": "dHFKY4lnjNDY"
   },
   "source": [
    "In the entries above, there are `21453` rows of customer work experience and 3 age categories. With this, we can fill in the missing values in the `'days_employed'` column."
   ]
  },
  {
   "cell_type": "code",
   "execution_count": 61,
   "metadata": {
    "colab": {
     "base_uri": "https://localhost:8080/",
     "height": 143
    },
    "id": "SXGr_eLcjNDa",
    "outputId": "beea4b93-a6d2-48fe-ddfe-b9831ae3b04b",
    "pycharm": {
     "name": "#%%\n"
    }
   },
   "outputs": [
    {
     "data": {
      "text/html": [
       "<div>\n",
       "<style scoped>\n",
       "    .dataframe tbody tr th:only-of-type {\n",
       "        vertical-align: middle;\n",
       "    }\n",
       "\n",
       "    .dataframe tbody tr th {\n",
       "        vertical-align: top;\n",
       "    }\n",
       "\n",
       "    .dataframe thead th {\n",
       "        text-align: right;\n",
       "    }\n",
       "</style>\n",
       "<table border=\"1\" class=\"dataframe\">\n",
       "  <thead>\n",
       "    <tr style=\"text-align: right;\">\n",
       "      <th></th>\n",
       "      <th>age_category</th>\n",
       "      <th>days_employed</th>\n",
       "    </tr>\n",
       "  </thead>\n",
       "  <tbody>\n",
       "    <tr>\n",
       "      <th>0</th>\n",
       "      <td>0-25 y/o</td>\n",
       "      <td>771.5</td>\n",
       "    </tr>\n",
       "    <tr>\n",
       "      <th>1</th>\n",
       "      <td>26-50 y/o</td>\n",
       "      <td>1700.0</td>\n",
       "    </tr>\n",
       "    <tr>\n",
       "      <th>2</th>\n",
       "      <td>50+ y/o</td>\n",
       "      <td>12775.0</td>\n",
       "    </tr>\n",
       "  </tbody>\n",
       "</table>\n",
       "</div>"
      ],
      "text/plain": [
       "  age_category  days_employed\n",
       "0     0-25 y/o          771.5\n",
       "1    26-50 y/o         1700.0\n",
       "2      50+ y/o        12775.0"
      ]
     },
     "execution_count": 61,
     "metadata": {},
     "output_type": "execute_result"
    }
   ],
   "source": [
    "# Median distribution of `days_employed` based on the parameters you identified\n",
    "median_days = pd.pivot_table(\n",
    "    creditScore,\n",
    "    index = 'age_category',\n",
    "    values = 'days_employed',\n",
    "    aggfunc = 'median',\n",
    ").reset_index()\n",
    "\n",
    "median_days.head()"
   ]
  },
  {
   "cell_type": "code",
   "execution_count": 62,
   "metadata": {
    "colab": {
     "base_uri": "https://localhost:8080/",
     "height": 143
    },
    "id": "qwudKQPWjNDa",
    "outputId": "518773e6-6d4e-4a84-98d7-95a4cd1e69ed"
   },
   "outputs": [
    {
     "data": {
      "text/html": [
       "<div>\n",
       "<style scoped>\n",
       "    .dataframe tbody tr th:only-of-type {\n",
       "        vertical-align: middle;\n",
       "    }\n",
       "\n",
       "    .dataframe tbody tr th {\n",
       "        vertical-align: top;\n",
       "    }\n",
       "\n",
       "    .dataframe thead th {\n",
       "        text-align: right;\n",
       "    }\n",
       "</style>\n",
       "<table border=\"1\" class=\"dataframe\">\n",
       "  <thead>\n",
       "    <tr style=\"text-align: right;\">\n",
       "      <th></th>\n",
       "      <th>age_category</th>\n",
       "      <th>days_employed</th>\n",
       "    </tr>\n",
       "  </thead>\n",
       "  <tbody>\n",
       "    <tr>\n",
       "      <th>0</th>\n",
       "      <td>0-25 y/o</td>\n",
       "      <td>889.911871</td>\n",
       "    </tr>\n",
       "    <tr>\n",
       "      <th>1</th>\n",
       "      <td>26-50 y/o</td>\n",
       "      <td>2385.710548</td>\n",
       "    </tr>\n",
       "    <tr>\n",
       "      <th>2</th>\n",
       "      <td>50+ y/o</td>\n",
       "      <td>9875.060134</td>\n",
       "    </tr>\n",
       "  </tbody>\n",
       "</table>\n",
       "</div>"
      ],
      "text/plain": [
       "  age_category  days_employed\n",
       "0     0-25 y/o     889.911871\n",
       "1    26-50 y/o    2385.710548\n",
       "2      50+ y/o    9875.060134"
      ]
     },
     "execution_count": 62,
     "metadata": {},
     "output_type": "execute_result"
    }
   ],
   "source": [
    "# Mean distribution of `days_employed` based on the parameters you identified\n",
    "mean_days = pd.pivot_table(\n",
    "    creditScore,\n",
    "    index = 'age_category',\n",
    "    values = 'days_employed',\n",
    "    aggfunc = 'mean',\n",
    ").reset_index()\n",
    "\n",
    "mean_days.head()"
   ]
  },
  {
   "cell_type": "markdown",
   "metadata": {
    "id": "8CqXEM3QjNDa"
   },
   "source": [
    "If we assume that people start working at the age of 19, then it would make sense to use the mean value."
   ]
  },
  {
   "cell_type": "code",
   "execution_count": 63,
   "metadata": {
    "id": "TlCzcHitjNDb"
   },
   "outputs": [],
   "source": [
    "# Let's write a function that calculates the mean or median (depending on your decision) based on the parameters you identified\n",
    "def fill_days(dataset, parameter):\n",
    "    mean_values = dataset.groupby(parameter)['days_employed'].mean()\n",
    "    dataset['days_employed'] = dataset['days_employed'].fillna(dataset[parameter].apply(lambda x: mean_values[x]))\n",
    "    return dataset"
   ]
  },
  {
   "cell_type": "code",
   "execution_count": 64,
   "metadata": {
    "colab": {
     "base_uri": "https://localhost:8080/",
     "height": 661
    },
    "id": "OwEGXQaujNDb",
    "outputId": "f64a7531-6533-4708-9554-7648201c58e3"
   },
   "outputs": [
    {
     "data": {
      "text/html": [
       "<div>\n",
       "<style scoped>\n",
       "    .dataframe tbody tr th:only-of-type {\n",
       "        vertical-align: middle;\n",
       "    }\n",
       "\n",
       "    .dataframe tbody tr th {\n",
       "        vertical-align: top;\n",
       "    }\n",
       "\n",
       "    .dataframe thead th {\n",
       "        text-align: right;\n",
       "    }\n",
       "</style>\n",
       "<table border=\"1\" class=\"dataframe\">\n",
       "  <thead>\n",
       "    <tr style=\"text-align: right;\">\n",
       "      <th></th>\n",
       "      <th>children</th>\n",
       "      <th>days_employed</th>\n",
       "      <th>dob_years</th>\n",
       "      <th>education</th>\n",
       "      <th>education_id</th>\n",
       "      <th>family_status</th>\n",
       "      <th>family_status_id</th>\n",
       "      <th>gender</th>\n",
       "      <th>income_type</th>\n",
       "      <th>debt</th>\n",
       "      <th>total_income</th>\n",
       "      <th>purpose</th>\n",
       "      <th>years_employed</th>\n",
       "      <th>year_working</th>\n",
       "      <th>age_category</th>\n",
       "    </tr>\n",
       "  </thead>\n",
       "  <tbody>\n",
       "    <tr>\n",
       "      <th>0</th>\n",
       "      <td>1</td>\n",
       "      <td>8438.0</td>\n",
       "      <td>42</td>\n",
       "      <td>bachelor's degree</td>\n",
       "      <td>0</td>\n",
       "      <td>married</td>\n",
       "      <td>0</td>\n",
       "      <td>Female</td>\n",
       "      <td>employee</td>\n",
       "      <td>0</td>\n",
       "      <td>40620.102</td>\n",
       "      <td>purchase of the house</td>\n",
       "      <td>23.0</td>\n",
       "      <td>24</td>\n",
       "      <td>26-50 y/o</td>\n",
       "    </tr>\n",
       "    <tr>\n",
       "      <th>1</th>\n",
       "      <td>1</td>\n",
       "      <td>4025.0</td>\n",
       "      <td>36</td>\n",
       "      <td>secondary education</td>\n",
       "      <td>1</td>\n",
       "      <td>married</td>\n",
       "      <td>0</td>\n",
       "      <td>Female</td>\n",
       "      <td>employee</td>\n",
       "      <td>0</td>\n",
       "      <td>17932.802</td>\n",
       "      <td>car purchase</td>\n",
       "      <td>11.0</td>\n",
       "      <td>18</td>\n",
       "      <td>26-50 y/o</td>\n",
       "    </tr>\n",
       "    <tr>\n",
       "      <th>2</th>\n",
       "      <td>0</td>\n",
       "      <td>5623.0</td>\n",
       "      <td>33</td>\n",
       "      <td>secondary education</td>\n",
       "      <td>1</td>\n",
       "      <td>married</td>\n",
       "      <td>0</td>\n",
       "      <td>Male</td>\n",
       "      <td>employee</td>\n",
       "      <td>0</td>\n",
       "      <td>23341.752</td>\n",
       "      <td>purchase of the house</td>\n",
       "      <td>15.0</td>\n",
       "      <td>15</td>\n",
       "      <td>26-50 y/o</td>\n",
       "    </tr>\n",
       "    <tr>\n",
       "      <th>3</th>\n",
       "      <td>3</td>\n",
       "      <td>4125.0</td>\n",
       "      <td>32</td>\n",
       "      <td>secondary education</td>\n",
       "      <td>1</td>\n",
       "      <td>married</td>\n",
       "      <td>0</td>\n",
       "      <td>Male</td>\n",
       "      <td>employee</td>\n",
       "      <td>0</td>\n",
       "      <td>42820.568</td>\n",
       "      <td>supplementary education</td>\n",
       "      <td>11.0</td>\n",
       "      <td>14</td>\n",
       "      <td>26-50 y/o</td>\n",
       "    </tr>\n",
       "    <tr>\n",
       "      <th>4</th>\n",
       "      <td>0</td>\n",
       "      <td>12775.0</td>\n",
       "      <td>53</td>\n",
       "      <td>secondary education</td>\n",
       "      <td>1</td>\n",
       "      <td>civil partnership</td>\n",
       "      <td>1</td>\n",
       "      <td>Female</td>\n",
       "      <td>retiree</td>\n",
       "      <td>0</td>\n",
       "      <td>25378.572</td>\n",
       "      <td>to have a wedding</td>\n",
       "      <td>932.0</td>\n",
       "      <td>35</td>\n",
       "      <td>50+ y/o</td>\n",
       "    </tr>\n",
       "    <tr>\n",
       "      <th>...</th>\n",
       "      <td>...</td>\n",
       "      <td>...</td>\n",
       "      <td>...</td>\n",
       "      <td>...</td>\n",
       "      <td>...</td>\n",
       "      <td>...</td>\n",
       "      <td>...</td>\n",
       "      <td>...</td>\n",
       "      <td>...</td>\n",
       "      <td>...</td>\n",
       "      <td>...</td>\n",
       "      <td>...</td>\n",
       "      <td>...</td>\n",
       "      <td>...</td>\n",
       "      <td>...</td>\n",
       "    </tr>\n",
       "    <tr>\n",
       "      <th>21448</th>\n",
       "      <td>1</td>\n",
       "      <td>4529.0</td>\n",
       "      <td>43</td>\n",
       "      <td>secondary education</td>\n",
       "      <td>1</td>\n",
       "      <td>civil partnership</td>\n",
       "      <td>1</td>\n",
       "      <td>Female</td>\n",
       "      <td>business</td>\n",
       "      <td>0</td>\n",
       "      <td>35966.698</td>\n",
       "      <td>housing transactions</td>\n",
       "      <td>12.0</td>\n",
       "      <td>25</td>\n",
       "      <td>26-50 y/o</td>\n",
       "    </tr>\n",
       "    <tr>\n",
       "      <th>21449</th>\n",
       "      <td>0</td>\n",
       "      <td>17885.0</td>\n",
       "      <td>67</td>\n",
       "      <td>secondary education</td>\n",
       "      <td>1</td>\n",
       "      <td>married</td>\n",
       "      <td>0</td>\n",
       "      <td>Female</td>\n",
       "      <td>retiree</td>\n",
       "      <td>0</td>\n",
       "      <td>24959.969</td>\n",
       "      <td>purchase of a car</td>\n",
       "      <td>942.0</td>\n",
       "      <td>49</td>\n",
       "      <td>50+ y/o</td>\n",
       "    </tr>\n",
       "    <tr>\n",
       "      <th>21450</th>\n",
       "      <td>1</td>\n",
       "      <td>2113.0</td>\n",
       "      <td>38</td>\n",
       "      <td>secondary education</td>\n",
       "      <td>1</td>\n",
       "      <td>civil partnership</td>\n",
       "      <td>1</td>\n",
       "      <td>Male</td>\n",
       "      <td>employee</td>\n",
       "      <td>1</td>\n",
       "      <td>14347.610</td>\n",
       "      <td>property</td>\n",
       "      <td>6.0</td>\n",
       "      <td>20</td>\n",
       "      <td>26-50 y/o</td>\n",
       "    </tr>\n",
       "    <tr>\n",
       "      <th>21451</th>\n",
       "      <td>3</td>\n",
       "      <td>3112.0</td>\n",
       "      <td>38</td>\n",
       "      <td>secondary education</td>\n",
       "      <td>1</td>\n",
       "      <td>married</td>\n",
       "      <td>0</td>\n",
       "      <td>Male</td>\n",
       "      <td>employee</td>\n",
       "      <td>1</td>\n",
       "      <td>39054.888</td>\n",
       "      <td>buying my own car</td>\n",
       "      <td>9.0</td>\n",
       "      <td>20</td>\n",
       "      <td>26-50 y/o</td>\n",
       "    </tr>\n",
       "    <tr>\n",
       "      <th>21452</th>\n",
       "      <td>2</td>\n",
       "      <td>1985.0</td>\n",
       "      <td>40</td>\n",
       "      <td>secondary education</td>\n",
       "      <td>1</td>\n",
       "      <td>married</td>\n",
       "      <td>0</td>\n",
       "      <td>Female</td>\n",
       "      <td>employee</td>\n",
       "      <td>0</td>\n",
       "      <td>13127.587</td>\n",
       "      <td>to buy a car</td>\n",
       "      <td>5.0</td>\n",
       "      <td>22</td>\n",
       "      <td>26-50 y/o</td>\n",
       "    </tr>\n",
       "  </tbody>\n",
       "</table>\n",
       "<p>21452 rows × 15 columns</p>\n",
       "</div>"
      ],
      "text/plain": [
       "       children  days_employed  dob_years            education  education_id  \\\n",
       "0             1         8438.0         42    bachelor's degree             0   \n",
       "1             1         4025.0         36  secondary education             1   \n",
       "2             0         5623.0         33  secondary education             1   \n",
       "3             3         4125.0         32  secondary education             1   \n",
       "4             0        12775.0         53  secondary education             1   \n",
       "...         ...            ...        ...                  ...           ...   \n",
       "21448         1         4529.0         43  secondary education             1   \n",
       "21449         0        17885.0         67  secondary education             1   \n",
       "21450         1         2113.0         38  secondary education             1   \n",
       "21451         3         3112.0         38  secondary education             1   \n",
       "21452         2         1985.0         40  secondary education             1   \n",
       "\n",
       "           family_status  family_status_id  gender income_type  debt  \\\n",
       "0                married                 0  Female    employee     0   \n",
       "1                married                 0  Female    employee     0   \n",
       "2                married                 0    Male    employee     0   \n",
       "3                married                 0    Male    employee     0   \n",
       "4      civil partnership                 1  Female     retiree     0   \n",
       "...                  ...               ...     ...         ...   ...   \n",
       "21448  civil partnership                 1  Female    business     0   \n",
       "21449            married                 0  Female     retiree     0   \n",
       "21450  civil partnership                 1    Male    employee     1   \n",
       "21451            married                 0    Male    employee     1   \n",
       "21452            married                 0  Female    employee     0   \n",
       "\n",
       "       total_income                  purpose  years_employed  year_working  \\\n",
       "0         40620.102    purchase of the house            23.0            24   \n",
       "1         17932.802             car purchase            11.0            18   \n",
       "2         23341.752    purchase of the house            15.0            15   \n",
       "3         42820.568  supplementary education            11.0            14   \n",
       "4         25378.572        to have a wedding           932.0            35   \n",
       "...             ...                      ...             ...           ...   \n",
       "21448     35966.698     housing transactions            12.0            25   \n",
       "21449     24959.969        purchase of a car           942.0            49   \n",
       "21450     14347.610                 property             6.0            20   \n",
       "21451     39054.888        buying my own car             9.0            20   \n",
       "21452     13127.587             to buy a car             5.0            22   \n",
       "\n",
       "      age_category  \n",
       "0        26-50 y/o  \n",
       "1        26-50 y/o  \n",
       "2        26-50 y/o  \n",
       "3        26-50 y/o  \n",
       "4          50+ y/o  \n",
       "...            ...  \n",
       "21448    26-50 y/o  \n",
       "21449      50+ y/o  \n",
       "21450    26-50 y/o  \n",
       "21451    26-50 y/o  \n",
       "21452    26-50 y/o  \n",
       "\n",
       "[21452 rows x 15 columns]"
      ]
     },
     "execution_count": 64,
     "metadata": {},
     "output_type": "execute_result"
    }
   ],
   "source": [
    "# Check if your function works\n",
    "fill_days(creditScore, 'age_category')"
   ]
  },
  {
   "cell_type": "code",
   "execution_count": 65,
   "metadata": {
    "colab": {
     "base_uri": "https://localhost:8080/",
     "height": 661
    },
    "id": "iH5-mnkZjNDb",
    "outputId": "86945946-a720-4343-92a7-30c07f3756f7"
   },
   "outputs": [
    {
     "data": {
      "text/html": [
       "<div>\n",
       "<style scoped>\n",
       "    .dataframe tbody tr th:only-of-type {\n",
       "        vertical-align: middle;\n",
       "    }\n",
       "\n",
       "    .dataframe tbody tr th {\n",
       "        vertical-align: top;\n",
       "    }\n",
       "\n",
       "    .dataframe thead th {\n",
       "        text-align: right;\n",
       "    }\n",
       "</style>\n",
       "<table border=\"1\" class=\"dataframe\">\n",
       "  <thead>\n",
       "    <tr style=\"text-align: right;\">\n",
       "      <th></th>\n",
       "      <th>children</th>\n",
       "      <th>days_employed</th>\n",
       "      <th>dob_years</th>\n",
       "      <th>education</th>\n",
       "      <th>education_id</th>\n",
       "      <th>family_status</th>\n",
       "      <th>family_status_id</th>\n",
       "      <th>gender</th>\n",
       "      <th>income_type</th>\n",
       "      <th>debt</th>\n",
       "      <th>total_income</th>\n",
       "      <th>purpose</th>\n",
       "      <th>years_employed</th>\n",
       "      <th>year_working</th>\n",
       "      <th>age_category</th>\n",
       "    </tr>\n",
       "  </thead>\n",
       "  <tbody>\n",
       "    <tr>\n",
       "      <th>0</th>\n",
       "      <td>1</td>\n",
       "      <td>8438.0</td>\n",
       "      <td>42</td>\n",
       "      <td>bachelor's degree</td>\n",
       "      <td>0</td>\n",
       "      <td>married</td>\n",
       "      <td>0</td>\n",
       "      <td>Female</td>\n",
       "      <td>employee</td>\n",
       "      <td>0</td>\n",
       "      <td>40620.102</td>\n",
       "      <td>purchase of the house</td>\n",
       "      <td>23.0</td>\n",
       "      <td>24</td>\n",
       "      <td>26-50 y/o</td>\n",
       "    </tr>\n",
       "    <tr>\n",
       "      <th>1</th>\n",
       "      <td>1</td>\n",
       "      <td>4025.0</td>\n",
       "      <td>36</td>\n",
       "      <td>secondary education</td>\n",
       "      <td>1</td>\n",
       "      <td>married</td>\n",
       "      <td>0</td>\n",
       "      <td>Female</td>\n",
       "      <td>employee</td>\n",
       "      <td>0</td>\n",
       "      <td>17932.802</td>\n",
       "      <td>car purchase</td>\n",
       "      <td>11.0</td>\n",
       "      <td>18</td>\n",
       "      <td>26-50 y/o</td>\n",
       "    </tr>\n",
       "    <tr>\n",
       "      <th>2</th>\n",
       "      <td>0</td>\n",
       "      <td>5623.0</td>\n",
       "      <td>33</td>\n",
       "      <td>secondary education</td>\n",
       "      <td>1</td>\n",
       "      <td>married</td>\n",
       "      <td>0</td>\n",
       "      <td>Male</td>\n",
       "      <td>employee</td>\n",
       "      <td>0</td>\n",
       "      <td>23341.752</td>\n",
       "      <td>purchase of the house</td>\n",
       "      <td>15.0</td>\n",
       "      <td>15</td>\n",
       "      <td>26-50 y/o</td>\n",
       "    </tr>\n",
       "    <tr>\n",
       "      <th>3</th>\n",
       "      <td>3</td>\n",
       "      <td>4125.0</td>\n",
       "      <td>32</td>\n",
       "      <td>secondary education</td>\n",
       "      <td>1</td>\n",
       "      <td>married</td>\n",
       "      <td>0</td>\n",
       "      <td>Male</td>\n",
       "      <td>employee</td>\n",
       "      <td>0</td>\n",
       "      <td>42820.568</td>\n",
       "      <td>supplementary education</td>\n",
       "      <td>11.0</td>\n",
       "      <td>14</td>\n",
       "      <td>26-50 y/o</td>\n",
       "    </tr>\n",
       "    <tr>\n",
       "      <th>4</th>\n",
       "      <td>0</td>\n",
       "      <td>12775.0</td>\n",
       "      <td>53</td>\n",
       "      <td>secondary education</td>\n",
       "      <td>1</td>\n",
       "      <td>civil partnership</td>\n",
       "      <td>1</td>\n",
       "      <td>Female</td>\n",
       "      <td>retiree</td>\n",
       "      <td>0</td>\n",
       "      <td>25378.572</td>\n",
       "      <td>to have a wedding</td>\n",
       "      <td>932.0</td>\n",
       "      <td>35</td>\n",
       "      <td>50+ y/o</td>\n",
       "    </tr>\n",
       "    <tr>\n",
       "      <th>...</th>\n",
       "      <td>...</td>\n",
       "      <td>...</td>\n",
       "      <td>...</td>\n",
       "      <td>...</td>\n",
       "      <td>...</td>\n",
       "      <td>...</td>\n",
       "      <td>...</td>\n",
       "      <td>...</td>\n",
       "      <td>...</td>\n",
       "      <td>...</td>\n",
       "      <td>...</td>\n",
       "      <td>...</td>\n",
       "      <td>...</td>\n",
       "      <td>...</td>\n",
       "      <td>...</td>\n",
       "    </tr>\n",
       "    <tr>\n",
       "      <th>21448</th>\n",
       "      <td>1</td>\n",
       "      <td>4529.0</td>\n",
       "      <td>43</td>\n",
       "      <td>secondary education</td>\n",
       "      <td>1</td>\n",
       "      <td>civil partnership</td>\n",
       "      <td>1</td>\n",
       "      <td>Female</td>\n",
       "      <td>business</td>\n",
       "      <td>0</td>\n",
       "      <td>35966.698</td>\n",
       "      <td>housing transactions</td>\n",
       "      <td>12.0</td>\n",
       "      <td>25</td>\n",
       "      <td>26-50 y/o</td>\n",
       "    </tr>\n",
       "    <tr>\n",
       "      <th>21449</th>\n",
       "      <td>0</td>\n",
       "      <td>17885.0</td>\n",
       "      <td>67</td>\n",
       "      <td>secondary education</td>\n",
       "      <td>1</td>\n",
       "      <td>married</td>\n",
       "      <td>0</td>\n",
       "      <td>Female</td>\n",
       "      <td>retiree</td>\n",
       "      <td>0</td>\n",
       "      <td>24959.969</td>\n",
       "      <td>purchase of a car</td>\n",
       "      <td>942.0</td>\n",
       "      <td>49</td>\n",
       "      <td>50+ y/o</td>\n",
       "    </tr>\n",
       "    <tr>\n",
       "      <th>21450</th>\n",
       "      <td>1</td>\n",
       "      <td>2113.0</td>\n",
       "      <td>38</td>\n",
       "      <td>secondary education</td>\n",
       "      <td>1</td>\n",
       "      <td>civil partnership</td>\n",
       "      <td>1</td>\n",
       "      <td>Male</td>\n",
       "      <td>employee</td>\n",
       "      <td>1</td>\n",
       "      <td>14347.610</td>\n",
       "      <td>property</td>\n",
       "      <td>6.0</td>\n",
       "      <td>20</td>\n",
       "      <td>26-50 y/o</td>\n",
       "    </tr>\n",
       "    <tr>\n",
       "      <th>21451</th>\n",
       "      <td>3</td>\n",
       "      <td>3112.0</td>\n",
       "      <td>38</td>\n",
       "      <td>secondary education</td>\n",
       "      <td>1</td>\n",
       "      <td>married</td>\n",
       "      <td>0</td>\n",
       "      <td>Male</td>\n",
       "      <td>employee</td>\n",
       "      <td>1</td>\n",
       "      <td>39054.888</td>\n",
       "      <td>buying my own car</td>\n",
       "      <td>9.0</td>\n",
       "      <td>20</td>\n",
       "      <td>26-50 y/o</td>\n",
       "    </tr>\n",
       "    <tr>\n",
       "      <th>21452</th>\n",
       "      <td>2</td>\n",
       "      <td>1985.0</td>\n",
       "      <td>40</td>\n",
       "      <td>secondary education</td>\n",
       "      <td>1</td>\n",
       "      <td>married</td>\n",
       "      <td>0</td>\n",
       "      <td>Female</td>\n",
       "      <td>employee</td>\n",
       "      <td>0</td>\n",
       "      <td>13127.587</td>\n",
       "      <td>to buy a car</td>\n",
       "      <td>5.0</td>\n",
       "      <td>22</td>\n",
       "      <td>26-50 y/o</td>\n",
       "    </tr>\n",
       "  </tbody>\n",
       "</table>\n",
       "<p>21452 rows × 15 columns</p>\n",
       "</div>"
      ],
      "text/plain": [
       "       children  days_employed  dob_years            education  education_id  \\\n",
       "0             1         8438.0         42    bachelor's degree             0   \n",
       "1             1         4025.0         36  secondary education             1   \n",
       "2             0         5623.0         33  secondary education             1   \n",
       "3             3         4125.0         32  secondary education             1   \n",
       "4             0        12775.0         53  secondary education             1   \n",
       "...         ...            ...        ...                  ...           ...   \n",
       "21448         1         4529.0         43  secondary education             1   \n",
       "21449         0        17885.0         67  secondary education             1   \n",
       "21450         1         2113.0         38  secondary education             1   \n",
       "21451         3         3112.0         38  secondary education             1   \n",
       "21452         2         1985.0         40  secondary education             1   \n",
       "\n",
       "           family_status  family_status_id  gender income_type  debt  \\\n",
       "0                married                 0  Female    employee     0   \n",
       "1                married                 0  Female    employee     0   \n",
       "2                married                 0    Male    employee     0   \n",
       "3                married                 0    Male    employee     0   \n",
       "4      civil partnership                 1  Female     retiree     0   \n",
       "...                  ...               ...     ...         ...   ...   \n",
       "21448  civil partnership                 1  Female    business     0   \n",
       "21449            married                 0  Female     retiree     0   \n",
       "21450  civil partnership                 1    Male    employee     1   \n",
       "21451            married                 0    Male    employee     1   \n",
       "21452            married                 0  Female    employee     0   \n",
       "\n",
       "       total_income                  purpose  years_employed  year_working  \\\n",
       "0         40620.102    purchase of the house            23.0            24   \n",
       "1         17932.802             car purchase            11.0            18   \n",
       "2         23341.752    purchase of the house            15.0            15   \n",
       "3         42820.568  supplementary education            11.0            14   \n",
       "4         25378.572        to have a wedding           932.0            35   \n",
       "...             ...                      ...             ...           ...   \n",
       "21448     35966.698     housing transactions            12.0            25   \n",
       "21449     24959.969        purchase of a car           942.0            49   \n",
       "21450     14347.610                 property             6.0            20   \n",
       "21451     39054.888        buying my own car             9.0            20   \n",
       "21452     13127.587             to buy a car             5.0            22   \n",
       "\n",
       "      age_category  \n",
       "0        26-50 y/o  \n",
       "1        26-50 y/o  \n",
       "2        26-50 y/o  \n",
       "3        26-50 y/o  \n",
       "4          50+ y/o  \n",
       "...            ...  \n",
       "21448    26-50 y/o  \n",
       "21449      50+ y/o  \n",
       "21450    26-50 y/o  \n",
       "21451    26-50 y/o  \n",
       "21452    26-50 y/o  \n",
       "\n",
       "[21452 rows x 15 columns]"
      ]
     },
     "execution_count": 65,
     "metadata": {},
     "output_type": "execute_result"
    }
   ],
   "source": [
    "# Apply the function to income_type\n",
    "fill_days(creditScore, 'income_type')"
   ]
  },
  {
   "cell_type": "code",
   "execution_count": 66,
   "metadata": {
    "colab": {
     "base_uri": "https://localhost:8080/"
    },
    "id": "oU5atLIejNDc",
    "outputId": "54f18896-a7f2-4a78-fa91-334c0c083850"
   },
   "outputs": [
    {
     "data": {
      "text/plain": [
       "0"
      ]
     },
     "execution_count": 66,
     "metadata": {},
     "output_type": "execute_result"
    }
   ],
   "source": [
    "# Check if your function works\n",
    "creditScore['days_employed'].isna().sum()"
   ]
  },
  {
   "cell_type": "code",
   "execution_count": 67,
   "metadata": {
    "colab": {
     "base_uri": "https://localhost:8080/"
    },
    "id": "o640cZKojNDe",
    "outputId": "5a803fd7-41d4-426e-fa5a-3b160f6d513e"
   },
   "outputs": [
    {
     "data": {
      "text/plain": [
       "children               0\n",
       "days_employed          0\n",
       "dob_years              0\n",
       "education              0\n",
       "education_id           0\n",
       "family_status          0\n",
       "family_status_id       0\n",
       "gender                 0\n",
       "income_type            0\n",
       "debt                   0\n",
       "total_income           0\n",
       "purpose                0\n",
       "years_employed      2102\n",
       "year_working           0\n",
       "age_category           0\n",
       "dtype: int64"
      ]
     },
     "execution_count": 67,
     "metadata": {},
     "output_type": "execute_result"
    }
   ],
   "source": [
    "# Check the entries in all columns - make sure we fix all missing values\n",
    "creditScore.isna().sum()"
   ]
  },
  {
   "cell_type": "code",
   "execution_count": 68,
   "metadata": {
    "id": "MCsGHLTNpSSR"
   },
   "outputs": [],
   "source": [
    "# fill in the missing 'years_employed' column\n",
    "creditScore['years_employed'] = creditScore['days_employed'] / 365"
   ]
  },
  {
   "cell_type": "code",
   "execution_count": 69,
   "metadata": {
    "colab": {
     "base_uri": "https://localhost:8080/"
    },
    "id": "7bqqUpHAqOiX",
    "outputId": "ee1c4595-aaf9-4f37-885c-f003055fb249"
   },
   "outputs": [
    {
     "data": {
      "text/plain": [
       "children            0\n",
       "days_employed       0\n",
       "dob_years           0\n",
       "education           0\n",
       "education_id        0\n",
       "family_status       0\n",
       "family_status_id    0\n",
       "gender              0\n",
       "income_type         0\n",
       "debt                0\n",
       "total_income        0\n",
       "purpose             0\n",
       "years_employed      0\n",
       "year_working        0\n",
       "age_category        0\n",
       "dtype: int64"
      ]
     },
     "execution_count": 69,
     "metadata": {},
     "output_type": "execute_result"
    }
   ],
   "source": [
    "creditScore.isna().sum()"
   ]
  },
  {
   "cell_type": "markdown",
   "metadata": {
    "id": "KcsKaKoFjNDe"
   },
   "source": [
    "### Data Categorization <a id='data_category'></a>\n",
    "\n",
    "In some columns with a large number of unique values, we can create data categorization for those columns. This aims to facilitate us in reviewing the unique values in the dataset."
   ]
  },
  {
   "cell_type": "code",
   "execution_count": 70,
   "metadata": {
    "id": "Lgua-YLUjNDf",
    "scrolled": true
   },
   "outputs": [],
   "source": [
    "# create a new DataFrame\n",
    "data = creditScore.drop(['year_working', 'years_employed'], axis=1)"
   ]
  },
  {
   "cell_type": "code",
   "execution_count": 71,
   "metadata": {
    "id": "jvjIbhv0cOF0",
    "outputId": "39390c28-828b-40c8-a850-6c3cbc43b86f"
   },
   "outputs": [
    {
     "data": {
      "text/plain": [
       "array(['purchase of the house', 'car purchase', 'supplementary education',\n",
       "       'to have a wedding', 'housing transactions', 'education',\n",
       "       'having a wedding', 'purchase of the house for my family',\n",
       "       'buy real estate', 'buy commercial real estate',\n",
       "       'buy residential real estate', 'construction of own property',\n",
       "       'property', 'building a property', 'buying a second-hand car',\n",
       "       'buying my own car', 'transactions with commercial real estate',\n",
       "       'building a real estate', 'housing',\n",
       "       'transactions with my real estate', 'cars', 'to become educated',\n",
       "       'second-hand car purchase', 'getting an education', 'car',\n",
       "       'wedding ceremony', 'to get a supplementary education',\n",
       "       'purchase of my own house', 'real estate transactions',\n",
       "       'getting higher education', 'to own a car', 'purchase of a car',\n",
       "       'profile education', 'university education',\n",
       "       'buying property for renting out', 'to buy a car',\n",
       "       'housing renovation', 'going to university'], dtype=object)"
      ]
     },
     "execution_count": 71,
     "metadata": {},
     "output_type": "execute_result"
    }
   ],
   "source": [
    "# view data categories from the `purpose` column\n",
    "data['purpose'].unique()"
   ]
  },
  {
   "cell_type": "markdown",
   "metadata": {
    "id": "t-UWZaBVcOF1"
   },
   "source": [
    "If we look at it, the unique values in the `purpose` column vary greatly. However, some actually have the same meaning. So we will categorize its values, but make it easier to read."
   ]
  },
  {
   "cell_type": "code",
   "execution_count": 72,
   "metadata": {
    "id": "C6ntrTkTcOF1"
   },
   "outputs": [],
   "source": [
    "# create a function that categorizes the 'purpose' column\n",
    "\n",
    "def purpose_category(purpose):\n",
    "    category= {\n",
    "        'housing': ['house', 'housing'],\n",
    "        'car': ['car'],\n",
    "        'education': ['education', 'university', 'educated'],\n",
    "        'wedding': ['wedding'],\n",
    "        'real_estate': ['real_estate']\n",
    "    }\n",
    "\n",
    "    for key, values in category.items():\n",
    "        for value in values:\n",
    "            if value in purpose:\n",
    "                return key\n",
    "    return 'other'"
   ]
  },
  {
   "cell_type": "code",
   "execution_count": 73,
   "metadata": {
    "id": "CEf1uqiNcOF1",
    "outputId": "9a7a0aaa-73ec-4e91-f7b7-ee060496e4c5"
   },
   "outputs": [
    {
     "data": {
      "text/html": [
       "<div>\n",
       "<style scoped>\n",
       "    .dataframe tbody tr th:only-of-type {\n",
       "        vertical-align: middle;\n",
       "    }\n",
       "\n",
       "    .dataframe tbody tr th {\n",
       "        vertical-align: top;\n",
       "    }\n",
       "\n",
       "    .dataframe thead th {\n",
       "        text-align: right;\n",
       "    }\n",
       "</style>\n",
       "<table border=\"1\" class=\"dataframe\">\n",
       "  <thead>\n",
       "    <tr style=\"text-align: right;\">\n",
       "      <th></th>\n",
       "      <th>children</th>\n",
       "      <th>days_employed</th>\n",
       "      <th>dob_years</th>\n",
       "      <th>education</th>\n",
       "      <th>education_id</th>\n",
       "      <th>family_status</th>\n",
       "      <th>family_status_id</th>\n",
       "      <th>gender</th>\n",
       "      <th>income_type</th>\n",
       "      <th>debt</th>\n",
       "      <th>total_income</th>\n",
       "      <th>purpose</th>\n",
       "      <th>age_category</th>\n",
       "      <th>purpose_category</th>\n",
       "    </tr>\n",
       "  </thead>\n",
       "  <tbody>\n",
       "    <tr>\n",
       "      <th>0</th>\n",
       "      <td>1</td>\n",
       "      <td>8438.0</td>\n",
       "      <td>42</td>\n",
       "      <td>bachelor's degree</td>\n",
       "      <td>0</td>\n",
       "      <td>married</td>\n",
       "      <td>0</td>\n",
       "      <td>Female</td>\n",
       "      <td>employee</td>\n",
       "      <td>0</td>\n",
       "      <td>40620.102</td>\n",
       "      <td>purchase of the house</td>\n",
       "      <td>26-50 y/o</td>\n",
       "      <td>housing</td>\n",
       "    </tr>\n",
       "    <tr>\n",
       "      <th>1</th>\n",
       "      <td>1</td>\n",
       "      <td>4025.0</td>\n",
       "      <td>36</td>\n",
       "      <td>secondary education</td>\n",
       "      <td>1</td>\n",
       "      <td>married</td>\n",
       "      <td>0</td>\n",
       "      <td>Female</td>\n",
       "      <td>employee</td>\n",
       "      <td>0</td>\n",
       "      <td>17932.802</td>\n",
       "      <td>car purchase</td>\n",
       "      <td>26-50 y/o</td>\n",
       "      <td>car</td>\n",
       "    </tr>\n",
       "    <tr>\n",
       "      <th>2</th>\n",
       "      <td>0</td>\n",
       "      <td>5623.0</td>\n",
       "      <td>33</td>\n",
       "      <td>secondary education</td>\n",
       "      <td>1</td>\n",
       "      <td>married</td>\n",
       "      <td>0</td>\n",
       "      <td>Male</td>\n",
       "      <td>employee</td>\n",
       "      <td>0</td>\n",
       "      <td>23341.752</td>\n",
       "      <td>purchase of the house</td>\n",
       "      <td>26-50 y/o</td>\n",
       "      <td>housing</td>\n",
       "    </tr>\n",
       "    <tr>\n",
       "      <th>3</th>\n",
       "      <td>3</td>\n",
       "      <td>4125.0</td>\n",
       "      <td>32</td>\n",
       "      <td>secondary education</td>\n",
       "      <td>1</td>\n",
       "      <td>married</td>\n",
       "      <td>0</td>\n",
       "      <td>Male</td>\n",
       "      <td>employee</td>\n",
       "      <td>0</td>\n",
       "      <td>42820.568</td>\n",
       "      <td>supplementary education</td>\n",
       "      <td>26-50 y/o</td>\n",
       "      <td>education</td>\n",
       "    </tr>\n",
       "    <tr>\n",
       "      <th>4</th>\n",
       "      <td>0</td>\n",
       "      <td>12775.0</td>\n",
       "      <td>53</td>\n",
       "      <td>secondary education</td>\n",
       "      <td>1</td>\n",
       "      <td>civil partnership</td>\n",
       "      <td>1</td>\n",
       "      <td>Female</td>\n",
       "      <td>retiree</td>\n",
       "      <td>0</td>\n",
       "      <td>25378.572</td>\n",
       "      <td>to have a wedding</td>\n",
       "      <td>50+ y/o</td>\n",
       "      <td>wedding</td>\n",
       "    </tr>\n",
       "    <tr>\n",
       "      <th>...</th>\n",
       "      <td>...</td>\n",
       "      <td>...</td>\n",
       "      <td>...</td>\n",
       "      <td>...</td>\n",
       "      <td>...</td>\n",
       "      <td>...</td>\n",
       "      <td>...</td>\n",
       "      <td>...</td>\n",
       "      <td>...</td>\n",
       "      <td>...</td>\n",
       "      <td>...</td>\n",
       "      <td>...</td>\n",
       "      <td>...</td>\n",
       "      <td>...</td>\n",
       "    </tr>\n",
       "    <tr>\n",
       "      <th>21448</th>\n",
       "      <td>1</td>\n",
       "      <td>4529.0</td>\n",
       "      <td>43</td>\n",
       "      <td>secondary education</td>\n",
       "      <td>1</td>\n",
       "      <td>civil partnership</td>\n",
       "      <td>1</td>\n",
       "      <td>Female</td>\n",
       "      <td>business</td>\n",
       "      <td>0</td>\n",
       "      <td>35966.698</td>\n",
       "      <td>housing transactions</td>\n",
       "      <td>26-50 y/o</td>\n",
       "      <td>housing</td>\n",
       "    </tr>\n",
       "    <tr>\n",
       "      <th>21449</th>\n",
       "      <td>0</td>\n",
       "      <td>17885.0</td>\n",
       "      <td>67</td>\n",
       "      <td>secondary education</td>\n",
       "      <td>1</td>\n",
       "      <td>married</td>\n",
       "      <td>0</td>\n",
       "      <td>Female</td>\n",
       "      <td>retiree</td>\n",
       "      <td>0</td>\n",
       "      <td>24959.969</td>\n",
       "      <td>purchase of a car</td>\n",
       "      <td>50+ y/o</td>\n",
       "      <td>car</td>\n",
       "    </tr>\n",
       "    <tr>\n",
       "      <th>21450</th>\n",
       "      <td>1</td>\n",
       "      <td>2113.0</td>\n",
       "      <td>38</td>\n",
       "      <td>secondary education</td>\n",
       "      <td>1</td>\n",
       "      <td>civil partnership</td>\n",
       "      <td>1</td>\n",
       "      <td>Male</td>\n",
       "      <td>employee</td>\n",
       "      <td>1</td>\n",
       "      <td>14347.610</td>\n",
       "      <td>property</td>\n",
       "      <td>26-50 y/o</td>\n",
       "      <td>other</td>\n",
       "    </tr>\n",
       "    <tr>\n",
       "      <th>21451</th>\n",
       "      <td>3</td>\n",
       "      <td>3112.0</td>\n",
       "      <td>38</td>\n",
       "      <td>secondary education</td>\n",
       "      <td>1</td>\n",
       "      <td>married</td>\n",
       "      <td>0</td>\n",
       "      <td>Male</td>\n",
       "      <td>employee</td>\n",
       "      <td>1</td>\n",
       "      <td>39054.888</td>\n",
       "      <td>buying my own car</td>\n",
       "      <td>26-50 y/o</td>\n",
       "      <td>car</td>\n",
       "    </tr>\n",
       "    <tr>\n",
       "      <th>21452</th>\n",
       "      <td>2</td>\n",
       "      <td>1985.0</td>\n",
       "      <td>40</td>\n",
       "      <td>secondary education</td>\n",
       "      <td>1</td>\n",
       "      <td>married</td>\n",
       "      <td>0</td>\n",
       "      <td>Female</td>\n",
       "      <td>employee</td>\n",
       "      <td>0</td>\n",
       "      <td>13127.587</td>\n",
       "      <td>to buy a car</td>\n",
       "      <td>26-50 y/o</td>\n",
       "      <td>car</td>\n",
       "    </tr>\n",
       "  </tbody>\n",
       "</table>\n",
       "<p>21452 rows × 14 columns</p>\n",
       "</div>"
      ],
      "text/plain": [
       "       children  days_employed  dob_years            education  education_id  \\\n",
       "0             1         8438.0         42    bachelor's degree             0   \n",
       "1             1         4025.0         36  secondary education             1   \n",
       "2             0         5623.0         33  secondary education             1   \n",
       "3             3         4125.0         32  secondary education             1   \n",
       "4             0        12775.0         53  secondary education             1   \n",
       "...         ...            ...        ...                  ...           ...   \n",
       "21448         1         4529.0         43  secondary education             1   \n",
       "21449         0        17885.0         67  secondary education             1   \n",
       "21450         1         2113.0         38  secondary education             1   \n",
       "21451         3         3112.0         38  secondary education             1   \n",
       "21452         2         1985.0         40  secondary education             1   \n",
       "\n",
       "           family_status  family_status_id  gender income_type  debt  \\\n",
       "0                married                 0  Female    employee     0   \n",
       "1                married                 0  Female    employee     0   \n",
       "2                married                 0    Male    employee     0   \n",
       "3                married                 0    Male    employee     0   \n",
       "4      civil partnership                 1  Female     retiree     0   \n",
       "...                  ...               ...     ...         ...   ...   \n",
       "21448  civil partnership                 1  Female    business     0   \n",
       "21449            married                 0  Female     retiree     0   \n",
       "21450  civil partnership                 1    Male    employee     1   \n",
       "21451            married                 0    Male    employee     1   \n",
       "21452            married                 0  Female    employee     0   \n",
       "\n",
       "       total_income                  purpose age_category purpose_category  \n",
       "0         40620.102    purchase of the house    26-50 y/o          housing  \n",
       "1         17932.802             car purchase    26-50 y/o              car  \n",
       "2         23341.752    purchase of the house    26-50 y/o          housing  \n",
       "3         42820.568  supplementary education    26-50 y/o        education  \n",
       "4         25378.572        to have a wedding      50+ y/o          wedding  \n",
       "...             ...                      ...          ...              ...  \n",
       "21448     35966.698     housing transactions    26-50 y/o          housing  \n",
       "21449     24959.969        purchase of a car      50+ y/o              car  \n",
       "21450     14347.610                 property    26-50 y/o            other  \n",
       "21451     39054.888        buying my own car    26-50 y/o              car  \n",
       "21452     13127.587             to buy a car    26-50 y/o              car  \n",
       "\n",
       "[21452 rows x 14 columns]"
      ]
     },
     "execution_count": 73,
     "metadata": {},
     "output_type": "execute_result"
    }
   ],
   "source": [
    "# Applying a function to the purpose column.\n",
    "data['purpose_category'] = data['purpose'].apply(purpose_category)\n",
    "data"
   ]
  },
  {
   "cell_type": "code",
   "execution_count": 74,
   "metadata": {
    "id": "xVMqlGZ6cOF1",
    "outputId": "7374d5bc-fda9-4aaa-faeb-2d997d8ea8c1",
    "scrolled": true
   },
   "outputs": [
    {
     "data": {
      "text/plain": [
       "array(['housing', 'car', 'education', 'wedding', 'other'], dtype=object)"
      ]
     },
     "execution_count": 74,
     "metadata": {},
     "output_type": "execute_result"
    }
   ],
   "source": [
    "# Checking the category of the 'purpose' column.\n",
    "data['purpose_category'].unique()"
   ]
  },
  {
   "cell_type": "markdown",
   "metadata": {
    "id": "9QaCoMGycOF2"
   },
   "source": [
    "The category of the 'purpose' column has been updated. Now it's time to categorize the numerical data."
   ]
  },
  {
   "cell_type": "code",
   "execution_count": 75,
   "metadata": {
    "colab": {
     "base_uri": "https://localhost:8080/"
    },
    "id": "ITo3ifHmjNDj",
    "outputId": "237d56bf-a679-414b-d425-b1f05028efc9"
   },
   "outputs": [
    {
     "data": {
      "text/plain": [
       "count     21452.000000\n",
       "mean      26454.931513\n",
       "std       15709.205150\n",
       "min        3306.762000\n",
       "25%       17211.355500\n",
       "50%       23020.907500\n",
       "75%       31328.693750\n",
       "max      362496.645000\n",
       "Name: total_income, dtype: float64"
      ]
     },
     "execution_count": 75,
     "metadata": {},
     "output_type": "execute_result"
    }
   ],
   "source": [
    "# View all numerical data in the column you selected for categorization.\n",
    "data['total_income'].describe()"
   ]
  },
  {
   "cell_type": "markdown",
   "metadata": {
    "id": "1-xJoxayjNDk"
   },
   "source": [
    "Got it! Based on the description you provided, we'll create a function to categorize the data based on total income ranges. This categorization will help us examine the hypothesis of defaulting. The smallest value in the data is 3306, and the largest value is 362496. Let's proceed with creating the function to categorize the data into income ranges."
   ]
  },
  {
   "cell_type": "code",
   "execution_count": 76,
   "metadata": {
    "id": "G2MKfu19jNDk"
   },
   "outputs": [],
   "source": [
    "# Create a function that categorizes data into different numerical groups based on ranges\n",
    "def income_category(income):\n",
    "    if income <= 15000:\n",
    "        value = '<= 15k'\n",
    "    elif income > 15000 and income <= 30000 :\n",
    "        value = '15-30k'\n",
    "    elif income > 30000 and income <= 45000 :\n",
    "        value = '30-45k'\n",
    "    elif income > 45000 and income <= 60000 :\n",
    "        value = '45-60k'\n",
    "    else:\n",
    "        value = '> 60k'\n",
    "    return value"
   ]
  },
  {
   "cell_type": "code",
   "execution_count": 77,
   "metadata": {
    "id": "ku7-VkyVjNDk"
   },
   "outputs": [],
   "source": [
    "# Create a column containing categories.\n",
    "data['income_category'] = data['total_income'].apply(income_category)"
   ]
  },
  {
   "cell_type": "code",
   "execution_count": 78,
   "metadata": {
    "colab": {
     "base_uri": "https://localhost:8080/"
    },
    "id": "-7to0d5ujNDl",
    "outputId": "21bf26fa-fdb0-49e1-aa76-af87f8c3695c",
    "scrolled": true
   },
   "outputs": [
    {
     "data": {
      "text/plain": [
       "15-30k    11790\n",
       "30-45k     4059\n",
       "<= 15k     3744\n",
       "45-60k     1187\n",
       "> 60k       672\n",
       "Name: income_category, dtype: int64"
      ]
     },
     "execution_count": 78,
     "metadata": {},
     "output_type": "execute_result"
    }
   ],
   "source": [
    "# Calculate each category value to see its distribution\n",
    "data['income_category'].value_counts()"
   ]
  },
  {
   "cell_type": "markdown",
   "metadata": {
    "id": "hxlNU_YljNDl"
   },
   "source": [
    "# Step 3. Testing Hypotheses <a id='hypothesis'></a>\n",
    "Finally, we've reached the last step! We'll examine whether there is a relationship between the following four points:\n",
    "\n",
    "- the number of children and the likelihood of defaulting on a loan\n",
    "- testing whether there is a relationship between marital status and the probability of defaulting on a loan\n",
    "- whether an individual's income level can affect loan default\n",
    "- determining if the purpose of a loan affects the likelihood of defaulting on it."
   ]
  },
  {
   "cell_type": "markdown",
   "metadata": {
    "id": "Pd6fK4WYjNDl"
   },
   "source": [
    "**Is there a correlation between having children and the probability of defaulting on a loan?**"
   ]
  },
  {
   "cell_type": "code",
   "execution_count": 79,
   "metadata": {
    "colab": {
     "base_uri": "https://localhost:8080/",
     "height": 237
    },
    "id": "_UURh9KSjNDm",
    "outputId": "0543f237-294d-46f4-907c-3168d6369ac8"
   },
   "outputs": [
    {
     "data": {
      "text/html": [
       "<div>\n",
       "<style scoped>\n",
       "    .dataframe tbody tr th:only-of-type {\n",
       "        vertical-align: middle;\n",
       "    }\n",
       "\n",
       "    .dataframe tbody tr th {\n",
       "        vertical-align: top;\n",
       "    }\n",
       "\n",
       "    .dataframe thead th {\n",
       "        text-align: right;\n",
       "    }\n",
       "</style>\n",
       "<table border=\"1\" class=\"dataframe\">\n",
       "  <thead>\n",
       "    <tr style=\"text-align: right;\">\n",
       "      <th>debt</th>\n",
       "      <th>0</th>\n",
       "      <th>1</th>\n",
       "    </tr>\n",
       "    <tr>\n",
       "      <th>children</th>\n",
       "      <th></th>\n",
       "      <th></th>\n",
       "    </tr>\n",
       "  </thead>\n",
       "  <tbody>\n",
       "    <tr>\n",
       "      <th>0</th>\n",
       "      <td>13026.0</td>\n",
       "      <td>1063.0</td>\n",
       "    </tr>\n",
       "    <tr>\n",
       "      <th>1</th>\n",
       "      <td>4410.0</td>\n",
       "      <td>445.0</td>\n",
       "    </tr>\n",
       "    <tr>\n",
       "      <th>2</th>\n",
       "      <td>1926.0</td>\n",
       "      <td>202.0</td>\n",
       "    </tr>\n",
       "    <tr>\n",
       "      <th>3</th>\n",
       "      <td>303.0</td>\n",
       "      <td>27.0</td>\n",
       "    </tr>\n",
       "    <tr>\n",
       "      <th>4</th>\n",
       "      <td>37.0</td>\n",
       "      <td>4.0</td>\n",
       "    </tr>\n",
       "    <tr>\n",
       "      <th>5</th>\n",
       "      <td>9.0</td>\n",
       "      <td>0.0</td>\n",
       "    </tr>\n",
       "  </tbody>\n",
       "</table>\n",
       "</div>"
      ],
      "text/plain": [
       "debt            0       1\n",
       "children                 \n",
       "0         13026.0  1063.0\n",
       "1          4410.0   445.0\n",
       "2          1926.0   202.0\n",
       "3           303.0    27.0\n",
       "4            37.0     4.0\n",
       "5             9.0     0.0"
      ]
     },
     "execution_count": 79,
     "metadata": {},
     "output_type": "execute_result"
    }
   ],
   "source": [
    "# Check the data for children and loan default.\n",
    "children_debt = pd.pivot_table(data, index='children', columns='debt', values='education', aggfunc='count').fillna(0)\n",
    "children_debt.sort_values(1, ascending=False)"
   ]
  },
  {
   "cell_type": "code",
   "execution_count": 80,
   "metadata": {
    "colab": {
     "base_uri": "https://localhost:8080/",
     "height": 237
    },
    "id": "Jj5615gY0Yf_",
    "outputId": "8c802504-353d-4e40-e31c-d1a2f842d403"
   },
   "outputs": [
    {
     "data": {
      "text/html": [
       "<div>\n",
       "<style scoped>\n",
       "    .dataframe tbody tr th:only-of-type {\n",
       "        vertical-align: middle;\n",
       "    }\n",
       "\n",
       "    .dataframe tbody tr th {\n",
       "        vertical-align: top;\n",
       "    }\n",
       "\n",
       "    .dataframe thead th {\n",
       "        text-align: right;\n",
       "    }\n",
       "</style>\n",
       "<table border=\"1\" class=\"dataframe\">\n",
       "  <thead>\n",
       "    <tr style=\"text-align: right;\">\n",
       "      <th>debt</th>\n",
       "      <th>0</th>\n",
       "      <th>1</th>\n",
       "      <th>total</th>\n",
       "      <th>percent 0</th>\n",
       "      <th>percent 1</th>\n",
       "    </tr>\n",
       "    <tr>\n",
       "      <th>children</th>\n",
       "      <th></th>\n",
       "      <th></th>\n",
       "      <th></th>\n",
       "      <th></th>\n",
       "      <th></th>\n",
       "    </tr>\n",
       "  </thead>\n",
       "  <tbody>\n",
       "    <tr>\n",
       "      <th>0</th>\n",
       "      <td>13026.0</td>\n",
       "      <td>1063.0</td>\n",
       "      <td>14089.0</td>\n",
       "      <td>92.5%</td>\n",
       "      <td>7.5%</td>\n",
       "    </tr>\n",
       "    <tr>\n",
       "      <th>1</th>\n",
       "      <td>4410.0</td>\n",
       "      <td>445.0</td>\n",
       "      <td>4855.0</td>\n",
       "      <td>90.8%</td>\n",
       "      <td>9.2%</td>\n",
       "    </tr>\n",
       "    <tr>\n",
       "      <th>2</th>\n",
       "      <td>1926.0</td>\n",
       "      <td>202.0</td>\n",
       "      <td>2128.0</td>\n",
       "      <td>90.5%</td>\n",
       "      <td>9.5%</td>\n",
       "    </tr>\n",
       "    <tr>\n",
       "      <th>3</th>\n",
       "      <td>303.0</td>\n",
       "      <td>27.0</td>\n",
       "      <td>330.0</td>\n",
       "      <td>91.8%</td>\n",
       "      <td>8.2%</td>\n",
       "    </tr>\n",
       "    <tr>\n",
       "      <th>4</th>\n",
       "      <td>37.0</td>\n",
       "      <td>4.0</td>\n",
       "      <td>41.0</td>\n",
       "      <td>90.2%</td>\n",
       "      <td>9.8%</td>\n",
       "    </tr>\n",
       "    <tr>\n",
       "      <th>5</th>\n",
       "      <td>9.0</td>\n",
       "      <td>0.0</td>\n",
       "      <td>9.0</td>\n",
       "      <td>100.0%</td>\n",
       "      <td>0.0%</td>\n",
       "    </tr>\n",
       "  </tbody>\n",
       "</table>\n",
       "</div>"
      ],
      "text/plain": [
       "debt            0       1    total percent 0 percent 1\n",
       "children                                              \n",
       "0         13026.0  1063.0  14089.0     92.5%      7.5%\n",
       "1          4410.0   445.0   4855.0     90.8%      9.2%\n",
       "2          1926.0   202.0   2128.0     90.5%      9.5%\n",
       "3           303.0    27.0    330.0     91.8%      8.2%\n",
       "4            37.0     4.0     41.0     90.2%      9.8%\n",
       "5             9.0     0.0      9.0    100.0%      0.0%"
      ]
     },
     "execution_count": 80,
     "metadata": {},
     "output_type": "execute_result"
    }
   ],
   "source": [
    "# Calculate the default percentage based on the number of children.\n",
    "children_debt['total'] = children_debt[0] + children_debt[1]\n",
    "children_debt['percent 0'] = round(children_debt[0] / children_debt['total'] * 100, 1).astype(str) + '%'\n",
    "children_debt['percent 1'] = round(children_debt[1] / children_debt['total'] * 100, 1).astype(str) + '%'\n",
    "children_debt.sort_values(1, ascending=False)"
   ]
  },
  {
   "cell_type": "markdown",
   "metadata": {
    "id": "3xUj6qPtjNDm"
   },
   "source": [
    "**Conclusion**\n",
    "\n",
    "Logically, if we have more children, the percentage of customer defaults will increase. Based on the data above, when looking at the number of defaulters according to their category, the default percentage shows a decreasing correlation, meaning that the more children a customer has, the fewer defaulters there are.\n",
    "\n",
    "However, there's something we need to pay attention to here. Most groups indeed consist of a majority of customers with fewer children. This means that the conclusion above is not entirely accurate. Let's look at the default percentage for each group. The group of customers with 4 children has a high default percentage."
   ]
  },
  {
   "cell_type": "markdown",
   "metadata": {
    "id": "0yUX5gw4jNDm"
   },
   "source": [
    "**Is there a correlation between marital status and the probability of defaulting on a loan?**"
   ]
  },
  {
   "cell_type": "code",
   "execution_count": 81,
   "metadata": {
    "colab": {
     "base_uri": "https://localhost:8080/",
     "height": 206
    },
    "id": "s1o925MXjNDn",
    "outputId": "f58cbe79-b4b2-478c-b30e-707fe2525747"
   },
   "outputs": [
    {
     "data": {
      "text/html": [
       "<div>\n",
       "<style scoped>\n",
       "    .dataframe tbody tr th:only-of-type {\n",
       "        vertical-align: middle;\n",
       "    }\n",
       "\n",
       "    .dataframe tbody tr th {\n",
       "        vertical-align: top;\n",
       "    }\n",
       "\n",
       "    .dataframe thead th {\n",
       "        text-align: right;\n",
       "    }\n",
       "</style>\n",
       "<table border=\"1\" class=\"dataframe\">\n",
       "  <thead>\n",
       "    <tr style=\"text-align: right;\">\n",
       "      <th>debt</th>\n",
       "      <th>0</th>\n",
       "      <th>1</th>\n",
       "    </tr>\n",
       "    <tr>\n",
       "      <th>family_status</th>\n",
       "      <th></th>\n",
       "      <th></th>\n",
       "    </tr>\n",
       "  </thead>\n",
       "  <tbody>\n",
       "    <tr>\n",
       "      <th>married</th>\n",
       "      <td>11407</td>\n",
       "      <td>931</td>\n",
       "    </tr>\n",
       "    <tr>\n",
       "      <th>civil partnership</th>\n",
       "      <td>3762</td>\n",
       "      <td>388</td>\n",
       "    </tr>\n",
       "    <tr>\n",
       "      <th>unmarried</th>\n",
       "      <td>2536</td>\n",
       "      <td>274</td>\n",
       "    </tr>\n",
       "    <tr>\n",
       "      <th>divorced</th>\n",
       "      <td>1110</td>\n",
       "      <td>85</td>\n",
       "    </tr>\n",
       "    <tr>\n",
       "      <th>widow / widower</th>\n",
       "      <td>896</td>\n",
       "      <td>63</td>\n",
       "    </tr>\n",
       "  </tbody>\n",
       "</table>\n",
       "</div>"
      ],
      "text/plain": [
       "debt                   0    1\n",
       "family_status                \n",
       "married            11407  931\n",
       "civil partnership   3762  388\n",
       "unmarried           2536  274\n",
       "divorced            1110   85\n",
       "widow / widower      896   63"
      ]
     },
     "execution_count": 81,
     "metadata": {},
     "output_type": "execute_result"
    }
   ],
   "source": [
    "# Check the data for marital status and loan default.\n",
    "family_debt = pd.pivot_table(data, index= 'family_status', columns= 'debt', values= 'children',aggfunc= 'count').fillna(0)\n",
    "family_debt.sort_values(1, ascending=False)"
   ]
  },
  {
   "cell_type": "code",
   "execution_count": 82,
   "metadata": {
    "colab": {
     "base_uri": "https://localhost:8080/",
     "height": 206
    },
    "id": "I9ohqlNo2U-i",
    "outputId": "775bfa6a-aaab-4d1e-9594-10f7c77c0ac0"
   },
   "outputs": [
    {
     "data": {
      "text/html": [
       "<div>\n",
       "<style scoped>\n",
       "    .dataframe tbody tr th:only-of-type {\n",
       "        vertical-align: middle;\n",
       "    }\n",
       "\n",
       "    .dataframe tbody tr th {\n",
       "        vertical-align: top;\n",
       "    }\n",
       "\n",
       "    .dataframe thead th {\n",
       "        text-align: right;\n",
       "    }\n",
       "</style>\n",
       "<table border=\"1\" class=\"dataframe\">\n",
       "  <thead>\n",
       "    <tr style=\"text-align: right;\">\n",
       "      <th>debt</th>\n",
       "      <th>0</th>\n",
       "      <th>1</th>\n",
       "      <th>total</th>\n",
       "      <th>percent 0</th>\n",
       "      <th>percent 1</th>\n",
       "    </tr>\n",
       "    <tr>\n",
       "      <th>family_status</th>\n",
       "      <th></th>\n",
       "      <th></th>\n",
       "      <th></th>\n",
       "      <th></th>\n",
       "      <th></th>\n",
       "    </tr>\n",
       "  </thead>\n",
       "  <tbody>\n",
       "    <tr>\n",
       "      <th>married</th>\n",
       "      <td>11407</td>\n",
       "      <td>931</td>\n",
       "      <td>12338</td>\n",
       "      <td>92.5%</td>\n",
       "      <td>7.5%</td>\n",
       "    </tr>\n",
       "    <tr>\n",
       "      <th>civil partnership</th>\n",
       "      <td>3762</td>\n",
       "      <td>388</td>\n",
       "      <td>4150</td>\n",
       "      <td>90.7%</td>\n",
       "      <td>9.3%</td>\n",
       "    </tr>\n",
       "    <tr>\n",
       "      <th>unmarried</th>\n",
       "      <td>2536</td>\n",
       "      <td>274</td>\n",
       "      <td>2810</td>\n",
       "      <td>90.2%</td>\n",
       "      <td>9.8%</td>\n",
       "    </tr>\n",
       "    <tr>\n",
       "      <th>divorced</th>\n",
       "      <td>1110</td>\n",
       "      <td>85</td>\n",
       "      <td>1195</td>\n",
       "      <td>92.9%</td>\n",
       "      <td>7.1%</td>\n",
       "    </tr>\n",
       "    <tr>\n",
       "      <th>widow / widower</th>\n",
       "      <td>896</td>\n",
       "      <td>63</td>\n",
       "      <td>959</td>\n",
       "      <td>93.4%</td>\n",
       "      <td>6.6%</td>\n",
       "    </tr>\n",
       "  </tbody>\n",
       "</table>\n",
       "</div>"
      ],
      "text/plain": [
       "debt                   0    1  total percent 0 percent 1\n",
       "family_status                                           \n",
       "married            11407  931  12338     92.5%      7.5%\n",
       "civil partnership   3762  388   4150     90.7%      9.3%\n",
       "unmarried           2536  274   2810     90.2%      9.8%\n",
       "divorced            1110   85   1195     92.9%      7.1%\n",
       "widow / widower      896   63    959     93.4%      6.6%"
      ]
     },
     "execution_count": 82,
     "metadata": {},
     "output_type": "execute_result"
    }
   ],
   "source": [
    "# Calculate the default percentage based on marital status.\n",
    "family_debt['total'] = family_debt[0] + family_debt[1]\n",
    "family_debt['percent 0'] = round(family_debt[0] / family_debt['total'] * 100, 1).astype(str) + '%'\n",
    "family_debt['percent 1'] = round(family_debt[1] / family_debt['total'] * 100, 1).astype(str) + '%'\n",
    "family_debt.sort_values(1, ascending=False)"
   ]
  },
  {
   "cell_type": "markdown",
   "metadata": {
    "id": "G4WcCoRgjNDn"
   },
   "source": [
    "**Conclusion**\n",
    "\n",
    "From the calculations, it can be concluded that the marital status \"widow/widower\" has the lowest percentage of loan defaults (6.6%), followed by \"divorced\" (7.1%) and \"married\" (7.5%). Meanwhile, the marital statuses \"civil partnership\" and \"unmarried\" have higher percentages of loan defaults, which are 9.3% and 9.8% respectively."
   ]
  },
  {
   "cell_type": "markdown",
   "metadata": {
    "id": "sryRSlRHjNDn"
   },
   "source": [
    "**Is there a correlation between income level and the probability of defaulting on a loan?**"
   ]
  },
  {
   "cell_type": "code",
   "execution_count": 83,
   "metadata": {
    "colab": {
     "base_uri": "https://localhost:8080/",
     "height": 206
    },
    "id": "dqIBp1hLjNDn",
    "outputId": "857194c5-e2d7-4661-e2d4-20e19635745e"
   },
   "outputs": [
    {
     "data": {
      "text/html": [
       "<div>\n",
       "<style scoped>\n",
       "    .dataframe tbody tr th:only-of-type {\n",
       "        vertical-align: middle;\n",
       "    }\n",
       "\n",
       "    .dataframe tbody tr th {\n",
       "        vertical-align: top;\n",
       "    }\n",
       "\n",
       "    .dataframe thead th {\n",
       "        text-align: right;\n",
       "    }\n",
       "</style>\n",
       "<table border=\"1\" class=\"dataframe\">\n",
       "  <thead>\n",
       "    <tr style=\"text-align: right;\">\n",
       "      <th>debt</th>\n",
       "      <th>0</th>\n",
       "      <th>1</th>\n",
       "    </tr>\n",
       "    <tr>\n",
       "      <th>income_category</th>\n",
       "      <th></th>\n",
       "      <th></th>\n",
       "    </tr>\n",
       "  </thead>\n",
       "  <tbody>\n",
       "    <tr>\n",
       "      <th>15-30k</th>\n",
       "      <td>10783</td>\n",
       "      <td>1007</td>\n",
       "    </tr>\n",
       "    <tr>\n",
       "      <th>30-45k</th>\n",
       "      <td>3755</td>\n",
       "      <td>304</td>\n",
       "    </tr>\n",
       "    <tr>\n",
       "      <th>&lt;= 15k</th>\n",
       "      <td>3446</td>\n",
       "      <td>298</td>\n",
       "    </tr>\n",
       "    <tr>\n",
       "      <th>45-60k</th>\n",
       "      <td>1093</td>\n",
       "      <td>94</td>\n",
       "    </tr>\n",
       "    <tr>\n",
       "      <th>&gt; 60k</th>\n",
       "      <td>634</td>\n",
       "      <td>38</td>\n",
       "    </tr>\n",
       "  </tbody>\n",
       "</table>\n",
       "</div>"
      ],
      "text/plain": [
       "debt                 0     1\n",
       "income_category             \n",
       "15-30k           10783  1007\n",
       "30-45k            3755   304\n",
       "<= 15k            3446   298\n",
       "45-60k            1093    94\n",
       "> 60k              634    38"
      ]
     },
     "execution_count": 83,
     "metadata": {},
     "output_type": "execute_result"
    }
   ],
   "source": [
    "# Calculate the default percentage based on income level.\n",
    "income_type_debt = pd.pivot_table(data, index= 'income_category', columns= 'debt',values= 'children',aggfunc= 'count').fillna(0)\n",
    "income_type_debt.sort_values(1, ascending=False)"
   ]
  },
  {
   "cell_type": "code",
   "execution_count": 84,
   "metadata": {
    "colab": {
     "base_uri": "https://localhost:8080/",
     "height": 206
    },
    "id": "cArOo0rw7NeD",
    "outputId": "26130b00-24e7-44dd-8c51-28a3c0fd4327"
   },
   "outputs": [
    {
     "data": {
      "text/html": [
       "<div>\n",
       "<style scoped>\n",
       "    .dataframe tbody tr th:only-of-type {\n",
       "        vertical-align: middle;\n",
       "    }\n",
       "\n",
       "    .dataframe tbody tr th {\n",
       "        vertical-align: top;\n",
       "    }\n",
       "\n",
       "    .dataframe thead th {\n",
       "        text-align: right;\n",
       "    }\n",
       "</style>\n",
       "<table border=\"1\" class=\"dataframe\">\n",
       "  <thead>\n",
       "    <tr style=\"text-align: right;\">\n",
       "      <th>debt</th>\n",
       "      <th>0</th>\n",
       "      <th>1</th>\n",
       "      <th>total</th>\n",
       "      <th>percent 0</th>\n",
       "      <th>percent 1</th>\n",
       "    </tr>\n",
       "    <tr>\n",
       "      <th>income_category</th>\n",
       "      <th></th>\n",
       "      <th></th>\n",
       "      <th></th>\n",
       "      <th></th>\n",
       "      <th></th>\n",
       "    </tr>\n",
       "  </thead>\n",
       "  <tbody>\n",
       "    <tr>\n",
       "      <th>15-30k</th>\n",
       "      <td>10783</td>\n",
       "      <td>1007</td>\n",
       "      <td>11790</td>\n",
       "      <td>91.5%</td>\n",
       "      <td>8.5%</td>\n",
       "    </tr>\n",
       "    <tr>\n",
       "      <th>30-45k</th>\n",
       "      <td>3755</td>\n",
       "      <td>304</td>\n",
       "      <td>4059</td>\n",
       "      <td>92.5%</td>\n",
       "      <td>7.5%</td>\n",
       "    </tr>\n",
       "    <tr>\n",
       "      <th>&lt;= 15k</th>\n",
       "      <td>3446</td>\n",
       "      <td>298</td>\n",
       "      <td>3744</td>\n",
       "      <td>92.0%</td>\n",
       "      <td>8.0%</td>\n",
       "    </tr>\n",
       "    <tr>\n",
       "      <th>45-60k</th>\n",
       "      <td>1093</td>\n",
       "      <td>94</td>\n",
       "      <td>1187</td>\n",
       "      <td>92.1%</td>\n",
       "      <td>7.9%</td>\n",
       "    </tr>\n",
       "    <tr>\n",
       "      <th>&gt; 60k</th>\n",
       "      <td>634</td>\n",
       "      <td>38</td>\n",
       "      <td>672</td>\n",
       "      <td>94.3%</td>\n",
       "      <td>5.7%</td>\n",
       "    </tr>\n",
       "  </tbody>\n",
       "</table>\n",
       "</div>"
      ],
      "text/plain": [
       "debt                 0     1  total percent 0 percent 1\n",
       "income_category                                        \n",
       "15-30k           10783  1007  11790     91.5%      8.5%\n",
       "30-45k            3755   304   4059     92.5%      7.5%\n",
       "<= 15k            3446   298   3744     92.0%      8.0%\n",
       "45-60k            1093    94   1187     92.1%      7.9%\n",
       "> 60k              634    38    672     94.3%      5.7%"
      ]
     },
     "execution_count": 84,
     "metadata": {},
     "output_type": "execute_result"
    }
   ],
   "source": [
    "# Calculate the default percentage based on income level.\n",
    "income_type_debt['total'] = income_type_debt[0] + income_type_debt[1]\n",
    "income_type_debt['percent 0'] = round(income_type_debt[0] / income_type_debt['total'] * 100, 1).astype(str) + '%'\n",
    "income_type_debt['percent 1'] = round(income_type_debt[1] / income_type_debt['total'] * 100, 1).astype(str) + '%'\n",
    "income_type_debt.sort_values(1, ascending=False)"
   ]
  },
  {
   "cell_type": "markdown",
   "metadata": {
    "id": "upRTiI3ljNDo"
   },
   "source": [
    "**Conclusion**\n",
    "\n",
    "It can be concluded that the \"> 60k\" income group has the lowest percentage of loan defaults (5.7%), followed by the \"30-45k\" (7.5%) and \"45-60k\" (7.9%) income groups. Meanwhile, the \"15-30k\" and \"<= 15k\" income groups have higher percentages of loan defaults, which are 8.5% and 8.0% respectively."
   ]
  },
  {
   "cell_type": "markdown",
   "metadata": {
    "id": "N0Qs7B8UjNDo"
   },
   "source": [
    "**How does the purpose of the loan affect the default percentage?**"
   ]
  },
  {
   "cell_type": "code",
   "execution_count": 85,
   "metadata": {},
   "outputs": [
    {
     "data": {
      "text/html": [
       "<div>\n",
       "<style scoped>\n",
       "    .dataframe tbody tr th:only-of-type {\n",
       "        vertical-align: middle;\n",
       "    }\n",
       "\n",
       "    .dataframe tbody tr th {\n",
       "        vertical-align: top;\n",
       "    }\n",
       "\n",
       "    .dataframe thead th {\n",
       "        text-align: right;\n",
       "    }\n",
       "</style>\n",
       "<table border=\"1\" class=\"dataframe\">\n",
       "  <thead>\n",
       "    <tr style=\"text-align: right;\">\n",
       "      <th>debt</th>\n",
       "      <th>0</th>\n",
       "      <th>1</th>\n",
       "    </tr>\n",
       "    <tr>\n",
       "      <th>purpose_category</th>\n",
       "      <th></th>\n",
       "      <th></th>\n",
       "    </tr>\n",
       "  </thead>\n",
       "  <tbody>\n",
       "    <tr>\n",
       "      <th>other</th>\n",
       "      <td>6474</td>\n",
       "      <td>526</td>\n",
       "    </tr>\n",
       "    <tr>\n",
       "      <th>car</th>\n",
       "      <td>3903</td>\n",
       "      <td>403</td>\n",
       "    </tr>\n",
       "    <tr>\n",
       "      <th>education</th>\n",
       "      <td>3643</td>\n",
       "      <td>370</td>\n",
       "    </tr>\n",
       "    <tr>\n",
       "      <th>housing</th>\n",
       "      <td>3553</td>\n",
       "      <td>256</td>\n",
       "    </tr>\n",
       "    <tr>\n",
       "      <th>wedding</th>\n",
       "      <td>2138</td>\n",
       "      <td>186</td>\n",
       "    </tr>\n",
       "  </tbody>\n",
       "</table>\n",
       "</div>"
      ],
      "text/plain": [
       "debt                 0    1\n",
       "purpose_category           \n",
       "other             6474  526\n",
       "car               3903  403\n",
       "education         3643  370\n",
       "housing           3553  256\n",
       "wedding           2138  186"
      ]
     },
     "execution_count": 85,
     "metadata": {},
     "output_type": "execute_result"
    }
   ],
   "source": [
    "purpose_debt = pd.pivot_table(data, index= 'purpose_category', columns= 'debt', values= 'total_income',aggfunc= 'count').fillna(0)\n",
    "\n",
    "purpose_debt = pd.pivot_table(data, index= 'purpose_category', columns= 'debt',values= 'children',aggfunc= 'count').fillna(0)\n",
    "purpose_debt.sort_values(1, ascending=False)"
   ]
  },
  {
   "cell_type": "code",
   "execution_count": 86,
   "metadata": {
    "colab": {
     "base_uri": "https://localhost:8080/",
     "height": 269
    },
    "id": "gAgBx93xjNDo",
    "outputId": "b1f4efa7-363e-4db1-b0a8-0c371923f830"
   },
   "outputs": [
    {
     "data": {
      "text/html": [
       "<div>\n",
       "<style scoped>\n",
       "    .dataframe tbody tr th:only-of-type {\n",
       "        vertical-align: middle;\n",
       "    }\n",
       "\n",
       "    .dataframe tbody tr th {\n",
       "        vertical-align: top;\n",
       "    }\n",
       "\n",
       "    .dataframe thead th {\n",
       "        text-align: right;\n",
       "    }\n",
       "</style>\n",
       "<table border=\"1\" class=\"dataframe\">\n",
       "  <thead>\n",
       "    <tr style=\"text-align: right;\">\n",
       "      <th>debt</th>\n",
       "      <th>0</th>\n",
       "      <th>1</th>\n",
       "      <th>total</th>\n",
       "      <th>percent 0</th>\n",
       "      <th>percent 1</th>\n",
       "    </tr>\n",
       "    <tr>\n",
       "      <th>purpose_category</th>\n",
       "      <th></th>\n",
       "      <th></th>\n",
       "      <th></th>\n",
       "      <th></th>\n",
       "      <th></th>\n",
       "    </tr>\n",
       "  </thead>\n",
       "  <tbody>\n",
       "    <tr>\n",
       "      <th>other</th>\n",
       "      <td>6474</td>\n",
       "      <td>526</td>\n",
       "      <td>7000</td>\n",
       "      <td>92.5%</td>\n",
       "      <td>7.5%</td>\n",
       "    </tr>\n",
       "    <tr>\n",
       "      <th>car</th>\n",
       "      <td>3903</td>\n",
       "      <td>403</td>\n",
       "      <td>4306</td>\n",
       "      <td>90.6%</td>\n",
       "      <td>9.4%</td>\n",
       "    </tr>\n",
       "    <tr>\n",
       "      <th>education</th>\n",
       "      <td>3643</td>\n",
       "      <td>370</td>\n",
       "      <td>4013</td>\n",
       "      <td>90.8%</td>\n",
       "      <td>9.2%</td>\n",
       "    </tr>\n",
       "    <tr>\n",
       "      <th>housing</th>\n",
       "      <td>3553</td>\n",
       "      <td>256</td>\n",
       "      <td>3809</td>\n",
       "      <td>93.3%</td>\n",
       "      <td>6.7%</td>\n",
       "    </tr>\n",
       "    <tr>\n",
       "      <th>wedding</th>\n",
       "      <td>2138</td>\n",
       "      <td>186</td>\n",
       "      <td>2324</td>\n",
       "      <td>92.0%</td>\n",
       "      <td>8.0%</td>\n",
       "    </tr>\n",
       "  </tbody>\n",
       "</table>\n",
       "</div>"
      ],
      "text/plain": [
       "debt                 0    1  total percent 0 percent 1\n",
       "purpose_category                                      \n",
       "other             6474  526   7000     92.5%      7.5%\n",
       "car               3903  403   4306     90.6%      9.4%\n",
       "education         3643  370   4013     90.8%      9.2%\n",
       "housing           3553  256   3809     93.3%      6.7%\n",
       "wedding           2138  186   2324     92.0%      8.0%"
      ]
     },
     "execution_count": 86,
     "metadata": {},
     "output_type": "execute_result"
    }
   ],
   "source": [
    "# Check the default percentage for each loan purpose and perform analysis.\n",
    "purpose_debt = pd.pivot_table(data, index= 'purpose_category', columns= 'debt', values= 'total_income',aggfunc= 'count').fillna(0)\n",
    "\n",
    "purpose_debt['total'] = purpose_debt[0] + purpose_debt[1]\n",
    "purpose_debt['percent 0'] = round(purpose_debt[0] / purpose_debt['total'] * 100, 1).astype(str) + '%'\n",
    "purpose_debt['percent 1'] = round(purpose_debt[1] / purpose_debt['total'] * 100, 1).astype(str) + '%'\n",
    "purpose_debt.sort_values(1, ascending=False)"
   ]
  },
  {
   "cell_type": "markdown",
   "metadata": {
    "id": "MdXYqaCWjNDp"
   },
   "source": [
    "#### **Conclusion**\n",
    "\n",
    "The loan purpose category \"housing\" has the lowest percentage of loan defaults (6.7%), followed by the \"other\" (7.5%) and \"wedding\" (8.0%) categories. Meanwhile, the \"car\" and \"education\" loan purpose categories have higher percentages of loan defaults, which are 9.4% and 9.2% respectively."
   ]
  },
  {
   "cell_type": "markdown",
   "metadata": {
    "id": "iOWMoKLWjNDp"
   },
   "source": [
    "# General Conclusion <a id='final'></a>\n",
    "\n",
    "**We've completed three stages of data analysis:**\n",
    "* Data Review\n",
    "* Data Preprocessing\n",
    "* Testing Hypotheses\n",
    "\n",
    "In the Data Review stage, we explored the distribution of customer data. We found some missing data which we then addressed in the Data Preprocessing stage. In this stage, besides filling in the missing data, we also corrected implicit duplicates in the 'purpose' and 'education' columns. The updated dataset was then used in our Testing Hypotheses stage, where we tested 4 hypotheses:\n",
    "\n",
    "1. the relationship between the number of children and loan default.\n",
    "2. whether there's a relationship between marital status and the probability of defaulting on a loan.\n",
    "3. whether an individual's income level affects loan default.\n",
    "4. whether the purpose of a loan affects the likelihood of defaulting on it.\n",
    "\n",
    "**After testing the hypotheses, we can conclude that:**\n",
    "\n",
    "1. Having more children doesn't necessarily lead to loan default.\n",
    "2. The highest increase in default occurs for those who are **never married**, namely 'unmarried' and 'civil partnership'.\n",
    "3. This hypothesis is accepted because there's an increase in default percentage for lower and lower-middle income.\n",
    "4. The loan purposes with the highest default rates are for car and education purposes."
   ]
  }
 ],
 "metadata": {
  "ExecuteTimeLog": [
   {
    "duration": 2741,
    "start_time": "2021-10-21T01:08:49.480Z"
   },
   {
    "duration": 52,
    "start_time": "2021-10-21T01:08:53.315Z"
   },
   {
    "duration": 49,
    "start_time": "2021-10-21T01:08:57.432Z"
   },
   {
    "duration": 70,
    "start_time": "2021-10-21T01:09:07.706Z"
   },
   {
    "duration": 11,
    "start_time": "2024-05-25T10:44:41.887Z"
   },
   {
    "duration": 307,
    "start_time": "2024-05-25T10:46:18.434Z"
   },
   {
    "duration": 4345,
    "start_time": "2024-05-25T11:21:31.996Z"
   },
   {
    "duration": 195,
    "start_time": "2024-05-25T11:21:41.175Z"
   },
   {
    "duration": 712,
    "start_time": "2024-05-25T11:21:51.169Z"
   },
   {
    "duration": 146,
    "start_time": "2024-05-25T11:21:51.884Z"
   },
   {
    "duration": 7,
    "start_time": "2024-05-25T11:21:52.032Z"
   },
   {
    "duration": 23,
    "start_time": "2024-05-25T11:21:52.044Z"
   },
   {
    "duration": 48,
    "start_time": "2024-05-25T11:21:52.070Z"
   },
   {
    "duration": 29,
    "start_time": "2024-05-25T11:21:52.120Z"
   },
   {
    "duration": 10,
    "start_time": "2024-05-25T11:21:52.153Z"
   },
   {
    "duration": 65,
    "start_time": "2024-05-25T11:21:52.166Z"
   },
   {
    "duration": 7,
    "start_time": "2024-05-25T11:21:52.234Z"
   },
   {
    "duration": 18,
    "start_time": "2024-05-25T11:21:52.247Z"
   },
   {
    "duration": 54,
    "start_time": "2024-05-25T11:21:52.268Z"
   },
   {
    "duration": 14,
    "start_time": "2024-05-25T11:21:52.325Z"
   },
   {
    "duration": 20,
    "start_time": "2024-05-25T11:21:52.342Z"
   },
   {
    "duration": 59,
    "start_time": "2024-05-25T11:21:52.365Z"
   },
   {
    "duration": 8,
    "start_time": "2024-05-25T11:21:52.427Z"
   },
   {
    "duration": 12,
    "start_time": "2024-05-25T11:21:52.438Z"
   },
   {
    "duration": 8,
    "start_time": "2024-05-25T11:21:52.454Z"
   },
   {
    "duration": 50,
    "start_time": "2024-05-25T11:21:52.464Z"
   },
   {
    "duration": 5,
    "start_time": "2024-05-25T11:21:52.517Z"
   },
   {
    "duration": 8,
    "start_time": "2024-05-25T11:21:52.525Z"
   },
   {
    "duration": 9,
    "start_time": "2024-05-25T11:21:52.537Z"
   },
   {
    "duration": 9,
    "start_time": "2024-05-25T11:21:52.549Z"
   },
   {
    "duration": 54,
    "start_time": "2024-05-25T11:21:52.561Z"
   },
   {
    "duration": 6,
    "start_time": "2024-05-25T11:21:52.618Z"
   },
   {
    "duration": 19,
    "start_time": "2024-05-25T11:21:52.628Z"
   },
   {
    "duration": 22,
    "start_time": "2024-05-25T11:21:52.650Z"
   },
   {
    "duration": 7,
    "start_time": "2024-05-25T11:21:52.712Z"
   },
   {
    "duration": 47,
    "start_time": "2024-05-25T11:21:52.729Z"
   },
   {
    "duration": 35,
    "start_time": "2024-05-25T11:21:52.779Z"
   },
   {
    "duration": 11,
    "start_time": "2024-05-25T11:21:52.817Z"
   },
   {
    "duration": 5,
    "start_time": "2024-05-25T11:21:52.831Z"
   },
   {
    "duration": 10,
    "start_time": "2024-05-25T11:21:52.840Z"
   },
   {
    "duration": 11,
    "start_time": "2024-05-25T11:21:52.853Z"
   },
   {
    "duration": 12,
    "start_time": "2024-05-25T11:21:52.913Z"
   },
   {
    "duration": 15,
    "start_time": "2024-05-25T11:21:52.928Z"
   },
   {
    "duration": 8,
    "start_time": "2024-05-25T11:21:52.946Z"
   },
   {
    "duration": 9,
    "start_time": "2024-05-25T11:21:52.957Z"
   },
   {
    "duration": 32,
    "start_time": "2024-05-25T11:21:53.023Z"
   },
   {
    "duration": 24,
    "start_time": "2024-05-25T11:21:53.058Z"
   },
   {
    "duration": 46,
    "start_time": "2024-05-25T11:21:53.085Z"
   },
   {
    "duration": 6,
    "start_time": "2024-05-25T11:21:53.134Z"
   },
   {
    "duration": 6,
    "start_time": "2024-05-25T11:21:53.143Z"
   },
   {
    "duration": 16,
    "start_time": "2024-05-25T11:21:53.152Z"
   },
   {
    "duration": 58,
    "start_time": "2024-05-25T11:21:53.171Z"
   },
   {
    "duration": 11,
    "start_time": "2024-05-25T11:21:53.239Z"
   },
   {
    "duration": 7,
    "start_time": "2024-05-25T11:21:53.253Z"
   },
   {
    "duration": 5,
    "start_time": "2024-05-25T11:21:53.264Z"
   },
   {
    "duration": 10,
    "start_time": "2024-05-25T11:21:53.273Z"
   },
   {
    "duration": 22,
    "start_time": "2024-05-25T11:21:53.313Z"
   },
   {
    "duration": 19,
    "start_time": "2024-05-25T11:21:53.342Z"
   },
   {
    "duration": 45,
    "start_time": "2024-05-25T11:21:53.366Z"
   },
   {
    "duration": 44,
    "start_time": "2024-05-25T11:21:53.425Z"
   },
   {
    "duration": 5,
    "start_time": "2024-05-25T11:21:53.471Z"
   },
   {
    "duration": 154,
    "start_time": "2024-05-25T11:21:53.480Z"
   },
   {
    "duration": 19,
    "start_time": "2024-05-25T11:21:53.637Z"
   },
   {
    "duration": 54,
    "start_time": "2024-05-25T11:21:53.659Z"
   },
   {
    "duration": 37,
    "start_time": "2024-05-25T11:21:53.717Z"
   },
   {
    "duration": 11,
    "start_time": "2024-05-25T11:21:53.758Z"
   },
   {
    "duration": 55,
    "start_time": "2024-05-25T11:21:53.771Z"
   },
   {
    "duration": 12,
    "start_time": "2024-05-25T11:21:53.829Z"
   },
   {
    "duration": 22,
    "start_time": "2024-05-25T11:21:53.844Z"
   },
   {
    "duration": 62,
    "start_time": "2024-05-25T11:21:53.872Z"
   },
   {
    "duration": 7,
    "start_time": "2024-05-25T11:21:53.937Z"
   },
   {
    "duration": 222,
    "start_time": "2024-05-25T11:21:53.949Z"
   },
   {
    "duration": 172,
    "start_time": "2024-05-25T11:21:54.174Z"
   },
   {
    "duration": 21,
    "start_time": "2024-05-25T11:21:54.352Z"
   },
   {
    "duration": 21,
    "start_time": "2024-05-25T11:21:54.376Z"
   },
   {
    "duration": 17,
    "start_time": "2024-05-25T11:21:54.400Z"
   },
   {
    "duration": 14,
    "start_time": "2024-05-25T11:21:54.423Z"
   },
   {
    "duration": 7,
    "start_time": "2024-05-25T11:21:54.440Z"
   },
   {
    "duration": 9,
    "start_time": "2024-05-25T11:21:54.449Z"
   },
   {
    "duration": 6,
    "start_time": "2024-05-25T11:21:54.461Z"
   },
   {
    "duration": 100,
    "start_time": "2024-05-25T11:21:54.472Z"
   },
   {
    "duration": 7,
    "start_time": "2024-05-25T11:21:54.575Z"
   },
   {
    "duration": 37,
    "start_time": "2024-05-25T11:21:54.584Z"
   },
   {
    "duration": 6,
    "start_time": "2024-05-25T11:21:54.625Z"
   },
   {
    "duration": 17,
    "start_time": "2024-05-25T11:21:54.635Z"
   },
   {
    "duration": 11,
    "start_time": "2024-05-25T11:21:54.655Z"
   },
   {
    "duration": 71,
    "start_time": "2024-05-25T11:21:54.669Z"
   },
   {
    "duration": 22,
    "start_time": "2024-05-25T11:21:54.743Z"
   },
   {
    "duration": 50,
    "start_time": "2024-05-25T11:21:54.768Z"
   },
   {
    "duration": 18,
    "start_time": "2024-05-25T11:21:54.830Z"
   },
   {
    "duration": 25,
    "start_time": "2024-05-25T11:21:54.851Z"
   },
   {
    "duration": 47,
    "start_time": "2024-05-25T11:21:54.879Z"
   },
   {
    "duration": 36,
    "start_time": "2024-05-25T11:21:54.928Z"
   },
   {
    "duration": 58,
    "start_time": "2024-05-25T11:21:54.967Z"
   },
   {
    "duration": 700,
    "start_time": "2024-05-25T11:24:04.866Z"
   },
   {
    "duration": 140,
    "start_time": "2024-05-25T11:24:05.570Z"
   },
   {
    "duration": 7,
    "start_time": "2024-05-25T11:24:05.713Z"
   },
   {
    "duration": 24,
    "start_time": "2024-05-25T11:24:05.724Z"
   },
   {
    "duration": 21,
    "start_time": "2024-05-25T11:24:05.751Z"
   },
   {
    "duration": 66,
    "start_time": "2024-05-25T11:24:05.775Z"
   },
   {
    "duration": 10,
    "start_time": "2024-05-25T11:24:05.844Z"
   },
   {
    "duration": 66,
    "start_time": "2024-05-25T11:24:05.856Z"
   },
   {
    "duration": 6,
    "start_time": "2024-05-25T11:24:05.925Z"
   },
   {
    "duration": 17,
    "start_time": "2024-05-25T11:24:05.937Z"
   },
   {
    "duration": 54,
    "start_time": "2024-05-25T11:24:05.959Z"
   },
   {
    "duration": 16,
    "start_time": "2024-05-25T11:24:06.016Z"
   },
   {
    "duration": 23,
    "start_time": "2024-05-25T11:24:06.035Z"
   },
   {
    "duration": 64,
    "start_time": "2024-05-25T11:24:06.063Z"
   },
   {
    "duration": 7,
    "start_time": "2024-05-25T11:24:06.129Z"
   },
   {
    "duration": 12,
    "start_time": "2024-05-25T11:24:06.139Z"
   },
   {
    "duration": 9,
    "start_time": "2024-05-25T11:24:06.155Z"
   },
   {
    "duration": 47,
    "start_time": "2024-05-25T11:24:06.167Z"
   },
   {
    "duration": 6,
    "start_time": "2024-05-25T11:24:06.216Z"
   },
   {
    "duration": 8,
    "start_time": "2024-05-25T11:24:06.225Z"
   },
   {
    "duration": 9,
    "start_time": "2024-05-25T11:24:06.235Z"
   },
   {
    "duration": 8,
    "start_time": "2024-05-25T11:24:06.247Z"
   },
   {
    "duration": 56,
    "start_time": "2024-05-25T11:24:06.258Z"
   },
   {
    "duration": 6,
    "start_time": "2024-05-25T11:24:06.317Z"
   },
   {
    "duration": 19,
    "start_time": "2024-05-25T11:24:06.326Z"
   },
   {
    "duration": 22,
    "start_time": "2024-05-25T11:24:06.347Z"
   },
   {
    "duration": 44,
    "start_time": "2024-05-25T11:24:06.372Z"
   },
   {
    "duration": 48,
    "start_time": "2024-05-25T11:24:06.425Z"
   },
   {
    "duration": 38,
    "start_time": "2024-05-25T11:24:06.476Z"
   },
   {
    "duration": 13,
    "start_time": "2024-05-25T11:24:06.517Z"
   },
   {
    "duration": 6,
    "start_time": "2024-05-25T11:24:06.534Z"
   },
   {
    "duration": 10,
    "start_time": "2024-05-25T11:24:06.544Z"
   },
   {
    "duration": 9,
    "start_time": "2024-05-25T11:24:06.557Z"
   },
   {
    "duration": 10,
    "start_time": "2024-05-25T11:24:06.613Z"
   },
   {
    "duration": 14,
    "start_time": "2024-05-25T11:24:06.626Z"
   },
   {
    "duration": 7,
    "start_time": "2024-05-25T11:24:06.643Z"
   },
   {
    "duration": 8,
    "start_time": "2024-05-25T11:24:06.653Z"
   },
   {
    "duration": 69,
    "start_time": "2024-05-25T11:24:06.665Z"
   },
   {
    "duration": 26,
    "start_time": "2024-05-25T11:24:06.736Z"
   },
   {
    "duration": 57,
    "start_time": "2024-05-25T11:24:06.765Z"
   },
   {
    "duration": 6,
    "start_time": "2024-05-25T11:24:06.825Z"
   },
   {
    "duration": 6,
    "start_time": "2024-05-25T11:24:06.834Z"
   },
   {
    "duration": 15,
    "start_time": "2024-05-25T11:24:06.843Z"
   },
   {
    "duration": 6,
    "start_time": "2024-05-25T11:24:06.861Z"
   },
   {
    "duration": 47,
    "start_time": "2024-05-25T11:24:06.870Z"
   },
   {
    "duration": 7,
    "start_time": "2024-05-25T11:24:06.921Z"
   },
   {
    "duration": 4,
    "start_time": "2024-05-25T11:24:06.931Z"
   },
   {
    "duration": 11,
    "start_time": "2024-05-25T11:24:06.938Z"
   },
   {
    "duration": 8,
    "start_time": "2024-05-25T11:24:06.952Z"
   },
   {
    "duration": 54,
    "start_time": "2024-05-25T11:24:06.963Z"
   },
   {
    "duration": 26,
    "start_time": "2024-05-25T11:24:07.019Z"
   },
   {
    "duration": 26,
    "start_time": "2024-05-25T11:24:07.048Z"
   },
   {
    "duration": 38,
    "start_time": "2024-05-25T11:24:07.077Z"
   },
   {
    "duration": 115,
    "start_time": "2024-05-25T11:24:07.118Z"
   },
   {
    "duration": 14,
    "start_time": "2024-05-25T11:24:07.235Z"
   },
   {
    "duration": 17,
    "start_time": "2024-05-25T11:24:07.252Z"
   },
   {
    "duration": 48,
    "start_time": "2024-05-25T11:24:07.273Z"
   },
   {
    "duration": 10,
    "start_time": "2024-05-25T11:24:07.323Z"
   },
   {
    "duration": 14,
    "start_time": "2024-05-25T11:24:07.335Z"
   },
   {
    "duration": 10,
    "start_time": "2024-05-25T11:24:07.351Z"
   },
   {
    "duration": 63,
    "start_time": "2024-05-25T11:24:07.365Z"
   },
   {
    "duration": 20,
    "start_time": "2024-05-25T11:24:07.431Z"
   },
   {
    "duration": 5,
    "start_time": "2024-05-25T11:24:07.454Z"
   },
   {
    "duration": 186,
    "start_time": "2024-05-25T11:24:07.463Z"
   },
   {
    "duration": 161,
    "start_time": "2024-05-25T11:24:07.652Z"
   },
   {
    "duration": 7,
    "start_time": "2024-05-25T11:24:07.817Z"
   },
   {
    "duration": 15,
    "start_time": "2024-05-25T11:24:07.827Z"
   },
   {
    "duration": 6,
    "start_time": "2024-05-25T11:24:07.844Z"
   },
   {
    "duration": 58,
    "start_time": "2024-05-25T11:24:07.854Z"
   },
   {
    "duration": 6,
    "start_time": "2024-05-25T11:24:07.914Z"
   },
   {
    "duration": 8,
    "start_time": "2024-05-25T11:24:07.929Z"
   },
   {
    "duration": 6,
    "start_time": "2024-05-25T11:24:07.939Z"
   },
   {
    "duration": 89,
    "start_time": "2024-05-25T11:24:07.947Z"
   },
   {
    "duration": 7,
    "start_time": "2024-05-25T11:24:08.039Z"
   },
   {
    "duration": 12,
    "start_time": "2024-05-25T11:24:08.049Z"
   },
   {
    "duration": 8,
    "start_time": "2024-05-25T11:24:08.063Z"
   },
   {
    "duration": 46,
    "start_time": "2024-05-25T11:24:08.073Z"
   },
   {
    "duration": 10,
    "start_time": "2024-05-25T11:24:08.121Z"
   },
   {
    "duration": 28,
    "start_time": "2024-05-25T11:24:08.134Z"
   },
   {
    "duration": 54,
    "start_time": "2024-05-25T11:24:08.165Z"
   },
   {
    "duration": 23,
    "start_time": "2024-05-25T11:24:08.222Z"
   },
   {
    "duration": 18,
    "start_time": "2024-05-25T11:24:08.256Z"
   },
   {
    "duration": 54,
    "start_time": "2024-05-25T11:24:08.277Z"
   },
   {
    "duration": 30,
    "start_time": "2024-05-25T11:24:08.334Z"
   },
   {
    "duration": 61,
    "start_time": "2024-05-25T11:24:08.367Z"
   },
   {
    "duration": 30,
    "start_time": "2024-05-25T11:24:08.431Z"
   }
  ],
  "colab": {
   "provenance": []
  },
  "kernelspec": {
   "display_name": "Python 3 (ipykernel)",
   "language": "python",
   "name": "python3"
  },
  "language_info": {
   "codemirror_mode": {
    "name": "ipython",
    "version": 3
   },
   "file_extension": ".py",
   "mimetype": "text/x-python",
   "name": "python",
   "nbconvert_exporter": "python",
   "pygments_lexer": "ipython3",
   "version": "3.9.19"
  },
  "toc": {
   "base_numbering": 1,
   "nav_menu": {},
   "number_sections": true,
   "sideBar": true,
   "skip_h1_title": true,
   "title_cell": "Table of Contents",
   "title_sidebar": "Contents",
   "toc_cell": false,
   "toc_position": {
    "height": "calc(100% - 180px)",
    "left": "10px",
    "top": "150px",
    "width": "322px"
   },
   "toc_section_display": true,
   "toc_window_display": true
  },
  "vscode": {
   "interpreter": {
    "hash": "ef1728426330606e01c1da091626d7dbd7604032247e9790b44969d857c4f729"
   }
  }
 },
 "nbformat": 4,
 "nbformat_minor": 1
}
